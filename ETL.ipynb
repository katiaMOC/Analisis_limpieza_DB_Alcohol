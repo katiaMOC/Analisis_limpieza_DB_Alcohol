{
 "cells": [
  {
   "cell_type": "code",
   "execution_count": 120,
   "metadata": {},
   "outputs": [],
   "source": [
    "import pandas as pd\n",
    "import pyreadstat\n",
    "from collections import Counter\n"
   ]
  },
  {
   "cell_type": "code",
   "execution_count": 3,
   "metadata": {},
   "outputs": [],
   "source": [
    "df = pd.read_spss('BBDD Alcohol.sav')"
   ]
  },
  {
   "cell_type": "code",
   "execution_count": 4,
   "metadata": {},
   "outputs": [
    {
     "data": {
      "text/html": [
       "<div>\n",
       "<style scoped>\n",
       "    .dataframe tbody tr th:only-of-type {\n",
       "        vertical-align: middle;\n",
       "    }\n",
       "\n",
       "    .dataframe tbody tr th {\n",
       "        vertical-align: top;\n",
       "    }\n",
       "\n",
       "    .dataframe thead th {\n",
       "        text-align: right;\n",
       "    }\n",
       "</style>\n",
       "<table border=\"1\" class=\"dataframe\">\n",
       "  <thead>\n",
       "    <tr style=\"text-align: right;\">\n",
       "      <th></th>\n",
       "      <th>caso</th>\n",
       "      <th>FILTRO_A</th>\n",
       "      <th>FILTRO_B</th>\n",
       "      <th>FILTRO_C</th>\n",
       "      <th>FILTRO_C2</th>\n",
       "      <th>NSE</th>\n",
       "      <th>NSE2</th>\n",
       "      <th>P1</th>\n",
       "      <th>P2</th>\n",
       "      <th>LIMAS</th>\n",
       "      <th>...</th>\n",
       "      <th>P34_4</th>\n",
       "      <th>P34_5</th>\n",
       "      <th>P34_6</th>\n",
       "      <th>P34_7</th>\n",
       "      <th>P34_8</th>\n",
       "      <th>P34_NR</th>\n",
       "      <th>p159v1</th>\n",
       "      <th>vpond</th>\n",
       "      <th>VPOND1</th>\n",
       "      <th>VPOND2</th>\n",
       "    </tr>\n",
       "  </thead>\n",
       "  <tbody>\n",
       "    <tr>\n",
       "      <th>0</th>\n",
       "      <td>1.0</td>\n",
       "      <td>No</td>\n",
       "      <td>Sí</td>\n",
       "      <td>39.0</td>\n",
       "      <td>36 a 45 años [36-45</td>\n",
       "      <td>NSE C1</td>\n",
       "      <td>C1</td>\n",
       "      <td>Masculino</td>\n",
       "      <td>San Juan de Lurigancho</td>\n",
       "      <td>LIMA ESTE</td>\n",
       "      <td>...</td>\n",
       "      <td></td>\n",
       "      <td>3</td>\n",
       "      <td></td>\n",
       "      <td></td>\n",
       "      <td>1</td>\n",
       "      <td></td>\n",
       "      <td>7</td>\n",
       "      <td>1.0</td>\n",
       "      <td>1.297614</td>\n",
       "      <td>1.111111</td>\n",
       "    </tr>\n",
       "    <tr>\n",
       "      <th>1</th>\n",
       "      <td>2.0</td>\n",
       "      <td>No</td>\n",
       "      <td>Sí</td>\n",
       "      <td>41.0</td>\n",
       "      <td>36 a 45 años [36-45</td>\n",
       "      <td>NSE C1</td>\n",
       "      <td>C1</td>\n",
       "      <td>Masculino</td>\n",
       "      <td>San Juan de Lurigancho</td>\n",
       "      <td>LIMA ESTE</td>\n",
       "      <td>...</td>\n",
       "      <td></td>\n",
       "      <td>1 botella</td>\n",
       "      <td></td>\n",
       "      <td></td>\n",
       "      <td></td>\n",
       "      <td></td>\n",
       "      <td>8</td>\n",
       "      <td>1.0</td>\n",
       "      <td>1.297614</td>\n",
       "      <td>1.111111</td>\n",
       "    </tr>\n",
       "    <tr>\n",
       "      <th>2</th>\n",
       "      <td>3.0</td>\n",
       "      <td>No</td>\n",
       "      <td>Sí</td>\n",
       "      <td>43.0</td>\n",
       "      <td>36 a 45 años [36-45</td>\n",
       "      <td>NSE C1</td>\n",
       "      <td>C1</td>\n",
       "      <td>Masculino</td>\n",
       "      <td>San Juan de Lurigancho</td>\n",
       "      <td>LIMA ESTE</td>\n",
       "      <td>...</td>\n",
       "      <td></td>\n",
       "      <td>1</td>\n",
       "      <td></td>\n",
       "      <td></td>\n",
       "      <td></td>\n",
       "      <td></td>\n",
       "      <td>9</td>\n",
       "      <td>1.0</td>\n",
       "      <td>1.297614</td>\n",
       "      <td>1.111111</td>\n",
       "    </tr>\n",
       "    <tr>\n",
       "      <th>3</th>\n",
       "      <td>4.0</td>\n",
       "      <td>No</td>\n",
       "      <td>Sí</td>\n",
       "      <td>51.0</td>\n",
       "      <td>46 a 55 años [46-55</td>\n",
       "      <td>NSE B2</td>\n",
       "      <td>B2</td>\n",
       "      <td>Masculino</td>\n",
       "      <td>Comas</td>\n",
       "      <td>LIMA ESTE</td>\n",
       "      <td>...</td>\n",
       "      <td></td>\n",
       "      <td></td>\n",
       "      <td></td>\n",
       "      <td>1</td>\n",
       "      <td></td>\n",
       "      <td></td>\n",
       "      <td>10</td>\n",
       "      <td>1.0</td>\n",
       "      <td>0.893146</td>\n",
       "      <td>0.933333</td>\n",
       "    </tr>\n",
       "    <tr>\n",
       "      <th>4</th>\n",
       "      <td>5.0</td>\n",
       "      <td>No</td>\n",
       "      <td>Sí</td>\n",
       "      <td>51.0</td>\n",
       "      <td>46 a 55 años [46-55</td>\n",
       "      <td>NSE C1</td>\n",
       "      <td>C1</td>\n",
       "      <td>Femenino</td>\n",
       "      <td>Lima</td>\n",
       "      <td>LIMA CENTRO</td>\n",
       "      <td>...</td>\n",
       "      <td></td>\n",
       "      <td>1</td>\n",
       "      <td></td>\n",
       "      <td>1</td>\n",
       "      <td></td>\n",
       "      <td></td>\n",
       "      <td>11</td>\n",
       "      <td>1.0</td>\n",
       "      <td>1.183471</td>\n",
       "      <td>1.230769</td>\n",
       "    </tr>\n",
       "  </tbody>\n",
       "</table>\n",
       "<p>5 rows × 242 columns</p>\n",
       "</div>"
      ],
      "text/plain": [
       "   caso FILTRO_A FILTRO_B  FILTRO_C            FILTRO_C2     NSE NSE2  \\\n",
       "0   1.0       No       Sí      39.0  36 a 45 años [36-45  NSE C1   C1   \n",
       "1   2.0       No       Sí      41.0  36 a 45 años [36-45  NSE C1   C1   \n",
       "2   3.0       No       Sí      43.0  36 a 45 años [36-45  NSE C1   C1   \n",
       "3   4.0       No       Sí      51.0  46 a 55 años [46-55  NSE B2   B2   \n",
       "4   5.0       No       Sí      51.0  46 a 55 años [46-55  NSE C1   C1   \n",
       "\n",
       "          P1                      P2        LIMAS  ... P34_4      P34_5 P34_6  \\\n",
       "0  Masculino  San Juan de Lurigancho    LIMA ESTE  ...                3         \n",
       "1  Masculino  San Juan de Lurigancho    LIMA ESTE  ...        1 botella         \n",
       "2  Masculino  San Juan de Lurigancho    LIMA ESTE  ...                1         \n",
       "3  Masculino                   Comas    LIMA ESTE  ...                          \n",
       "4   Femenino                    Lima  LIMA CENTRO  ...                1         \n",
       "\n",
       "  P34_7 P34_8 P34_NR p159v1 vpond    VPOND1    VPOND2  \n",
       "0           1             7   1.0  1.297614  1.111111  \n",
       "1                         8   1.0  1.297614  1.111111  \n",
       "2                         9   1.0  1.297614  1.111111  \n",
       "3     1                  10   1.0  0.893146  0.933333  \n",
       "4     1                  11   1.0  1.183471  1.230769  \n",
       "\n",
       "[5 rows x 242 columns]"
      ]
     },
     "execution_count": 4,
     "metadata": {},
     "output_type": "execute_result"
    }
   ],
   "source": [
    "df.head(5)"
   ]
  },
  {
   "cell_type": "markdown",
   "metadata": {},
   "source": [
    "# Primera parte que son los `FILTROS`"
   ]
  },
  {
   "cell_type": "code",
   "execution_count": 5,
   "metadata": {},
   "outputs": [
    {
     "data": {
      "text/html": [
       "<div>\n",
       "<style scoped>\n",
       "    .dataframe tbody tr th:only-of-type {\n",
       "        vertical-align: middle;\n",
       "    }\n",
       "\n",
       "    .dataframe tbody tr th {\n",
       "        vertical-align: top;\n",
       "    }\n",
       "\n",
       "    .dataframe thead th {\n",
       "        text-align: right;\n",
       "    }\n",
       "</style>\n",
       "<table border=\"1\" class=\"dataframe\">\n",
       "  <thead>\n",
       "    <tr style=\"text-align: right;\">\n",
       "      <th></th>\n",
       "      <th>caso</th>\n",
       "      <th>FILTRO_A</th>\n",
       "      <th>FILTRO_B</th>\n",
       "      <th>FILTRO_C</th>\n",
       "      <th>FILTRO_C2</th>\n",
       "      <th>NSE</th>\n",
       "      <th>NSE2</th>\n",
       "    </tr>\n",
       "  </thead>\n",
       "  <tbody>\n",
       "    <tr>\n",
       "      <th>0</th>\n",
       "      <td>1.0</td>\n",
       "      <td>No</td>\n",
       "      <td>Sí</td>\n",
       "      <td>39.0</td>\n",
       "      <td>36 a 45 años [36-45</td>\n",
       "      <td>NSE C1</td>\n",
       "      <td>C1</td>\n",
       "    </tr>\n",
       "    <tr>\n",
       "      <th>1</th>\n",
       "      <td>2.0</td>\n",
       "      <td>No</td>\n",
       "      <td>Sí</td>\n",
       "      <td>41.0</td>\n",
       "      <td>36 a 45 años [36-45</td>\n",
       "      <td>NSE C1</td>\n",
       "      <td>C1</td>\n",
       "    </tr>\n",
       "    <tr>\n",
       "      <th>2</th>\n",
       "      <td>3.0</td>\n",
       "      <td>No</td>\n",
       "      <td>Sí</td>\n",
       "      <td>43.0</td>\n",
       "      <td>36 a 45 años [36-45</td>\n",
       "      <td>NSE C1</td>\n",
       "      <td>C1</td>\n",
       "    </tr>\n",
       "    <tr>\n",
       "      <th>3</th>\n",
       "      <td>4.0</td>\n",
       "      <td>No</td>\n",
       "      <td>Sí</td>\n",
       "      <td>51.0</td>\n",
       "      <td>46 a 55 años [46-55</td>\n",
       "      <td>NSE B2</td>\n",
       "      <td>B2</td>\n",
       "    </tr>\n",
       "    <tr>\n",
       "      <th>4</th>\n",
       "      <td>5.0</td>\n",
       "      <td>No</td>\n",
       "      <td>Sí</td>\n",
       "      <td>51.0</td>\n",
       "      <td>46 a 55 años [46-55</td>\n",
       "      <td>NSE C1</td>\n",
       "      <td>C1</td>\n",
       "    </tr>\n",
       "    <tr>\n",
       "      <th>...</th>\n",
       "      <td>...</td>\n",
       "      <td>...</td>\n",
       "      <td>...</td>\n",
       "      <td>...</td>\n",
       "      <td>...</td>\n",
       "      <td>...</td>\n",
       "      <td>...</td>\n",
       "    </tr>\n",
       "    <tr>\n",
       "      <th>295</th>\n",
       "      <td>296.0</td>\n",
       "      <td>No</td>\n",
       "      <td>Sí</td>\n",
       "      <td>52.0</td>\n",
       "      <td>46 a 55 años [46-55</td>\n",
       "      <td>NSE B1</td>\n",
       "      <td>B1</td>\n",
       "    </tr>\n",
       "    <tr>\n",
       "      <th>296</th>\n",
       "      <td>297.0</td>\n",
       "      <td>No</td>\n",
       "      <td>Sí</td>\n",
       "      <td>39.0</td>\n",
       "      <td>36 a 45 años [36-45</td>\n",
       "      <td>NSE D</td>\n",
       "      <td>D</td>\n",
       "    </tr>\n",
       "    <tr>\n",
       "      <th>297</th>\n",
       "      <td>298.0</td>\n",
       "      <td>No</td>\n",
       "      <td>Sí</td>\n",
       "      <td>36.0</td>\n",
       "      <td>36 a 45 años [36-45</td>\n",
       "      <td>NSE D</td>\n",
       "      <td>D</td>\n",
       "    </tr>\n",
       "    <tr>\n",
       "      <th>298</th>\n",
       "      <td>299.0</td>\n",
       "      <td>No</td>\n",
       "      <td>Sí</td>\n",
       "      <td>42.0</td>\n",
       "      <td>36 a 45 años [36-45</td>\n",
       "      <td>NSE D</td>\n",
       "      <td>D</td>\n",
       "    </tr>\n",
       "    <tr>\n",
       "      <th>299</th>\n",
       "      <td>300.0</td>\n",
       "      <td>No</td>\n",
       "      <td>Sí</td>\n",
       "      <td>30.0</td>\n",
       "      <td>25 a 35 años [25-35</td>\n",
       "      <td>NSE D</td>\n",
       "      <td>D</td>\n",
       "    </tr>\n",
       "  </tbody>\n",
       "</table>\n",
       "<p>300 rows × 7 columns</p>\n",
       "</div>"
      ],
      "text/plain": [
       "      caso FILTRO_A FILTRO_B  FILTRO_C            FILTRO_C2     NSE NSE2\n",
       "0      1.0       No       Sí      39.0  36 a 45 años [36-45  NSE C1   C1\n",
       "1      2.0       No       Sí      41.0  36 a 45 años [36-45  NSE C1   C1\n",
       "2      3.0       No       Sí      43.0  36 a 45 años [36-45  NSE C1   C1\n",
       "3      4.0       No       Sí      51.0  46 a 55 años [46-55  NSE B2   B2\n",
       "4      5.0       No       Sí      51.0  46 a 55 años [46-55  NSE C1   C1\n",
       "..     ...      ...      ...       ...                  ...     ...  ...\n",
       "295  296.0       No       Sí      52.0  46 a 55 años [46-55  NSE B1   B1\n",
       "296  297.0       No       Sí      39.0  36 a 45 años [36-45   NSE D    D\n",
       "297  298.0       No       Sí      36.0  36 a 45 años [36-45   NSE D    D\n",
       "298  299.0       No       Sí      42.0  36 a 45 años [36-45   NSE D    D\n",
       "299  300.0       No       Sí      30.0  25 a 35 años [25-35   NSE D    D\n",
       "\n",
       "[300 rows x 7 columns]"
      ]
     },
     "execution_count": 5,
     "metadata": {},
     "output_type": "execute_result"
    }
   ],
   "source": [
    "filtros = df.iloc[:, :7]\n",
    "\n",
    "filtros"
   ]
  },
  {
   "cell_type": "markdown",
   "metadata": {},
   "source": [
    "Verficamos la columna `FILTRO_A`\n",
    "\n",
    "Se puede ver todas las respuestas fueron ``no``"
   ]
  },
  {
   "cell_type": "code",
   "execution_count": 6,
   "metadata": {},
   "outputs": [
    {
     "data": {
      "text/plain": [
       "['No']\n",
       "Categories (1, object): ['No']"
      ]
     },
     "execution_count": 6,
     "metadata": {},
     "output_type": "execute_result"
    }
   ],
   "source": [
    "df['FILTRO_A'].unique()"
   ]
  },
  {
   "cell_type": "markdown",
   "metadata": {},
   "source": [
    "Verficamos la columna `FILTRO_B`\n",
    "\n",
    "Se puede ver todas las respuestas fueron ``si`"
   ]
  },
  {
   "cell_type": "code",
   "execution_count": 7,
   "metadata": {},
   "outputs": [
    {
     "data": {
      "text/plain": [
       "['Sí']\n",
       "Categories (1, object): ['Sí']"
      ]
     },
     "execution_count": 7,
     "metadata": {},
     "output_type": "execute_result"
    }
   ],
   "source": [
    "df['FILTRO_B'].unique()"
   ]
  },
  {
   "cell_type": "markdown",
   "metadata": {},
   "source": [
    "Verficamos la columna `FILTRO_C`, el cual es la edad de los encuestados. \n",
    "\n",
    "Veremos los datos estadísticos de edades de los encuestados. \n",
    "\n",
    "* count   -> 300.000000 -> Tenemos un total de 300 usuarios. \n",
    "* media ->     38.233333 -> la edad promedio de los encuestados es de 38 años. \n",
    "* desviación estándar ->     10.604736\n",
    "* mínimo   ->    18.000000 -> edad mínima de los encuestados. \n",
    "* 25%   ->    29.000000 \n",
    "* 50%    ->   39.000000\n",
    "* 75%  ->     46.000000\n",
    "* máximo   ->    62.000000 -> edad maxima de los encuestados. "
   ]
  },
  {
   "cell_type": "code",
   "execution_count": 8,
   "metadata": {},
   "outputs": [
    {
     "data": {
      "text/plain": [
       "array([39., 41., 43., 51., 33., 50., 24., 22., 40., 54., 38., 28., 35.,\n",
       "       31., 32., 49., 26., 56., 21., 27., 62., 55., 37., 36., 34., 29.,\n",
       "       60., 20., 45., 42., 58., 46., 30., 53., 25., 47., 52., 48., 19.,\n",
       "       44., 18., 23., 61.])"
      ]
     },
     "execution_count": 8,
     "metadata": {},
     "output_type": "execute_result"
    }
   ],
   "source": [
    "df['FILTRO_C'].unique()"
   ]
  },
  {
   "cell_type": "code",
   "execution_count": 9,
   "metadata": {},
   "outputs": [
    {
     "data": {
      "text/plain": [
       "0      39\n",
       "1      41\n",
       "2      43\n",
       "3      51\n",
       "4      51\n",
       "       ..\n",
       "295    52\n",
       "296    39\n",
       "297    36\n",
       "298    42\n",
       "299    30\n",
       "Name: FILTRO_C, Length: 300, dtype: int32"
      ]
     },
     "execution_count": 9,
     "metadata": {},
     "output_type": "execute_result"
    }
   ],
   "source": [
    "#cambiamos el tipo de dato a entero\n",
    "df['FILTRO_C'].astype(int)"
   ]
  },
  {
   "cell_type": "code",
   "execution_count": 10,
   "metadata": {},
   "outputs": [
    {
     "data": {
      "text/plain": [
       "count    300.000000\n",
       "mean      38.233333\n",
       "std       10.604736\n",
       "min       18.000000\n",
       "25%       29.000000\n",
       "50%       39.000000\n",
       "75%       46.000000\n",
       "max       62.000000\n",
       "Name: FILTRO_C, dtype: float64"
      ]
     },
     "execution_count": 10,
     "metadata": {},
     "output_type": "execute_result"
    }
   ],
   "source": [
    "#Ahora veremos los datos estadisticos que se obtiene de las edades de los encuestados \n",
    "df['FILTRO_C'].describe()"
   ]
  },
  {
   "cell_type": "code",
   "execution_count": 11,
   "metadata": {},
   "outputs": [
    {
     "data": {
      "text/plain": [
       "['36 a 45 años [36-45', '46 a 55 años [46-55', '25 a 35 años [25-35', '18 a 24 años [18-24', '56 a 65 años  [56-65']\n",
       "Categories (5, object): ['18 a 24 años [18-24', '25 a 35 años [25-35', '36 a 45 años [36-45', '46 a 55 años [46-55', '56 a 65 años  [56-65']"
      ]
     },
     "execution_count": 11,
     "metadata": {},
     "output_type": "execute_result"
    }
   ],
   "source": [
    "#verificamos datos unicos \n",
    "df['FILTRO_C2'].unique()"
   ]
  },
  {
   "cell_type": "markdown",
   "metadata": {},
   "source": [
    "Reducimos el rango de edades a una version mas resumida, por ejemplo:\n",
    " ``'36 a 45 años [36-45'`` -> ``'36 a 45 años'``"
   ]
  },
  {
   "cell_type": "code",
   "execution_count": 12,
   "metadata": {},
   "outputs": [],
   "source": [
    "df['FILTRO_C2'] =df['FILTRO_C2'].apply(lambda x: x[:12])"
   ]
  },
  {
   "cell_type": "markdown",
   "metadata": {},
   "source": [
    "# Segundo apartado `DATOS DEL PERFIL`"
   ]
  },
  {
   "cell_type": "code",
   "execution_count": 13,
   "metadata": {},
   "outputs": [
    {
     "data": {
      "text/html": [
       "<div>\n",
       "<style scoped>\n",
       "    .dataframe tbody tr th:only-of-type {\n",
       "        vertical-align: middle;\n",
       "    }\n",
       "\n",
       "    .dataframe tbody tr th {\n",
       "        vertical-align: top;\n",
       "    }\n",
       "\n",
       "    .dataframe thead th {\n",
       "        text-align: right;\n",
       "    }\n",
       "</style>\n",
       "<table border=\"1\" class=\"dataframe\">\n",
       "  <thead>\n",
       "    <tr style=\"text-align: right;\">\n",
       "      <th></th>\n",
       "      <th>P1</th>\n",
       "      <th>P2</th>\n",
       "      <th>LIMAS</th>\n",
       "      <th>P3</th>\n",
       "    </tr>\n",
       "  </thead>\n",
       "  <tbody>\n",
       "    <tr>\n",
       "      <th>0</th>\n",
       "      <td>Masculino</td>\n",
       "      <td>San Juan de Lurigancho</td>\n",
       "      <td>LIMA ESTE</td>\n",
       "      <td>Trabajador dependiente</td>\n",
       "    </tr>\n",
       "    <tr>\n",
       "      <th>1</th>\n",
       "      <td>Masculino</td>\n",
       "      <td>San Juan de Lurigancho</td>\n",
       "      <td>LIMA ESTE</td>\n",
       "      <td>Trabajador dependiente</td>\n",
       "    </tr>\n",
       "    <tr>\n",
       "      <th>2</th>\n",
       "      <td>Masculino</td>\n",
       "      <td>San Juan de Lurigancho</td>\n",
       "      <td>LIMA ESTE</td>\n",
       "      <td>Trabajador dependiente</td>\n",
       "    </tr>\n",
       "    <tr>\n",
       "      <th>3</th>\n",
       "      <td>Masculino</td>\n",
       "      <td>Comas</td>\n",
       "      <td>LIMA ESTE</td>\n",
       "      <td>Trabajador dependiente</td>\n",
       "    </tr>\n",
       "    <tr>\n",
       "      <th>4</th>\n",
       "      <td>Femenino</td>\n",
       "      <td>Lima</td>\n",
       "      <td>LIMA CENTRO</td>\n",
       "      <td>Trabajador independiente</td>\n",
       "    </tr>\n",
       "    <tr>\n",
       "      <th>...</th>\n",
       "      <td>...</td>\n",
       "      <td>...</td>\n",
       "      <td>...</td>\n",
       "      <td>...</td>\n",
       "    </tr>\n",
       "    <tr>\n",
       "      <th>295</th>\n",
       "      <td>Masculino</td>\n",
       "      <td>Villa el Salvador</td>\n",
       "      <td>LIMA SUR</td>\n",
       "      <td>Trabajador independiente</td>\n",
       "    </tr>\n",
       "    <tr>\n",
       "      <th>296</th>\n",
       "      <td>Femenino</td>\n",
       "      <td>San Juan de Lurigancho</td>\n",
       "      <td>LIMA ESTE</td>\n",
       "      <td>Su casa</td>\n",
       "    </tr>\n",
       "    <tr>\n",
       "      <th>297</th>\n",
       "      <td>Femenino</td>\n",
       "      <td>Callao</td>\n",
       "      <td>CALLAO</td>\n",
       "      <td>Su casa</td>\n",
       "    </tr>\n",
       "    <tr>\n",
       "      <th>298</th>\n",
       "      <td>Masculino</td>\n",
       "      <td>Lima</td>\n",
       "      <td>LIMA CENTRO</td>\n",
       "      <td>Trabajador independiente</td>\n",
       "    </tr>\n",
       "    <tr>\n",
       "      <th>299</th>\n",
       "      <td>Femenino</td>\n",
       "      <td>Carabayllo</td>\n",
       "      <td>LIMA NORTE</td>\n",
       "      <td>Su casa</td>\n",
       "    </tr>\n",
       "  </tbody>\n",
       "</table>\n",
       "<p>300 rows × 4 columns</p>\n",
       "</div>"
      ],
      "text/plain": [
       "            P1                      P2        LIMAS                        P3\n",
       "0    Masculino  San Juan de Lurigancho    LIMA ESTE    Trabajador dependiente\n",
       "1    Masculino  San Juan de Lurigancho    LIMA ESTE    Trabajador dependiente\n",
       "2    Masculino  San Juan de Lurigancho    LIMA ESTE    Trabajador dependiente\n",
       "3    Masculino                   Comas    LIMA ESTE    Trabajador dependiente\n",
       "4     Femenino                    Lima  LIMA CENTRO  Trabajador independiente\n",
       "..         ...                     ...          ...                       ...\n",
       "295  Masculino       Villa el Salvador     LIMA SUR  Trabajador independiente\n",
       "296   Femenino  San Juan de Lurigancho    LIMA ESTE                   Su casa\n",
       "297   Femenino                  Callao       CALLAO                   Su casa\n",
       "298  Masculino                    Lima  LIMA CENTRO  Trabajador independiente\n",
       "299   Femenino              Carabayllo   LIMA NORTE                   Su casa\n",
       "\n",
       "[300 rows x 4 columns]"
      ]
     },
     "execution_count": 13,
     "metadata": {},
     "output_type": "execute_result"
    }
   ],
   "source": [
    "datos_perfil = df.iloc[:, 7:11]\n",
    "\n",
    "datos_perfil"
   ]
  },
  {
   "cell_type": "markdown",
   "metadata": {},
   "source": [
    "Verificamos los datos unicos en la columna, y como era de esperarse solo existen dos categorias masculino y femenino. "
   ]
  },
  {
   "cell_type": "code",
   "execution_count": 14,
   "metadata": {},
   "outputs": [
    {
     "data": {
      "text/plain": [
       "['Masculino', 'Femenino']\n",
       "Categories (2, object): ['Femenino', 'Masculino']"
      ]
     },
     "execution_count": 14,
     "metadata": {},
     "output_type": "execute_result"
    }
   ],
   "source": [
    "df['P1'].unique()"
   ]
  },
  {
   "cell_type": "code",
   "execution_count": 15,
   "metadata": {},
   "outputs": [
    {
     "data": {
      "text/plain": [
       "['San Juan de Lurigancho', 'Comas', 'Lima', 'Villa María del Triunfo', 'Los Olivos', ..., 'Rímac', 'Carmen de la Legua', 'Surquillo', 'San Luis', 'La Perla']\n",
       "Length: 36\n",
       "Categories (36, object): ['Ate', 'Breña', 'Callao', 'Carabayllo', ..., 'Surquillo', 'Ventanilla', 'Villa María del Triunfo', 'Villa el Salvador']"
      ]
     },
     "execution_count": 15,
     "metadata": {},
     "output_type": "execute_result"
    }
   ],
   "source": [
    "df['P2'].unique()"
   ]
  },
  {
   "cell_type": "markdown",
   "metadata": {},
   "source": [
    "Eliminaremos la columna ´LIMAS´, debido a que no se encuentra en el formulario, por ahora se considera irrelevante. "
   ]
  },
  {
   "cell_type": "code",
   "execution_count": 16,
   "metadata": {},
   "outputs": [],
   "source": [
    "df = df.drop('LIMAS', axis=1)"
   ]
  },
  {
   "cell_type": "markdown",
   "metadata": {},
   "source": [
    "Verfificamos los datos unicos de la columna `P3` el cual es la ocupacion de los encuestados. \n",
    "\n",
    "Se puede ver que hay ocho categorias, por lo tanto no hay datos nulos. \n",
    "\n",
    "Ahora veremos los datos estadisticos:\n",
    "* Total ->                         300\n",
    "* unique ->                          8\n",
    "* top    ->   Trabajador independiente\n",
    "* freq  ->                         134\n",
    "\n",
    "\n",
    "Se puede ver que la mayoria de encuestados con trabajadores independientes. \n"
   ]
  },
  {
   "cell_type": "code",
   "execution_count": 17,
   "metadata": {},
   "outputs": [
    {
     "data": {
      "text/plain": [
       "['Trabajador dependiente', 'Trabajador independiente', 'Su casa', 'Eventual / cachuelos', 'Desempleado', 'Estudia', 'Jubilado', 'Sus rentas']\n",
       "Categories (8, object): ['Desempleado', 'Estudia', 'Eventual / cachuelos', 'Jubilado', 'Su casa', 'Sus rentas', 'Trabajador dependiente', 'Trabajador independiente']"
      ]
     },
     "execution_count": 17,
     "metadata": {},
     "output_type": "execute_result"
    }
   ],
   "source": [
    "df['P3'].unique()"
   ]
  },
  {
   "cell_type": "code",
   "execution_count": 18,
   "metadata": {},
   "outputs": [
    {
     "data": {
      "text/plain": [
       "count                          300\n",
       "unique                           8\n",
       "top       Trabajador independiente\n",
       "freq                           134\n",
       "Name: P3, dtype: object"
      ]
     },
     "execution_count": 18,
     "metadata": {},
     "output_type": "execute_result"
    }
   ],
   "source": [
    "df['P3'].describe()"
   ]
  },
  {
   "cell_type": "code",
   "execution_count": 19,
   "metadata": {},
   "outputs": [
    {
     "data": {
      "text/plain": [
       "P3\n",
       "Trabajador independiente    134\n",
       "Su casa                      81\n",
       "Trabajador dependiente       67\n",
       "Eventual / cachuelos         10\n",
       "Desempleado                   3\n",
       "Estudia                       3\n",
       "Jubilado                      1\n",
       "Sus rentas                    1\n",
       "Name: count, dtype: int64"
      ]
     },
     "execution_count": 19,
     "metadata": {},
     "output_type": "execute_result"
    }
   ],
   "source": [
    "df['P3'].value_counts()"
   ]
  },
  {
   "cell_type": "markdown",
   "metadata": {},
   "source": [
    "# Tercer apartado `HABITOS DE PÚBLICO OBJETIVO`"
   ]
  },
  {
   "cell_type": "code",
   "execution_count": 20,
   "metadata": {},
   "outputs": [
    {
     "data": {
      "text/html": [
       "<div>\n",
       "<style scoped>\n",
       "    .dataframe tbody tr th:only-of-type {\n",
       "        vertical-align: middle;\n",
       "    }\n",
       "\n",
       "    .dataframe tbody tr th {\n",
       "        vertical-align: top;\n",
       "    }\n",
       "\n",
       "    .dataframe thead th {\n",
       "        text-align: right;\n",
       "    }\n",
       "</style>\n",
       "<table border=\"1\" class=\"dataframe\">\n",
       "  <thead>\n",
       "    <tr style=\"text-align: right;\">\n",
       "      <th></th>\n",
       "      <th>P4</th>\n",
       "      <th>P5_1</th>\n",
       "      <th>P5_2</th>\n",
       "      <th>P5_3</th>\n",
       "      <th>P5_4</th>\n",
       "      <th>P5_5</th>\n",
       "      <th>P6_1</th>\n",
       "      <th>P6_2</th>\n",
       "      <th>P6_3</th>\n",
       "      <th>P6_4</th>\n",
       "      <th>P6_5</th>\n",
       "      <th>P7_1_1</th>\n",
       "      <th>P7_1_2</th>\n",
       "      <th>P7_1_3</th>\n",
       "      <th>P7_2_1</th>\n",
       "      <th>P7_2_2</th>\n",
       "      <th>P7_2_3</th>\n",
       "      <th>P7_2_4</th>\n",
       "      <th>P7_3_1</th>\n",
       "      <th>P7_3_2</th>\n",
       "    </tr>\n",
       "  </thead>\n",
       "  <tbody>\n",
       "    <tr>\n",
       "      <th>0</th>\n",
       "      <td>Sí</td>\n",
       "      <td>Spray</td>\n",
       "      <td>Botella</td>\n",
       "      <td>Con pulverizador</td>\n",
       "      <td>NaN</td>\n",
       "      <td>NaN</td>\n",
       "      <td>Spray</td>\n",
       "      <td>Con pulverizador</td>\n",
       "      <td>NaN</td>\n",
       "      <td>NaN</td>\n",
       "      <td>NaN</td>\n",
       "      <td>Desinfección de objetos y superficies</td>\n",
       "      <td>NaN</td>\n",
       "      <td>NaN</td>\n",
       "      <td>NaN</td>\n",
       "      <td>NaN</td>\n",
       "      <td>NaN</td>\n",
       "      <td>NaN</td>\n",
       "      <td>NaN</td>\n",
       "      <td>NaN</td>\n",
       "    </tr>\n",
       "    <tr>\n",
       "      <th>1</th>\n",
       "      <td>Sí</td>\n",
       "      <td>Spray</td>\n",
       "      <td>Botella</td>\n",
       "      <td>NaN</td>\n",
       "      <td>NaN</td>\n",
       "      <td>NaN</td>\n",
       "      <td>Spray</td>\n",
       "      <td>NaN</td>\n",
       "      <td>NaN</td>\n",
       "      <td>NaN</td>\n",
       "      <td>NaN</td>\n",
       "      <td>NaN</td>\n",
       "      <td>NaN</td>\n",
       "      <td>NaN</td>\n",
       "      <td>Desinfección de manos</td>\n",
       "      <td>Desinfección de objetos y superficies</td>\n",
       "      <td>NaN</td>\n",
       "      <td>NaN</td>\n",
       "      <td>Desinfección de objetos y superficies</td>\n",
       "      <td>NaN</td>\n",
       "    </tr>\n",
       "    <tr>\n",
       "      <th>2</th>\n",
       "      <td>Sí</td>\n",
       "      <td>Botella</td>\n",
       "      <td>NaN</td>\n",
       "      <td>NaN</td>\n",
       "      <td>NaN</td>\n",
       "      <td>NaN</td>\n",
       "      <td>Spray</td>\n",
       "      <td>NaN</td>\n",
       "      <td>NaN</td>\n",
       "      <td>NaN</td>\n",
       "      <td>NaN</td>\n",
       "      <td>NaN</td>\n",
       "      <td>NaN</td>\n",
       "      <td>NaN</td>\n",
       "      <td>Desinfección de manos</td>\n",
       "      <td>Desinfección de objetos y superficies</td>\n",
       "      <td>NaN</td>\n",
       "      <td>NaN</td>\n",
       "      <td>Desinfección de objetos y superficies</td>\n",
       "      <td>NaN</td>\n",
       "    </tr>\n",
       "    <tr>\n",
       "      <th>3</th>\n",
       "      <td>Sí</td>\n",
       "      <td>Spray</td>\n",
       "      <td>Botella</td>\n",
       "      <td>NaN</td>\n",
       "      <td>NaN</td>\n",
       "      <td>NaN</td>\n",
       "      <td>Spray</td>\n",
       "      <td>Botella</td>\n",
       "      <td>NaN</td>\n",
       "      <td>NaN</td>\n",
       "      <td>NaN</td>\n",
       "      <td>Desinfección del cuerpo / personas que entran ...</td>\n",
       "      <td>NaN</td>\n",
       "      <td>NaN</td>\n",
       "      <td>NaN</td>\n",
       "      <td>NaN</td>\n",
       "      <td>NaN</td>\n",
       "      <td>NaN</td>\n",
       "      <td>Desinfección de manos</td>\n",
       "      <td>Desinfección de objetos y superficies</td>\n",
       "    </tr>\n",
       "    <tr>\n",
       "      <th>4</th>\n",
       "      <td>Sí</td>\n",
       "      <td>Spray</td>\n",
       "      <td>Botella</td>\n",
       "      <td>NaN</td>\n",
       "      <td>NaN</td>\n",
       "      <td>NaN</td>\n",
       "      <td>Spray</td>\n",
       "      <td>NaN</td>\n",
       "      <td>NaN</td>\n",
       "      <td>NaN</td>\n",
       "      <td>NaN</td>\n",
       "      <td>NaN</td>\n",
       "      <td>NaN</td>\n",
       "      <td>NaN</td>\n",
       "      <td>Desinfección de manos</td>\n",
       "      <td>NaN</td>\n",
       "      <td>NaN</td>\n",
       "      <td>NaN</td>\n",
       "      <td>Desinfección de objetos y superficies</td>\n",
       "      <td>NaN</td>\n",
       "    </tr>\n",
       "    <tr>\n",
       "      <th>...</th>\n",
       "      <td>...</td>\n",
       "      <td>...</td>\n",
       "      <td>...</td>\n",
       "      <td>...</td>\n",
       "      <td>...</td>\n",
       "      <td>...</td>\n",
       "      <td>...</td>\n",
       "      <td>...</td>\n",
       "      <td>...</td>\n",
       "      <td>...</td>\n",
       "      <td>...</td>\n",
       "      <td>...</td>\n",
       "      <td>...</td>\n",
       "      <td>...</td>\n",
       "      <td>...</td>\n",
       "      <td>...</td>\n",
       "      <td>...</td>\n",
       "      <td>...</td>\n",
       "      <td>...</td>\n",
       "      <td>...</td>\n",
       "    </tr>\n",
       "    <tr>\n",
       "      <th>295</th>\n",
       "      <td>Sí</td>\n",
       "      <td>Spray</td>\n",
       "      <td>Botella</td>\n",
       "      <td>NaN</td>\n",
       "      <td>NaN</td>\n",
       "      <td>NaN</td>\n",
       "      <td>Spray</td>\n",
       "      <td>NaN</td>\n",
       "      <td>NaN</td>\n",
       "      <td>NaN</td>\n",
       "      <td>NaN</td>\n",
       "      <td>NaN</td>\n",
       "      <td>NaN</td>\n",
       "      <td>NaN</td>\n",
       "      <td>Desinfección de manos</td>\n",
       "      <td>Desinfección de objetos y superficies</td>\n",
       "      <td>NaN</td>\n",
       "      <td>NaN</td>\n",
       "      <td>Desinfección de manos</td>\n",
       "      <td>Curar heridas</td>\n",
       "    </tr>\n",
       "    <tr>\n",
       "      <th>296</th>\n",
       "      <td>Sí</td>\n",
       "      <td>Botella</td>\n",
       "      <td>NaN</td>\n",
       "      <td>NaN</td>\n",
       "      <td>NaN</td>\n",
       "      <td>NaN</td>\n",
       "      <td>Botella</td>\n",
       "      <td>NaN</td>\n",
       "      <td>NaN</td>\n",
       "      <td>NaN</td>\n",
       "      <td>NaN</td>\n",
       "      <td>NaN</td>\n",
       "      <td>NaN</td>\n",
       "      <td>NaN</td>\n",
       "      <td>NaN</td>\n",
       "      <td>NaN</td>\n",
       "      <td>NaN</td>\n",
       "      <td>NaN</td>\n",
       "      <td>Desinfección de manos</td>\n",
       "      <td>Desinfección de objetos y superficies</td>\n",
       "    </tr>\n",
       "    <tr>\n",
       "      <th>297</th>\n",
       "      <td>Sí</td>\n",
       "      <td>Spray</td>\n",
       "      <td>Botella</td>\n",
       "      <td>Con pulverizador</td>\n",
       "      <td>NaN</td>\n",
       "      <td>NaN</td>\n",
       "      <td>Spray</td>\n",
       "      <td>Botella</td>\n",
       "      <td>Con pulverizador</td>\n",
       "      <td>NaN</td>\n",
       "      <td>NaN</td>\n",
       "      <td>NaN</td>\n",
       "      <td>NaN</td>\n",
       "      <td>NaN</td>\n",
       "      <td>Desinfección de manos</td>\n",
       "      <td>Desinfección de objetos y superficies</td>\n",
       "      <td>NaN</td>\n",
       "      <td>NaN</td>\n",
       "      <td>Lo uso para llenar el spray o algún frasco</td>\n",
       "      <td>NaN</td>\n",
       "    </tr>\n",
       "    <tr>\n",
       "      <th>298</th>\n",
       "      <td>Sí</td>\n",
       "      <td>Spray</td>\n",
       "      <td>Botella</td>\n",
       "      <td>NaN</td>\n",
       "      <td>NaN</td>\n",
       "      <td>NaN</td>\n",
       "      <td>Spray</td>\n",
       "      <td>NaN</td>\n",
       "      <td>NaN</td>\n",
       "      <td>NaN</td>\n",
       "      <td>NaN</td>\n",
       "      <td>NaN</td>\n",
       "      <td>NaN</td>\n",
       "      <td>NaN</td>\n",
       "      <td>Desinfección de manos</td>\n",
       "      <td>NaN</td>\n",
       "      <td>NaN</td>\n",
       "      <td>NaN</td>\n",
       "      <td>Desinfección de manos</td>\n",
       "      <td>Desinfección de objetos y superficies</td>\n",
       "    </tr>\n",
       "    <tr>\n",
       "      <th>299</th>\n",
       "      <td>Sí</td>\n",
       "      <td>Spray</td>\n",
       "      <td>Botella</td>\n",
       "      <td>NaN</td>\n",
       "      <td>NaN</td>\n",
       "      <td>NaN</td>\n",
       "      <td>Spray</td>\n",
       "      <td>Botella</td>\n",
       "      <td>NaN</td>\n",
       "      <td>NaN</td>\n",
       "      <td>NaN</td>\n",
       "      <td>NaN</td>\n",
       "      <td>NaN</td>\n",
       "      <td>NaN</td>\n",
       "      <td>Desinfección de manos</td>\n",
       "      <td>NaN</td>\n",
       "      <td>NaN</td>\n",
       "      <td>NaN</td>\n",
       "      <td>Desinfección de objetos y superficies</td>\n",
       "      <td>Curar heridas</td>\n",
       "    </tr>\n",
       "  </tbody>\n",
       "</table>\n",
       "<p>300 rows × 20 columns</p>\n",
       "</div>"
      ],
      "text/plain": [
       "     P4     P5_1     P5_2              P5_3 P5_4 P5_5     P6_1  \\\n",
       "0    Sí    Spray  Botella  Con pulverizador  NaN  NaN    Spray   \n",
       "1    Sí    Spray  Botella               NaN  NaN  NaN    Spray   \n",
       "2    Sí  Botella      NaN               NaN  NaN  NaN    Spray   \n",
       "3    Sí    Spray  Botella               NaN  NaN  NaN    Spray   \n",
       "4    Sí    Spray  Botella               NaN  NaN  NaN    Spray   \n",
       "..   ..      ...      ...               ...  ...  ...      ...   \n",
       "295  Sí    Spray  Botella               NaN  NaN  NaN    Spray   \n",
       "296  Sí  Botella      NaN               NaN  NaN  NaN  Botella   \n",
       "297  Sí    Spray  Botella  Con pulverizador  NaN  NaN    Spray   \n",
       "298  Sí    Spray  Botella               NaN  NaN  NaN    Spray   \n",
       "299  Sí    Spray  Botella               NaN  NaN  NaN    Spray   \n",
       "\n",
       "                 P6_2              P6_3 P6_4 P6_5  \\\n",
       "0    Con pulverizador               NaN  NaN  NaN   \n",
       "1                 NaN               NaN  NaN  NaN   \n",
       "2                 NaN               NaN  NaN  NaN   \n",
       "3             Botella               NaN  NaN  NaN   \n",
       "4                 NaN               NaN  NaN  NaN   \n",
       "..                ...               ...  ...  ...   \n",
       "295               NaN               NaN  NaN  NaN   \n",
       "296               NaN               NaN  NaN  NaN   \n",
       "297           Botella  Con pulverizador  NaN  NaN   \n",
       "298               NaN               NaN  NaN  NaN   \n",
       "299           Botella               NaN  NaN  NaN   \n",
       "\n",
       "                                                P7_1_1 P7_1_2 P7_1_3  \\\n",
       "0                Desinfección de objetos y superficies    NaN    NaN   \n",
       "1                                                  NaN    NaN    NaN   \n",
       "2                                                  NaN    NaN    NaN   \n",
       "3    Desinfección del cuerpo / personas que entran ...    NaN    NaN   \n",
       "4                                                  NaN    NaN    NaN   \n",
       "..                                                 ...    ...    ...   \n",
       "295                                                NaN    NaN    NaN   \n",
       "296                                                NaN    NaN    NaN   \n",
       "297                                                NaN    NaN    NaN   \n",
       "298                                                NaN    NaN    NaN   \n",
       "299                                                NaN    NaN    NaN   \n",
       "\n",
       "                    P7_2_1                                 P7_2_2 P7_2_3  \\\n",
       "0                      NaN                                    NaN    NaN   \n",
       "1    Desinfección de manos  Desinfección de objetos y superficies    NaN   \n",
       "2    Desinfección de manos  Desinfección de objetos y superficies    NaN   \n",
       "3                      NaN                                    NaN    NaN   \n",
       "4    Desinfección de manos                                    NaN    NaN   \n",
       "..                     ...                                    ...    ...   \n",
       "295  Desinfección de manos  Desinfección de objetos y superficies    NaN   \n",
       "296                    NaN                                    NaN    NaN   \n",
       "297  Desinfección de manos  Desinfección de objetos y superficies    NaN   \n",
       "298  Desinfección de manos                                    NaN    NaN   \n",
       "299  Desinfección de manos                                    NaN    NaN   \n",
       "\n",
       "    P7_2_4                                      P7_3_1  \\\n",
       "0      NaN                                         NaN   \n",
       "1      NaN       Desinfección de objetos y superficies   \n",
       "2      NaN       Desinfección de objetos y superficies   \n",
       "3      NaN                       Desinfección de manos   \n",
       "4      NaN       Desinfección de objetos y superficies   \n",
       "..     ...                                         ...   \n",
       "295    NaN                       Desinfección de manos   \n",
       "296    NaN                       Desinfección de manos   \n",
       "297    NaN  Lo uso para llenar el spray o algún frasco   \n",
       "298    NaN                       Desinfección de manos   \n",
       "299    NaN       Desinfección de objetos y superficies   \n",
       "\n",
       "                                    P7_3_2  \n",
       "0                                      NaN  \n",
       "1                                      NaN  \n",
       "2                                      NaN  \n",
       "3    Desinfección de objetos y superficies  \n",
       "4                                      NaN  \n",
       "..                                     ...  \n",
       "295                          Curar heridas  \n",
       "296  Desinfección de objetos y superficies  \n",
       "297                                    NaN  \n",
       "298  Desinfección de objetos y superficies  \n",
       "299                          Curar heridas  \n",
       "\n",
       "[300 rows x 20 columns]"
      ]
     },
     "execution_count": 20,
     "metadata": {},
     "output_type": "execute_result"
    }
   ],
   "source": [
    "# todo se ve hab_publi_obj = df.iloc[:, 10:62]\n",
    "hab_publi_obj = df.iloc[:, 10:30]\n",
    "\n",
    "hab_publi_obj"
   ]
  },
  {
   "cell_type": "markdown",
   "metadata": {},
   "source": [
    "Verificamos si la columna `P4` tiene datos nulos o respuestas `no`.\n",
    "\n",
    "Se puede ver que todas las respuestas son `si`, por lo tanto no hay incongruencias. "
   ]
  },
  {
   "cell_type": "code",
   "execution_count": 21,
   "metadata": {},
   "outputs": [
    {
     "data": {
      "text/plain": [
       "['Sí']\n",
       "Categories (1, object): ['Sí']"
      ]
     },
     "execution_count": 21,
     "metadata": {},
     "output_type": "execute_result"
    }
   ],
   "source": [
    "df['P4'].unique()"
   ]
  },
  {
   "cell_type": "markdown",
   "metadata": {},
   "source": [
    "Verificamos la columna `P5_1`, donde el usuario debe indicar que presentaciones usa 'Pensando en un uso familiar'. \n",
    "\n"
   ]
  },
  {
   "cell_type": "code",
   "execution_count": 22,
   "metadata": {},
   "outputs": [],
   "source": [
    "columnas = ['P5_1', 'P5_2', 'P5_3', 'P5_4', 'P5_5']\n",
    "\n",
    "def combine_columns(row):\n",
    "    values = [str(row[col]) for col in columnas if not pd.isna(row[col])]\n",
    "    return ','.join(values)\n",
    "\n",
    "df['P5'] = df.apply(combine_columns, axis=1)\n",
    "\n"
   ]
  },
  {
   "cell_type": "markdown",
   "metadata": {},
   "source": [
    "Unimos toda la columna y hallamos la palabra mas mencionada. "
   ]
  },
  {
   "cell_type": "code",
   "execution_count": 23,
   "metadata": {},
   "outputs": [],
   "source": [
    "palabras = []\n",
    "for fila in df['P5']:\n",
    "    palabras += fila.split(',') "
   ]
  },
  {
   "cell_type": "code",
   "execution_count": 24,
   "metadata": {},
   "outputs": [],
   "source": [
    "contador_palabras = Counter(palabras)"
   ]
  },
  {
   "cell_type": "code",
   "execution_count": 25,
   "metadata": {},
   "outputs": [
    {
     "name": "stdout",
     "output_type": "stream",
     "text": [
      "Palabra: 'Spray' - Conteo: 197\n",
      "Palabra: 'Botella' - Conteo: 282\n",
      "Palabra: 'Con pulverizador' - Conteo: 117\n",
      "Palabra: 'Dispensador' - Conteo: 118\n",
      "Palabra: 'Con chupón' - Conteo: 32\n",
      "Palabra: 'Galonera' - Conteo: 1\n"
     ]
    }
   ],
   "source": [
    "for palabra, conteo in contador_palabras.items():\n",
    "    print(f\"Palabra: '{palabra}' - Conteo: {conteo}\")"
   ]
  },
  {
   "cell_type": "markdown",
   "metadata": {},
   "source": [
    "Eliminarmos las colummas ``['P5_1', 'P5_2', 'P5_3', 'P5_4', 'P5_5']``"
   ]
  },
  {
   "cell_type": "code",
   "execution_count": 26,
   "metadata": {},
   "outputs": [],
   "source": [
    "df.drop(columns=['P5_1', 'P5_2', 'P5_3', 'P5_4', 'P5_5'], axis=1, inplace=True)"
   ]
  },
  {
   "cell_type": "code",
   "execution_count": 27,
   "metadata": {},
   "outputs": [
    {
     "data": {
      "text/plain": [
       "0      Spray,Botella,Con pulverizador\n",
       "1                       Spray,Botella\n",
       "2                             Botella\n",
       "3                       Spray,Botella\n",
       "4                       Spray,Botella\n",
       "                    ...              \n",
       "295                     Spray,Botella\n",
       "296                           Botella\n",
       "297    Spray,Botella,Con pulverizador\n",
       "298                     Spray,Botella\n",
       "299                     Spray,Botella\n",
       "Name: P5, Length: 300, dtype: object"
      ]
     },
     "execution_count": 27,
     "metadata": {},
     "output_type": "execute_result"
    }
   ],
   "source": [
    "df['P5']"
   ]
  },
  {
   "cell_type": "code",
   "execution_count": 28,
   "metadata": {},
   "outputs": [
    {
     "data": {
      "text/plain": [
       "count         300\n",
       "unique         23\n",
       "top       Botella\n",
       "freq           56\n",
       "Name: P5, dtype: object"
      ]
     },
     "execution_count": 28,
     "metadata": {},
     "output_type": "execute_result"
    }
   ],
   "source": [
    "df['P5'].describe()"
   ]
  },
  {
   "cell_type": "code",
   "execution_count": 29,
   "metadata": {},
   "outputs": [
    {
     "data": {
      "text/plain": [
       "P5\n",
       "Botella                                                  56\n",
       "Spray,Botella                                            55\n",
       "Dispensador,Spray,Botella,Con pulverizador               48\n",
       "Spray,Botella,Con pulverizador                           38\n",
       "Dispensador,Spray,Botella                                25\n",
       "Dispensador,Botella                                      19\n",
       "Spray,Botella,Con chupón                                 10\n",
       "Dispensador,Spray,Botella,Con chupón,Con pulverizador     9\n",
       "Botella,Con pulverizador                                  9\n",
       "Botella,Con chupón                                        5\n",
       "Dispensador,Botella,Con pulverizador                      4\n",
       "Dispensador                                               4\n",
       "Spray,Con pulverizador                                    3\n",
       "Dispensador,Spray                                         3\n",
       "Con chupón                                                3\n",
       "Dispensador,Spray,Con pulverizador                        2\n",
       "Dispensador,Con pulverizador                              1\n",
       "Botella,Con chupón,Con pulverizador                       1\n",
       "Spray,Botella,Con chupón,Con pulverizador                 1\n",
       "Spray,Con pulverizador,Galonera                           1\n",
       "Dispensador,Spray,Con chupón                              1\n",
       "Dispensador,Spray,Botella,Con chupón                      1\n",
       "Dispensador,Botella,Con chupón                            1\n",
       "Name: count, dtype: int64"
      ]
     },
     "execution_count": 29,
     "metadata": {},
     "output_type": "execute_result"
    }
   ],
   "source": [
    "df['P5'].value_counts()"
   ]
  },
  {
   "cell_type": "markdown",
   "metadata": {},
   "source": [
    "Verificamos la columna `P6_1, 2,3,4 y 5`, donde el usuario debe indicar que presentaciones usa 'Pensando en un uso personal'. "
   ]
  },
  {
   "cell_type": "code",
   "execution_count": 30,
   "metadata": {},
   "outputs": [],
   "source": [
    "columnasp6 = ['P6_1', 'P6_2', 'P6_3', 'P6_4', 'P6_5']\n",
    "\n",
    "def combine_columns(row):\n",
    "    values = [str(row[col]) for col in columnasp6 if not pd.isna(row[col])]\n",
    "    return ','.join(values)\n",
    "\n",
    "df['P6'] = df.apply(combine_columns, axis=1)"
   ]
  },
  {
   "cell_type": "markdown",
   "metadata": {},
   "source": [
    "Eliminamos las columnas ``['P6_1', 'P6_2', 'P6_3', 'P6_4', 'P6_5']``"
   ]
  },
  {
   "cell_type": "code",
   "execution_count": 31,
   "metadata": {},
   "outputs": [],
   "source": [
    "df.drop(columns=['P6_1', 'P6_2', 'P6_3', 'P6_4', 'P6_5'], axis=1, inplace=True)"
   ]
  },
  {
   "cell_type": "code",
   "execution_count": 32,
   "metadata": {},
   "outputs": [],
   "source": [
    "palabras = []\n",
    "for fila in df['P6']:\n",
    "    palabras += fila.split(',') "
   ]
  },
  {
   "cell_type": "code",
   "execution_count": 33,
   "metadata": {},
   "outputs": [],
   "source": [
    "contador_palabras = Counter(palabras)"
   ]
  },
  {
   "cell_type": "code",
   "execution_count": 34,
   "metadata": {},
   "outputs": [
    {
     "name": "stdout",
     "output_type": "stream",
     "text": [
      "Palabra: 'Spray' - Conteo: 240\n",
      "Palabra: 'Con pulverizador' - Conteo: 51\n",
      "Palabra: 'Botella' - Conteo: 89\n",
      "Palabra: 'Dispensador' - Conteo: 56\n",
      "Palabra: 'Con chupón' - Conteo: 15\n"
     ]
    }
   ],
   "source": [
    "for palabra, conteo in contador_palabras.items():\n",
    "    print(f\"Palabra: '{palabra}' - Conteo: {conteo}\")"
   ]
  },
  {
   "cell_type": "code",
   "execution_count": 35,
   "metadata": {},
   "outputs": [
    {
     "data": {
      "text/plain": [
       "count       300\n",
       "unique       20\n",
       "top       Spray\n",
       "freq        148\n",
       "Name: P6, dtype: object"
      ]
     },
     "execution_count": 35,
     "metadata": {},
     "output_type": "execute_result"
    }
   ],
   "source": [
    "df['P6'].describe()"
   ]
  },
  {
   "cell_type": "code",
   "execution_count": 36,
   "metadata": {},
   "outputs": [
    {
     "data": {
      "text/plain": [
       "P6\n",
       "Spray                                                    148\n",
       "Botella                                                   28\n",
       "Spray,Botella                                             21\n",
       "Spray,Con pulverizador                                    18\n",
       "Dispensador,Spray                                         16\n",
       "Spray,Botella,Con pulverizador                            10\n",
       "Dispensador                                               10\n",
       "Dispensador,Spray,Botella,Con pulverizador                 9\n",
       "Dispensador,Spray,Botella                                  7\n",
       "Con chupón                                                 6\n",
       "Dispensador,Botella                                        6\n",
       "Spray,Con chupón                                           4\n",
       "Con pulverizador                                           4\n",
       "Dispensador,Spray,Con pulverizador                         3\n",
       "Botella,Con pulverizador                                   2\n",
       "Dispensador,Spray,Botella,Con chupón,Con pulverizador      2\n",
       "Spray,Botella,Con chupón                                   2\n",
       "Dispensador,Con pulverizador                               2\n",
       "Botella,Con chupón                                         1\n",
       "Dispensador,Botella,Con pulverizador                       1\n",
       "Name: count, dtype: int64"
      ]
     },
     "execution_count": 36,
     "metadata": {},
     "output_type": "execute_result"
    }
   ],
   "source": [
    "df['P6'].value_counts()"
   ]
  },
  {
   "cell_type": "markdown",
   "metadata": {},
   "source": [
    "Unimos las columnas de respuestas dadas para ``dispensador``"
   ]
  },
  {
   "cell_type": "code",
   "execution_count": 37,
   "metadata": {},
   "outputs": [],
   "source": [
    "columnasD = ['P7_1_1', 'P7_1_2','P7_1_3']\n",
    "\n",
    "def combine_columns(row):\n",
    "    values = [str(row[col]) for col in columnasD if not pd.isna(row[col])]\n",
    "    return ','.join(values)\n",
    "\n",
    "df['P7_1'] = df.apply(combine_columns, axis=1)"
   ]
  },
  {
   "cell_type": "markdown",
   "metadata": {},
   "source": [
    "Eliminamos las columnas ``['P7_1_1', 'P7_1_2','P7_1_3']``"
   ]
  },
  {
   "cell_type": "code",
   "execution_count": 38,
   "metadata": {},
   "outputs": [],
   "source": [
    "df.drop(columns=['P7_1_1', 'P7_1_2','P7_1_3'], axis=1, inplace=True)"
   ]
  },
  {
   "cell_type": "code",
   "execution_count": 39,
   "metadata": {},
   "outputs": [],
   "source": [
    "palabras = []\n",
    "for fila in df['P7_1']:\n",
    "    palabras += fila.split(',') "
   ]
  },
  {
   "cell_type": "code",
   "execution_count": 40,
   "metadata": {},
   "outputs": [],
   "source": [
    "contador_palabras = Counter(palabras)"
   ]
  },
  {
   "cell_type": "code",
   "execution_count": 41,
   "metadata": {},
   "outputs": [
    {
     "name": "stdout",
     "output_type": "stream",
     "text": [
      "Palabra: 'Desinfección de objetos y superficies' - Conteo: 45\n",
      "Palabra: '' - Conteo: 167\n",
      "Palabra: 'Desinfección del cuerpo / personas que entran a la casa' - Conteo: 6\n",
      "Palabra: 'Desinfección de manos' - Conteo: 123\n",
      "Palabra: 'Curar heridas' - Conteo: 10\n",
      "Palabra: 'Desinfección de ropa' - Conteo: 2\n",
      "Palabra: 'Lo uso para llenar el spray o algún frasco' - Conteo: 1\n",
      "Palabra: 'Desinfectar las compras' - Conteo: 1\n"
     ]
    }
   ],
   "source": [
    "for palabra, conteo in contador_palabras.items():\n",
    "    print(f\"Palabra: '{palabra}' - Conteo: {conteo}\")"
   ]
  },
  {
   "cell_type": "markdown",
   "metadata": {},
   "source": [
    "Unimos las columnas de respuestas dadas para ``Spray``"
   ]
  },
  {
   "cell_type": "code",
   "execution_count": 42,
   "metadata": {},
   "outputs": [],
   "source": [
    "columnasS= ['P7_2_1', 'P7_2_2', 'P7_2_3' ,'P7_2_4' ]\n",
    "\n",
    "def combine_columns(row):\n",
    "    values = [str(row[col]) for col in columnasS if not pd.isna(row[col])]\n",
    "    return ','.join(values)\n",
    "\n",
    "df['P7_2'] = df.apply(combine_columns, axis=1)"
   ]
  },
  {
   "cell_type": "markdown",
   "metadata": {},
   "source": [
    "Eliminamos las columnas ``['P7_2_1', 'P7_2_2', 'P7_2_3' ,'P7_2_4' ]``"
   ]
  },
  {
   "cell_type": "code",
   "execution_count": 43,
   "metadata": {},
   "outputs": [],
   "source": [
    "df.drop(columns=['P7_2_1', 'P7_2_2', 'P7_2_3' ,'P7_2_4' ], axis=1, inplace=True)"
   ]
  },
  {
   "cell_type": "code",
   "execution_count": 44,
   "metadata": {},
   "outputs": [
    {
     "name": "stdout",
     "output_type": "stream",
     "text": [
      "Palabra: '' - Conteo: 50\n",
      "Palabra: 'Desinfección de manos' - Conteo: 227\n",
      "Palabra: 'Desinfección de objetos y superficies' - Conteo: 142\n",
      "Palabra: 'Desinfección de alimentos' - Conteo: 1\n",
      "Palabra: 'Desinfección del cuerpo / personas que entran a la casa' - Conteo: 10\n",
      "Palabra: 'Curar heridas' - Conteo: 13\n",
      "Palabra: 'Desinfección de vehículos' - Conteo: 2\n",
      "Palabra: 'Desinfectar monedas en la calle' - Conteo: 6\n",
      "Palabra: 'Desinfección de ropa' - Conteo: 12\n",
      "Palabra: 'Para llevarlo en la cartera o mochila' - Conteo: 2\n",
      "Palabra: 'Para el dolor de cabeza' - Conteo: 2\n",
      "Palabra: 'Para bajar la fiebre' - Conteo: 2\n",
      "Palabra: 'Desinfectar las compras' - Conteo: 3\n"
     ]
    }
   ],
   "source": [
    "palabras = []\n",
    "for fila in df['P7_2']:\n",
    "    palabras += fila.split(',') \n",
    "\n",
    "contador_palabras = Counter(palabras)\n",
    "\n",
    "for palabra, conteo in contador_palabras.items():\n",
    "    print(f\"Palabra: '{palabra}' - Conteo: {conteo}\")"
   ]
  },
  {
   "cell_type": "code",
   "execution_count": 45,
   "metadata": {},
   "outputs": [
    {
     "data": {
      "text/plain": [
       "P7_2\n",
       "Desinfección de manos,Desinfección de objetos y superficies                                                                          107\n",
       "Desinfección de manos                                                                                                                 82\n",
       "                                                                                                                                      50\n",
       "Desinfección de objetos y superficies                                                                                                 13\n",
       "Desinfección de manos,Desinfección de objetos y superficies,Curar heridas                                                              6\n",
       "Desinfección de manos,Desinfectar monedas en la calle                                                                                  5\n",
       "Desinfección de manos,Desinfección de ropa                                                                                             5\n",
       "Desinfección de manos,Desinfección de objetos y superficies,Desinfección de ropa                                                       3\n",
       "Desinfección de manos,Desinfección de objetos y superficies,Desinfección del cuerpo / personas que entran a la casa                    3\n",
       "Desinfección de manos,Desinfección del cuerpo / personas que entran a la casa                                                          3\n",
       "Desinfección de manos,Desinfección de objetos y superficies,Desinfectar las compras                                                    2\n",
       "Desinfección de ropa                                                                                                                   2\n",
       "Desinfección del cuerpo / personas que entran a la casa                                                                                2\n",
       "Desinfección de manos,Curar heridas                                                                                                    2\n",
       "Desinfección de manos,Desinfección de objetos y superficies,Curar heridas,Desinfección del cuerpo / personas que entran a la casa      1\n",
       "Desinfección de objetos y superficies,Desinfectar monedas en la calle                                                                  1\n",
       "Desinfección de objetos y superficies,Desinfección de alimentos                                                                        1\n",
       "Desinfección de objetos y superficies,Curar heridas,Desinfección del cuerpo / personas que entran a la casa                            1\n",
       "Desinfectar las compras                                                                                                                1\n",
       "Desinfección de manos,Para bajar la fiebre                                                                                             1\n",
       "Curar heridas                                                                                                                          1\n",
       "Desinfección de manos,Desinfección de objetos y superficies,Desinfección de vehículos                                                  1\n",
       "Desinfección de manos,Desinfección de objetos y superficies,Para llevarlo en la cartera o mochila                                      1\n",
       "Desinfección de manos,Desinfección de objetos y superficies,Para bajar la fiebre,Para el dolor de cabeza                               1\n",
       "Desinfección de manos,Para el dolor de cabeza                                                                                          1\n",
       "Para llevarlo en la cartera o mochila                                                                                                  1\n",
       "Desinfección de manos,Curar heridas,Desinfección de ropa                                                                               1\n",
       "Desinfección de manos,Desinfección de vehículos                                                                                        1\n",
       "Desinfección de manos,Desinfección de objetos y superficies,Curar heridas,Desinfección de ropa                                         1\n",
       "Name: count, dtype: int64"
      ]
     },
     "execution_count": 45,
     "metadata": {},
     "output_type": "execute_result"
    }
   ],
   "source": [
    "df['P7_2'].value_counts()"
   ]
  },
  {
   "cell_type": "markdown",
   "metadata": {},
   "source": [
    "Unimos las columnas de respuestas dadas para ``Botella``"
   ]
  },
  {
   "cell_type": "code",
   "execution_count": 46,
   "metadata": {},
   "outputs": [],
   "source": [
    "columnasB= ['P7_3_1', 'P7_3_2', 'P7_3_3' ,'P7_3_4' ]\n",
    "\n",
    "def combine_columns(row):\n",
    "    values = [str(row[col]) for col in columnasB if not pd.isna(row[col])]\n",
    "    return ','.join(values)\n",
    "\n",
    "df['P7_3'] = df.apply(combine_columns, axis=1)"
   ]
  },
  {
   "cell_type": "markdown",
   "metadata": {},
   "source": [
    "Eliminamos las colunmas  ``['P7_3_1', 'P7_3_2', 'P7_3_3' ,'P7_3_4' ]``"
   ]
  },
  {
   "cell_type": "code",
   "execution_count": 47,
   "metadata": {},
   "outputs": [],
   "source": [
    "df.drop(columns=['P7_3_1', 'P7_3_2', 'P7_3_3' ,'P7_3_4' ], axis=1, inplace=True)"
   ]
  },
  {
   "cell_type": "code",
   "execution_count": 48,
   "metadata": {},
   "outputs": [
    {
     "name": "stdout",
     "output_type": "stream",
     "text": [
      "Palabra: '' - Conteo: 20\n",
      "Palabra: 'Desinfección de objetos y superficies' - Conteo: 161\n",
      "Palabra: 'Desinfección de manos' - Conteo: 133\n",
      "Palabra: 'Curar heridas' - Conteo: 87\n",
      "Palabra: 'Lo uso para llenar el spray o algún frasco' - Conteo: 51\n",
      "Palabra: 'Desinfección del cuerpo / personas que entran a la casa' - Conteo: 8\n",
      "Palabra: 'Para bajar la fiebre' - Conteo: 3\n",
      "Palabra: 'Desinfección de ropa' - Conteo: 11\n",
      "Palabra: 'Desinfección de alimentos' - Conteo: 4\n",
      "Palabra: 'No precisa' - Conteo: 1\n",
      "Palabra: 'Desinfectar las compras' - Conteo: 3\n",
      "Palabra: 'Para limpieza del hogar' - Conteo: 6\n",
      "Palabra: 'Para llevarlo en la cartera o mochila' - Conteo: 4\n",
      "Palabra: 'Desinfectar monedas en la calle' - Conteo: 1\n"
     ]
    }
   ],
   "source": [
    "palabras = []\n",
    "for fila in df['P7_3']:\n",
    "    palabras += fila.split(',') \n",
    "\n",
    "contador_palabras = Counter(palabras)\n",
    "\n",
    "for palabra, conteo in contador_palabras.items():\n",
    "    print(f\"Palabra: '{palabra}' - Conteo: {conteo}\")"
   ]
  },
  {
   "cell_type": "markdown",
   "metadata": {},
   "source": [
    "Unimos las columnas de respuestas dadas para ``Chupon``"
   ]
  },
  {
   "cell_type": "markdown",
   "metadata": {},
   "source": [
    "Unimos las columnas de los comentarios de uso para ``con Chupon`` "
   ]
  },
  {
   "cell_type": "code",
   "execution_count": 49,
   "metadata": {},
   "outputs": [],
   "source": [
    "columnasC= ['P7_4_1', 'P7_4_2', 'P7_4_3' ]\n",
    "\n",
    "def combine_columns(row):\n",
    "    values = [str(row[col]) for col in columnasC if not pd.isna(row[col])]\n",
    "    return ','.join(values)\n",
    "\n",
    "df['P7_4'] = df.apply(combine_columns, axis=1)"
   ]
  },
  {
   "cell_type": "markdown",
   "metadata": {},
   "source": [
    "Eliminamos als columnas ``['P7_4_1', 'P7_4_2', 'P7_4_3' ]``"
   ]
  },
  {
   "cell_type": "code",
   "execution_count": 50,
   "metadata": {},
   "outputs": [],
   "source": [
    "df.drop(columns=['P7_4_1', 'P7_4_2', 'P7_4_3' ], axis=1, inplace=True)"
   ]
  },
  {
   "cell_type": "code",
   "execution_count": 51,
   "metadata": {},
   "outputs": [
    {
     "name": "stdout",
     "output_type": "stream",
     "text": [
      "Palabra: '' - Conteo: 262\n",
      "Palabra: 'Curar heridas' - Conteo: 8\n",
      "Palabra: 'Desinfección del cuerpo / personas que entran a la casa' - Conteo: 1\n",
      "Palabra: 'Desinfección de manos' - Conteo: 34\n",
      "Palabra: 'Desinfección de objetos y superficies' - Conteo: 9\n",
      "Palabra: 'Para limpieza del hogar' - Conteo: 1\n"
     ]
    }
   ],
   "source": [
    "palabras = []\n",
    "for fila in df['P7_4']:\n",
    "    palabras += fila.split(',') \n",
    "\n",
    "contador_palabras = Counter(palabras)\n",
    "\n",
    "for palabra, conteo in contador_palabras.items():\n",
    "    print(f\"Palabra: '{palabra}' - Conteo: {conteo}\")"
   ]
  },
  {
   "cell_type": "code",
   "execution_count": 52,
   "metadata": {},
   "outputs": [
    {
     "data": {
      "text/plain": [
       "P7_4\n",
       "                                                                             262\n",
       "Desinfección de manos                                                         22\n",
       "Desinfección de manos,Desinfección de objetos y superficies                    5\n",
       "Desinfección de manos,Desinfección de objetos y superficies,Curar heridas      3\n",
       "Desinfección de manos,Curar heridas                                            3\n",
       "Curar heridas                                                                  2\n",
       "Desinfección del cuerpo / personas que entran a la casa                        1\n",
       "Desinfección de manos,Para limpieza del hogar                                  1\n",
       "Desinfección de objetos y superficies                                          1\n",
       "Name: count, dtype: int64"
      ]
     },
     "execution_count": 52,
     "metadata": {},
     "output_type": "execute_result"
    }
   ],
   "source": [
    "df['P7_4'].value_counts()"
   ]
  },
  {
   "cell_type": "markdown",
   "metadata": {},
   "source": [
    "Unimos las columnas de respuestas dadas para ``Con pulverizador``"
   ]
  },
  {
   "cell_type": "code",
   "execution_count": 53,
   "metadata": {},
   "outputs": [],
   "source": [
    "columnasP= ['P7_5_1', 'P7_5_2', 'P7_5_3' ]\n",
    "\n",
    "def combine_columns(row):\n",
    "    values = [str(row[col]) for col in columnasP if not pd.isna(row[col])]\n",
    "    return ','.join(values)\n",
    "\n",
    "df['P7_5'] = df.apply(combine_columns, axis=1)"
   ]
  },
  {
   "cell_type": "markdown",
   "metadata": {},
   "source": [
    "Eliminamos las columasn ``['P7_5_1', 'P7_5_2', 'P7_5_3' ]``"
   ]
  },
  {
   "cell_type": "code",
   "execution_count": 54,
   "metadata": {},
   "outputs": [],
   "source": [
    "df.drop(columns=['P7_5_1', 'P7_5_2', 'P7_5_3' ], axis=1, inplace=True)"
   ]
  },
  {
   "cell_type": "code",
   "execution_count": 55,
   "metadata": {},
   "outputs": [
    {
     "name": "stdout",
     "output_type": "stream",
     "text": [
      "Palabra: 'Desinfección de objetos y superficies' - Conteo: 97\n",
      "Palabra: '' - Conteo: 175\n",
      "Palabra: 'Curar heridas' - Conteo: 6\n",
      "Palabra: 'Desinfección de manos' - Conteo: 41\n",
      "Palabra: 'Desinfección de ropa' - Conteo: 24\n",
      "Palabra: 'Desinfección del cuerpo / personas que entran a la casa' - Conteo: 20\n",
      "Palabra: 'Desinfectar las compras' - Conteo: 4\n",
      "Palabra: 'Para bajar la fiebre' - Conteo: 1\n",
      "Palabra: 'Desinfección de alimentos' - Conteo: 1\n"
     ]
    }
   ],
   "source": [
    "palabras = []\n",
    "for fila in df['P7_5']:\n",
    "    palabras += fila.split(',') \n",
    "\n",
    "contador_palabras = Counter(palabras)\n",
    "\n",
    "for palabra, conteo in contador_palabras.items():\n",
    "    print(f\"Palabra: '{palabra}' - Conteo: {conteo}\")"
   ]
  },
  {
   "cell_type": "code",
   "execution_count": 56,
   "metadata": {},
   "outputs": [
    {
     "data": {
      "text/plain": [
       "P7_5\n",
       "                                                                                                                         175\n",
       "Desinfección de objetos y superficies                                                                                     54\n",
       "Desinfección de manos,Desinfección de objetos y superficies                                                               19\n",
       "Desinfección del cuerpo / personas que entran a la casa                                                                    9\n",
       "Desinfección de objetos y superficies,Desinfección de ropa                                                                 7\n",
       "Desinfección de manos,Desinfección de ropa                                                                                 5\n",
       "Desinfección de manos,Desinfección de objetos y superficies,Curar heridas                                                  4\n",
       "Desinfección de ropa                                                                                                       4\n",
       "Desinfección de manos,Desinfección de objetos y superficies,Desinfección de ropa                                           4\n",
       "Desinfección de manos                                                                                                      3\n",
       "Desinfección de objetos y superficies,Desinfección del cuerpo / personas que entran a la casa                              3\n",
       "Desinfección de ropa,Desinfección del cuerpo / personas que entran a la casa                                               2\n",
       "Desinfección del cuerpo / personas que entran a la casa,Desinfectar las compras                                            1\n",
       "Desinfección de manos,Desinfección de objetos y superficies,Desinfección de alimentos                                      1\n",
       "Desinfección de objetos y superficies,Curar heridas,Para bajar la fiebre                                                   1\n",
       "Desinfección de manos,Desinfección de objetos y superficies,Desinfectar las compras                                        1\n",
       "Desinfección de objetos y superficies,Desinfección de ropa,Desinfección del cuerpo / personas que entran a la casa         1\n",
       "Desinfección de manos,Desinfectar las compras                                                                              1\n",
       "Desinfección de manos,Desinfección de ropa,Desinfección del cuerpo / personas que entran a la casa                         1\n",
       "Desinfección de manos,Desinfección del cuerpo / personas que entran a la casa                                              1\n",
       "Desinfección de manos,Desinfección de objetos y superficies,Desinfección del cuerpo / personas que entran a la casa        1\n",
       "Curar heridas                                                                                                              1\n",
       "Desinfección de objetos y superficies,Desinfección del cuerpo / personas que entran a la casa,Desinfectar las compras      1\n",
       "Name: count, dtype: int64"
      ]
     },
     "execution_count": 56,
     "metadata": {},
     "output_type": "execute_result"
    }
   ],
   "source": [
    "df['P7_5'].value_counts()"
   ]
  },
  {
   "cell_type": "markdown",
   "metadata": {},
   "source": [
    "Unimos las columnas de respuestas dadas para ``Otras respuestas``"
   ]
  },
  {
   "cell_type": "code",
   "execution_count": 57,
   "metadata": {},
   "outputs": [
    {
     "data": {
      "text/plain": [
       "[NaN, 'Desinfección del cuerpo / personas que entran..., 'Desinfección de ropa']\n",
       "Categories (2, object): ['Desinfección de ropa', 'Desinfección del cuerpo / personas que entran...]"
      ]
     },
     "execution_count": 57,
     "metadata": {},
     "output_type": "execute_result"
    }
   ],
   "source": [
    "df['P7_6_4'].unique()"
   ]
  },
  {
   "cell_type": "code",
   "execution_count": 58,
   "metadata": {},
   "outputs": [],
   "source": [
    "columnaO= ['P7_6_1', 'P7_6_2', 'P7_6_3', 'P7_6_4']\n",
    "\n",
    "def combine_columns(row):\n",
    "    values = [str(row[col]) for col in columnaO if not pd.isna(row[col])]\n",
    "    return ','.join(values)\n",
    "\n",
    "df['P7_6'] = df.apply(combine_columns, axis=1)"
   ]
  },
  {
   "cell_type": "markdown",
   "metadata": {},
   "source": [
    "Eliminamos las columnas ``['P7_6_1', 'P7_6_2', 'P7_6_3', 'P7_6_4']``"
   ]
  },
  {
   "cell_type": "code",
   "execution_count": 59,
   "metadata": {},
   "outputs": [],
   "source": [
    "df.drop(columns=['P7_6_1', 'P7_6_2', 'P7_6_3', 'P7_6_4'], axis=1, inplace=True)"
   ]
  },
  {
   "cell_type": "code",
   "execution_count": 60,
   "metadata": {},
   "outputs": [
    {
     "name": "stdout",
     "output_type": "stream",
     "text": [
      "Palabra: '' - Conteo: 293\n",
      "Palabra: 'Desinfección de manos' - Conteo: 5\n",
      "Palabra: 'Desinfección de objetos y superficies' - Conteo: 3\n",
      "Palabra: 'Desinfección de ropa' - Conteo: 5\n",
      "Palabra: 'Desinfección del cuerpo / personas que entran a la casa' - Conteo: 3\n",
      "Palabra: 'Curar heridas' - Conteo: 1\n",
      "Palabra: 'Desinfectar monedas en la calle' - Conteo: 1\n",
      "Palabra: 'Desinfección de alimentos' - Conteo: 1\n",
      "Palabra: 'Desinfectar las compras' - Conteo: 1\n"
     ]
    }
   ],
   "source": [
    "palabras = []\n",
    "for fila in df['P7_6']:\n",
    "    palabras += fila.split(',') \n",
    "\n",
    "contador_palabras = Counter(palabras)\n",
    "\n",
    "for palabra, conteo in contador_palabras.items():\n",
    "    print(f\"Palabra: '{palabra}' - Conteo: {conteo}\")"
   ]
  },
  {
   "cell_type": "code",
   "execution_count": 61,
   "metadata": {},
   "outputs": [
    {
     "data": {
      "text/plain": [
       "P7_6\n",
       "                                                                                                                                            293\n",
       "Desinfección de manos,Desinfección de objetos y superficies,Desinfección de ropa,Desinfección del cuerpo / personas que entran a la casa      1\n",
       "Desinfección de manos,Desinfección de objetos y superficies,Curar heridas,Desinfección de ropa                                                1\n",
       "Desinfección de manos,Desinfectar monedas en la calle                                                                                         1\n",
       "Desinfección de manos,Desinfección de objetos y superficies                                                                                   1\n",
       "Desinfección de ropa,Desinfección del cuerpo / personas que entran a la casa,Desinfección de alimentos                                        1\n",
       "Desinfección de ropa,Desinfectar las compras                                                                                                  1\n",
       "Desinfección de manos,Desinfección de ropa,Desinfección del cuerpo / personas que entran a la casa                                            1\n",
       "Name: count, dtype: int64"
      ]
     },
     "execution_count": 61,
     "metadata": {},
     "output_type": "execute_result"
    }
   ],
   "source": [
    "df['P7_6'].value_counts()"
   ]
  },
  {
   "cell_type": "markdown",
   "metadata": {},
   "source": [
    "Unimos las columnas de la pregunta 8, par aluego analizarlas de manera conjunta. "
   ]
  },
  {
   "cell_type": "code",
   "execution_count": 62,
   "metadata": {},
   "outputs": [],
   "source": [
    "columnaP8= ['P8_1', 'P8_2', 'P8_3', 'P8_4', 'P8_5']\n",
    "\n",
    "def combine_columns(row):\n",
    "    values = [str(row[col]) for col in columnaP8 if not pd.isna(row[col])]\n",
    "    return ','.join(values)\n",
    "\n",
    "df['P8'] = df.apply(combine_columns, axis=1)"
   ]
  },
  {
   "cell_type": "markdown",
   "metadata": {},
   "source": [
    "Eliminamos las columnas ``['P8_1', 'P8_2', 'P8_3', 'P8_4', 'P8_5']``"
   ]
  },
  {
   "cell_type": "code",
   "execution_count": 63,
   "metadata": {},
   "outputs": [],
   "source": [
    "df.drop(columns=['P8_1', 'P8_2', 'P8_3', 'P8_4', 'P8_5'], axis=1, inplace=True)"
   ]
  },
  {
   "cell_type": "code",
   "execution_count": 64,
   "metadata": {},
   "outputs": [
    {
     "data": {
      "text/plain": [
       "P8\n",
       "Botica/Farmacia de mi barrio                                                                                                                   49\n",
       "Botica/Farmacia de cadena                                                                                                                      46\n",
       "Botica/Farmacia de mi barrio,Botica/Farmacia de cadena                                                                                         40\n",
       "Botica/Farmacia de cadena,Supermercado                                                                                                         22\n",
       "Botica/Farmacia de mi barrio,Bodega                                                                                                            13\n",
       "Botica/Farmacia de mi barrio,Mercado                                                                                                            9\n",
       "Botica/Farmacia de mi barrio,Supermercado                                                                                                       8\n",
       "Botica/Farmacia de cadena,Bodega                                                                                                                8\n",
       "Botica/Farmacia de mi barrio,Botica/Farmacia de cadena,Supermercado                                                                             7\n",
       "Botica/Farmacia de mi barrio,Vendedor independiente amigo/conocido                                                                              7\n",
       "Botica/Farmacia de mi barrio,Botica/Farmacia de cadena,Farmacias dentro de supermercados                                                        7\n",
       "Botica/Farmacia de mi barrio,Farmacias dentro de supermercados                                                                                  6\n",
       "Vendedor independiente amigo/conocido                                                                                                           5\n",
       "Botica/Farmacia de cadena,Mercado                                                                                                               5\n",
       "Botica/Farmacia de cadena,Farmacias dentro de supermercados                                                                                     5\n",
       "Botica/Farmacia de cadena,Vendedor independiente amigo/conocido                                                                                 4\n",
       "Botica/Farmacia de mi barrio,Botica/Farmacia de cadena,Bodega                                                                                   4\n",
       "Botica/Farmacia de mi barrio,Botica/Farmacia de cadena,Vendedor independiente amigo/conocido                                                    4\n",
       "Bodega                                                                                                                                          4\n",
       "Botica/Farmacia de mi barrio,Bodega,Mercado                                                                                                     3\n",
       "Botica/Farmacia de mi barrio,Bodega,Supermercado                                                                                                3\n",
       "Botica/Farmacia de mi barrio,Botica/Farmacia de cadena,Mercado                                                                                  3\n",
       "Botica/Farmacia de mi barrio,Farmacias dentro de supermercados,Supermercado                                                                     3\n",
       "Botica/Farmacia de mi barrio,Botica/Farmacia de cadena,Bodega,Farmacias dentro de supermercados,Supermercado                                    3\n",
       "Botica/Farmacia de mi barrio,Bodega,Farmacias dentro de supermercados                                                                           2\n",
       "Botica/Farmacia de mi barrio,Bodega,Vendedor independiente amigo/conocido                                                                       2\n",
       "Farmacias dentro de supermercados                                                                                                               2\n",
       "Botica/Farmacia de mi barrio,Minimarket                                                                                                         1\n",
       "Botica/Farmacia de mi barrio,Farmacias dentro de supermercados,Vendedor independiente amigo/conocido                                            1\n",
       "Botica/Farmacia de mi barrio,Mayoristas                                                                                                         1\n",
       "Botica/Farmacia de mi barrio,Botica/Farmacia de cadena,Mayoristas                                                                               1\n",
       "Bodega,Vendedor independiente amigo/conocido                                                                                                    1\n",
       "Botica/Farmacia de mi barrio,Botica/Farmacia de cadena,Supermercado,Mercado                                                                     1\n",
       "Botica/Farmacia de cadena,Minimarket                                                                                                            1\n",
       "Botica/Farmacia de cadena,Farmacias dentro de supermercados,Supermercado                                                                        1\n",
       "Botica/Farmacia de mi barrio,Vendedor independiente amigo/conocido,Mercado                                                                      1\n",
       "Botica/Farmacia de mi barrio,Botica/Farmacia de cadena,Bodega,Farmacias dentro de supermercados                                                 1\n",
       "Botica/Farmacia de mi barrio,Supermercado,Mercado                                                                                               1\n",
       "Botica/Farmacia de cadena,Mayoristas                                                                                                            1\n",
       "Botica/Farmacia de cadena,Bodega,Farmacias dentro de supermercados,Supermercado                                                                 1\n",
       "Botica/Farmacia de mi barrio,Tiendas de artículos de aseo                                                                                       1\n",
       "Botica/Farmacia de mi barrio,Botica/Farmacia de cadena,Vendedor independiente amigo/conocido,Mercado                                            1\n",
       "Botica/Farmacia de mi barrio,Botica/Farmacia de cadena,Farmacias dentro de supermercados,Supermercado,Vendedor independiente amigo/conocido     1\n",
       "Botica/Farmacia de cadena,Bodega,Mercado                                                                                                        1\n",
       "Minimarket                                                                                                                                      1\n",
       "Botica/Farmacia de mi barrio,Farmacias dentro de supermercados,Supermercado,Vendedor independiente amigo/conocido                               1\n",
       "Bodega,Autoservicios                                                                                                                            1\n",
       "Tiendas de artículos de aseo                                                                                                                    1\n",
       "Botica/Farmacia de cadena,Bodega,Supermercado                                                                                                   1\n",
       "Mercado                                                                                                                                         1\n",
       "Supermercado,Vendedor independiente amigo/conocido                                                                                              1\n",
       "Botica/Farmacia de mi barrio,Botica/Farmacia de cadena,Farmacias dentro de supermercados,Supermercado                                           1\n",
       "Botica/Farmacia de mi barrio,Botica/Farmacia de cadena,Bodega,Mercado                                                                           1\n",
       "Name: count, dtype: int64"
      ]
     },
     "execution_count": 64,
     "metadata": {},
     "output_type": "execute_result"
    }
   ],
   "source": [
    "df['P8'].value_counts()"
   ]
  },
  {
   "cell_type": "code",
   "execution_count": 65,
   "metadata": {},
   "outputs": [
    {
     "name": "stdout",
     "output_type": "stream",
     "text": [
      "Palabra: 'Botica/Farmacia de mi barrio' - Conteo: 187\n",
      "Palabra: 'Botica/Farmacia de cadena' - Conteo: 171\n",
      "Palabra: 'Mercado' - Conteo: 27\n",
      "Palabra: 'Farmacias dentro de supermercados' - Conteo: 35\n",
      "Palabra: 'Bodega' - Conteo: 49\n",
      "Palabra: 'Vendedor independiente amigo/conocido' - Conteo: 29\n",
      "Palabra: 'Supermercado' - Conteo: 55\n",
      "Palabra: 'Mayoristas' - Conteo: 3\n",
      "Palabra: 'Autoservicios' - Conteo: 1\n",
      "Palabra: 'Tiendas de artículos de aseo' - Conteo: 2\n",
      "Palabra: 'Minimarket' - Conteo: 3\n"
     ]
    }
   ],
   "source": [
    "palabras = []\n",
    "for fila in df['P8']:\n",
    "    palabras += fila.split(',') \n",
    "\n",
    "contador_palabras = Counter(palabras)\n",
    "\n",
    "for palabra, conteo in contador_palabras.items():\n",
    "    print(f\"Palabra: '{palabra}' - Conteo: {conteo}\")"
   ]
  },
  {
   "cell_type": "markdown",
   "metadata": {},
   "source": [
    "Verificamos la Pregunta 9, donde el usuario repsonde el lugar donde compra alcohol con mayor frecuencia. "
   ]
  },
  {
   "cell_type": "code",
   "execution_count": 66,
   "metadata": {},
   "outputs": [
    {
     "data": {
      "text/plain": [
       "P9\n",
       "Botica/Farmacia de cadena                124\n",
       "Botica/Farmacia de mi barrio             120\n",
       "(no responde)                             19\n",
       "Bodega                                    11\n",
       "Vendedor independiente amigo/conocido     11\n",
       "Supermercado                              10\n",
       "Farmacias dentro de supermercados          5\n",
       "Name: count, dtype: int64"
      ]
     },
     "execution_count": 66,
     "metadata": {},
     "output_type": "execute_result"
    }
   ],
   "source": [
    "df['P9'].value_counts()"
   ]
  },
  {
   "cell_type": "markdown",
   "metadata": {},
   "source": [
    "Verificamos la Pregunta 10, donde el usuario repsonde el lugar donde le genere mayor confianza.  "
   ]
  },
  {
   "cell_type": "code",
   "execution_count": 67,
   "metadata": {},
   "outputs": [
    {
     "data": {
      "text/plain": [
       "P10\n",
       "Botica/Farmacia de cadena                148\n",
       "Botica/Farmacia de mi barrio             105\n",
       "(no responde)                             11\n",
       "Supermercado                              10\n",
       "Bodega                                     9\n",
       "Vendedor independiente amigo/conocido      9\n",
       "Farmacias dentro de supermercados          8\n",
       "Name: count, dtype: int64"
      ]
     },
     "execution_count": 67,
     "metadata": {},
     "output_type": "execute_result"
    }
   ],
   "source": [
    "df['P10'].value_counts()"
   ]
  },
  {
   "cell_type": "markdown",
   "metadata": {},
   "source": [
    "Verificamos la Pregunta 11, donde el usuario repsonde que tan satisfecho se encuentra con la marca de alcohol que usa.  "
   ]
  },
  {
   "cell_type": "code",
   "execution_count": 68,
   "metadata": {},
   "outputs": [
    {
     "data": {
      "text/plain": [
       "P11\n",
       "4. Satisfecho                       188\n",
       "5. Muy satisfecho                   100\n",
       "3. Ni satisfecho ni insatisfecho     10\n",
       "2. Insatisfecho                       2\n",
       "Name: count, dtype: int64"
      ]
     },
     "execution_count": 68,
     "metadata": {},
     "output_type": "execute_result"
    }
   ],
   "source": [
    "df['P11'].value_counts()"
   ]
  },
  {
   "cell_type": "code",
   "execution_count": 69,
   "metadata": {},
   "outputs": [
    {
     "data": {
      "text/plain": [
       "count               300\n",
       "unique                4\n",
       "top       4. Satisfecho\n",
       "freq                188\n",
       "Name: P11, dtype: object"
      ]
     },
     "execution_count": 69,
     "metadata": {},
     "output_type": "execute_result"
    }
   ],
   "source": [
    "df['P11'].describe()"
   ]
  },
  {
   "cell_type": "markdown",
   "metadata": {},
   "source": [
    "Unimos las columnas de la pregunta 12, el cual dice porque se siente satsifecho, muy satisfecho, etc. "
   ]
  },
  {
   "cell_type": "code",
   "execution_count": 70,
   "metadata": {},
   "outputs": [],
   "source": [
    "columnaP12= ['P12_1_1','P12_1_2',\t'P12_2_1',\t'P12_2_2',\t'P12_3_1',\t'P12_3_2',\t'P12_3_3',\t'P12_3_4',\t'P12_3_5']\n",
    "\n",
    "def combine_columns(row):\n",
    "    values = [str(row[col]) for col in columnaP12 if not pd.isna(row[col])]\n",
    "    return ','.join(values)\n",
    "\n",
    "df['P12'] = df.apply(combine_columns, axis=1)"
   ]
  },
  {
   "cell_type": "code",
   "execution_count": 71,
   "metadata": {},
   "outputs": [
    {
     "data": {
      "text/plain": [
       "count                                               300\n",
       "unique                                              146\n",
       "top       Porque desinfecta (mata gérmenes y bacterias)\n",
       "freq                                                 20\n",
       "Name: P12, dtype: object"
      ]
     },
     "execution_count": 71,
     "metadata": {},
     "output_type": "execute_result"
    }
   ],
   "source": [
    "df['P12'].describe()"
   ]
  },
  {
   "cell_type": "code",
   "execution_count": 72,
   "metadata": {},
   "outputs": [
    {
     "name": "stdout",
     "output_type": "stream",
     "text": [
      "Palabra: 'Porque es de una marca reconocida' - Conteo: 20\n",
      "Palabra: 'Porque desinfecta (mata gérmenes y bacterias)' - Conteo: 97\n",
      "Palabra: 'Porque me protege contra el COVID' - Conteo: 22\n",
      "Palabra: 'Porque no me da inconvenientes' - Conteo: 18\n",
      "Palabra: 'Porque puedo desinfectar objetos' - Conteo: 9\n",
      "Palabra: 'Porque no irrita la piel' - Conteo: 61\n",
      "Palabra: 'Porque tiene buen aroma / se siente el alcohol' - Conteo: 64\n",
      "Palabra: 'Porque puedo desinfectar superficies' - Conteo: 7\n",
      "Palabra: 'Porque es puro' - Conteo: 60\n",
      "Palabra: 'Porque es de calidad' - Conteo: 36\n",
      "Palabra: 'Porque no me genera alergia' - Conteo: 2\n",
      "Palabra: 'Porque es económico' - Conteo: 33\n",
      "Palabra: 'Porque me da confianza' - Conteo: 29\n",
      "Palabra: 'Porque no es pegajoso' - Conteo: 6\n",
      "Palabra: 'Porque cura las heridas' - Conteo: 1\n",
      "Palabra: 'Porque es práctico' - Conteo: 5\n",
      "Palabra: 'Porque desinfecta la piel' - Conteo: 29\n",
      "Palabra: 'Porque no se ha renovado el empaque' - Conteo: 1\n",
      "Palabra: 'Porque demora en evaporarse' - Conteo: 15\n",
      "Palabra: 'Porque la presentación es la adecuada' - Conteo: 14\n",
      "Palabra: 'Porque escasea el de 70%' - Conteo: 3\n",
      "Palabra: 'Porque no daña la ropa' - Conteo: 3\n",
      "Palabra: '' - Conteo: 2\n",
      "Palabra: 'Porque es de 96%' - Conteo: 4\n",
      "Palabra: 'Porque el alcohol hace daño a la piel' - Conteo: 4\n",
      "Palabra: 'Porque es fácil de encontrar' - Conteo: 9\n",
      "Palabra: 'El precio es elevado' - Conteo: 2\n",
      "Palabra: 'Porque desinfecta' - Conteo: 2\n",
      "Palabra: 'Sirve contra el dolor de cabeza' - Conteo: 1\n",
      "Palabra: 'El producto no es confiable' - Conteo: 1\n",
      "Palabra: 'No es puro' - Conteo: 1\n",
      "Palabra: 'No precisa' - Conteo: 1\n",
      "Palabra: 'Es fácil de encontrar' - Conteo: 2\n",
      "Palabra: 'Tiene olor demasiado fuerte' - Conteo: 1\n",
      "Palabra: 'Tiene fecha de vencimiento' - Conteo: 1\n"
     ]
    }
   ],
   "source": [
    "palabras = []\n",
    "for fila in df['P12']:\n",
    "    palabras += fila.split(',') \n",
    "\n",
    "contador_palabras = Counter(palabras)\n",
    "\n",
    "for palabra, conteo in contador_palabras.items():\n",
    "    print(f\"Palabra: '{palabra}' - Conteo: {conteo}\")"
   ]
  },
  {
   "cell_type": "markdown",
   "metadata": {},
   "source": [
    "Eliminamos las columnas ``['P12_1_1','P12_1_2',\t'P12_2_1',\t'P12_2_2',\t'P12_3_1',\t'P12_3_2',\t'P12_3_3',\t'P12_3_4',\t'P12_3_5']``"
   ]
  },
  {
   "cell_type": "code",
   "execution_count": 73,
   "metadata": {},
   "outputs": [],
   "source": [
    "df.drop(columns=['P12_1_1','P12_1_2',\t'P12_2_1',\t'P12_2_2',\t'P12_3_1',\t'P12_3_2',\t'P12_3_3',\t'P12_3_4',\t'P12_3_5'], axis=1, inplace=True)"
   ]
  },
  {
   "cell_type": "markdown",
   "metadata": {},
   "source": [
    "# Cuarto apartado `ATRIBUTOS VALORADOS - ALCOHOL LIQUIDO EN BOTELLA`"
   ]
  },
  {
   "cell_type": "markdown",
   "metadata": {},
   "source": [
    "Ahora vamos a hablar sobre los atributos de las marcas que venden alcohol líquido en botella."
   ]
  },
  {
   "cell_type": "code",
   "execution_count": 74,
   "metadata": {},
   "outputs": [
    {
     "data": {
      "text/html": [
       "<div>\n",
       "<style scoped>\n",
       "    .dataframe tbody tr th:only-of-type {\n",
       "        vertical-align: middle;\n",
       "    }\n",
       "\n",
       "    .dataframe tbody tr th {\n",
       "        vertical-align: top;\n",
       "    }\n",
       "\n",
       "    .dataframe thead th {\n",
       "        text-align: right;\n",
       "    }\n",
       "</style>\n",
       "<table border=\"1\" class=\"dataframe\">\n",
       "  <thead>\n",
       "    <tr style=\"text-align: right;\">\n",
       "      <th></th>\n",
       "      <th>P27_6</th>\n",
       "      <th>P27_7</th>\n",
       "      <th>P27_8</th>\n",
       "      <th>P28_1</th>\n",
       "      <th>P28_2</th>\n",
       "      <th>P28_3</th>\n",
       "      <th>P28_4</th>\n",
       "      <th>P28_5</th>\n",
       "      <th>P28_6</th>\n",
       "      <th>P29_1</th>\n",
       "      <th>P29_2</th>\n",
       "      <th>P29_3</th>\n",
       "      <th>P29_4</th>\n",
       "      <th>P29_5</th>\n",
       "      <th>P29_6</th>\n",
       "      <th>P29_7</th>\n",
       "    </tr>\n",
       "  </thead>\n",
       "  <tbody>\n",
       "    <tr>\n",
       "      <th>0</th>\n",
       "      <td>NaN</td>\n",
       "      <td>NaN</td>\n",
       "      <td>NaN</td>\n",
       "      <td>Alcohol puro 96°</td>\n",
       "      <td>NaN</td>\n",
       "      <td>NaN</td>\n",
       "      <td>NaN</td>\n",
       "      <td>NaN</td>\n",
       "      <td>NaN</td>\n",
       "      <td>NaN</td>\n",
       "      <td>Una vez cada 6 meses</td>\n",
       "      <td>Una vez al año</td>\n",
       "      <td>NaN</td>\n",
       "      <td>Una vez cada 2 o 3 meses</td>\n",
       "      <td>NaN</td>\n",
       "      <td>NaN</td>\n",
       "    </tr>\n",
       "    <tr>\n",
       "      <th>1</th>\n",
       "      <td>NaN</td>\n",
       "      <td>NaN</td>\n",
       "      <td>NaN</td>\n",
       "      <td>Alcohol puro 96°</td>\n",
       "      <td>NaN</td>\n",
       "      <td>NaN</td>\n",
       "      <td>NaN</td>\n",
       "      <td>NaN</td>\n",
       "      <td>NaN</td>\n",
       "      <td>Una vez al mes</td>\n",
       "      <td>NaN</td>\n",
       "      <td>NaN</td>\n",
       "      <td>NaN</td>\n",
       "      <td>Una vez cada 2 o 3 meses</td>\n",
       "      <td>NaN</td>\n",
       "      <td>NaN</td>\n",
       "    </tr>\n",
       "    <tr>\n",
       "      <th>2</th>\n",
       "      <td>NaN</td>\n",
       "      <td>NaN</td>\n",
       "      <td>NaN</td>\n",
       "      <td>Alcohol puro 96°</td>\n",
       "      <td>NaN</td>\n",
       "      <td>NaN</td>\n",
       "      <td>NaN</td>\n",
       "      <td>NaN</td>\n",
       "      <td>NaN</td>\n",
       "      <td>Una vez cada 2 o 3 meses</td>\n",
       "      <td>NaN</td>\n",
       "      <td>NaN</td>\n",
       "      <td>NaN</td>\n",
       "      <td>Una vez al año</td>\n",
       "      <td>NaN</td>\n",
       "      <td>NaN</td>\n",
       "    </tr>\n",
       "    <tr>\n",
       "      <th>3</th>\n",
       "      <td>NaN</td>\n",
       "      <td>NaN</td>\n",
       "      <td>NaN</td>\n",
       "      <td>Alcohol puro 96°</td>\n",
       "      <td>Alcohol en gel</td>\n",
       "      <td>NaN</td>\n",
       "      <td>NaN</td>\n",
       "      <td>NaN</td>\n",
       "      <td>NaN</td>\n",
       "      <td>NaN</td>\n",
       "      <td>Una vez al año</td>\n",
       "      <td>NaN</td>\n",
       "      <td>NaN</td>\n",
       "      <td>Una vez cada 6 meses</td>\n",
       "      <td>NaN</td>\n",
       "      <td>Nunca</td>\n",
       "    </tr>\n",
       "    <tr>\n",
       "      <th>4</th>\n",
       "      <td>NaN</td>\n",
       "      <td>NaN</td>\n",
       "      <td>NaN</td>\n",
       "      <td>Alcohol puro 96°</td>\n",
       "      <td>NaN</td>\n",
       "      <td>NaN</td>\n",
       "      <td>NaN</td>\n",
       "      <td>NaN</td>\n",
       "      <td>NaN</td>\n",
       "      <td>NaN</td>\n",
       "      <td>NaN</td>\n",
       "      <td>Una vez al año</td>\n",
       "      <td>NaN</td>\n",
       "      <td>Una vez al año</td>\n",
       "      <td>NaN</td>\n",
       "      <td>Nunca</td>\n",
       "    </tr>\n",
       "    <tr>\n",
       "      <th>...</th>\n",
       "      <td>...</td>\n",
       "      <td>...</td>\n",
       "      <td>...</td>\n",
       "      <td>...</td>\n",
       "      <td>...</td>\n",
       "      <td>...</td>\n",
       "      <td>...</td>\n",
       "      <td>...</td>\n",
       "      <td>...</td>\n",
       "      <td>...</td>\n",
       "      <td>...</td>\n",
       "      <td>...</td>\n",
       "      <td>...</td>\n",
       "      <td>...</td>\n",
       "      <td>...</td>\n",
       "      <td>...</td>\n",
       "    </tr>\n",
       "    <tr>\n",
       "      <th>295</th>\n",
       "      <td>NaN</td>\n",
       "      <td>NaN</td>\n",
       "      <td>NaN</td>\n",
       "      <td>Alcohol puro 96°</td>\n",
       "      <td>NaN</td>\n",
       "      <td>NaN</td>\n",
       "      <td>NaN</td>\n",
       "      <td>NaN</td>\n",
       "      <td>NaN</td>\n",
       "      <td>NaN</td>\n",
       "      <td>NaN</td>\n",
       "      <td>Una vez cada 6 meses</td>\n",
       "      <td>NaN</td>\n",
       "      <td>Una vez cada 6 meses</td>\n",
       "      <td>NaN</td>\n",
       "      <td>NaN</td>\n",
       "    </tr>\n",
       "    <tr>\n",
       "      <th>296</th>\n",
       "      <td>NaN</td>\n",
       "      <td>NaN</td>\n",
       "      <td>NaN</td>\n",
       "      <td>Alcohol medicinal 70%</td>\n",
       "      <td>NaN</td>\n",
       "      <td>NaN</td>\n",
       "      <td>NaN</td>\n",
       "      <td>NaN</td>\n",
       "      <td>NaN</td>\n",
       "      <td>NaN</td>\n",
       "      <td>NaN</td>\n",
       "      <td>2. Una vez a la semana</td>\n",
       "      <td>Una vez cada 6 meses</td>\n",
       "      <td>NaN</td>\n",
       "      <td>NaN</td>\n",
       "      <td>NaN</td>\n",
       "    </tr>\n",
       "    <tr>\n",
       "      <th>297</th>\n",
       "      <td>NaN</td>\n",
       "      <td>NaN</td>\n",
       "      <td>NaN</td>\n",
       "      <td>Alcohol puro 96°</td>\n",
       "      <td>NaN</td>\n",
       "      <td>NaN</td>\n",
       "      <td>NaN</td>\n",
       "      <td>NaN</td>\n",
       "      <td>NaN</td>\n",
       "      <td>Una vez cada 6 meses</td>\n",
       "      <td>NaN</td>\n",
       "      <td>NaN</td>\n",
       "      <td>NaN</td>\n",
       "      <td>Una vez al año</td>\n",
       "      <td>NaN</td>\n",
       "      <td>NaN</td>\n",
       "    </tr>\n",
       "    <tr>\n",
       "      <th>298</th>\n",
       "      <td>NaN</td>\n",
       "      <td>NaN</td>\n",
       "      <td>NaN</td>\n",
       "      <td>Alcohol puro 96°</td>\n",
       "      <td>NaN</td>\n",
       "      <td>NaN</td>\n",
       "      <td>NaN</td>\n",
       "      <td>NaN</td>\n",
       "      <td>NaN</td>\n",
       "      <td>NaN</td>\n",
       "      <td>NaN</td>\n",
       "      <td>NaN</td>\n",
       "      <td>NaN</td>\n",
       "      <td>Una vez cada 2 o 3 meses</td>\n",
       "      <td>NaN</td>\n",
       "      <td>NaN</td>\n",
       "    </tr>\n",
       "    <tr>\n",
       "      <th>299</th>\n",
       "      <td>NaN</td>\n",
       "      <td>NaN</td>\n",
       "      <td>NaN</td>\n",
       "      <td>Alcohol puro 96°</td>\n",
       "      <td>NaN</td>\n",
       "      <td>NaN</td>\n",
       "      <td>NaN</td>\n",
       "      <td>NaN</td>\n",
       "      <td>NaN</td>\n",
       "      <td>NaN</td>\n",
       "      <td>NaN</td>\n",
       "      <td>NaN</td>\n",
       "      <td>NaN</td>\n",
       "      <td>Una vez al mes</td>\n",
       "      <td>NaN</td>\n",
       "      <td>NaN</td>\n",
       "    </tr>\n",
       "  </tbody>\n",
       "</table>\n",
       "<p>300 rows × 16 columns</p>\n",
       "</div>"
      ],
      "text/plain": [
       "    P27_6 P27_7 P27_8                  P28_1           P28_2 P28_3 P28_4  \\\n",
       "0     NaN   NaN   NaN       Alcohol puro 96°             NaN   NaN   NaN   \n",
       "1     NaN   NaN   NaN       Alcohol puro 96°             NaN   NaN   NaN   \n",
       "2     NaN   NaN   NaN       Alcohol puro 96°             NaN   NaN   NaN   \n",
       "3     NaN   NaN   NaN       Alcohol puro 96°  Alcohol en gel   NaN   NaN   \n",
       "4     NaN   NaN   NaN       Alcohol puro 96°             NaN   NaN   NaN   \n",
       "..    ...   ...   ...                    ...             ...   ...   ...   \n",
       "295   NaN   NaN   NaN       Alcohol puro 96°             NaN   NaN   NaN   \n",
       "296   NaN   NaN   NaN  Alcohol medicinal 70%             NaN   NaN   NaN   \n",
       "297   NaN   NaN   NaN       Alcohol puro 96°             NaN   NaN   NaN   \n",
       "298   NaN   NaN   NaN       Alcohol puro 96°             NaN   NaN   NaN   \n",
       "299   NaN   NaN   NaN       Alcohol puro 96°             NaN   NaN   NaN   \n",
       "\n",
       "    P28_5 P28_6                     P29_1                 P29_2  \\\n",
       "0     NaN   NaN                       NaN  Una vez cada 6 meses   \n",
       "1     NaN   NaN            Una vez al mes                   NaN   \n",
       "2     NaN   NaN  Una vez cada 2 o 3 meses                   NaN   \n",
       "3     NaN   NaN                       NaN        Una vez al año   \n",
       "4     NaN   NaN                       NaN                   NaN   \n",
       "..    ...   ...                       ...                   ...   \n",
       "295   NaN   NaN                       NaN                   NaN   \n",
       "296   NaN   NaN                       NaN                   NaN   \n",
       "297   NaN   NaN      Una vez cada 6 meses                   NaN   \n",
       "298   NaN   NaN                       NaN                   NaN   \n",
       "299   NaN   NaN                       NaN                   NaN   \n",
       "\n",
       "                      P29_3                 P29_4                     P29_5  \\\n",
       "0            Una vez al año                   NaN  Una vez cada 2 o 3 meses   \n",
       "1                       NaN                   NaN  Una vez cada 2 o 3 meses   \n",
       "2                       NaN                   NaN            Una vez al año   \n",
       "3                       NaN                   NaN      Una vez cada 6 meses   \n",
       "4            Una vez al año                   NaN            Una vez al año   \n",
       "..                      ...                   ...                       ...   \n",
       "295    Una vez cada 6 meses                   NaN      Una vez cada 6 meses   \n",
       "296  2. Una vez a la semana  Una vez cada 6 meses                       NaN   \n",
       "297                     NaN                   NaN            Una vez al año   \n",
       "298                     NaN                   NaN  Una vez cada 2 o 3 meses   \n",
       "299                     NaN                   NaN            Una vez al mes   \n",
       "\n",
       "    P29_6  P29_7  \n",
       "0     NaN    NaN  \n",
       "1     NaN    NaN  \n",
       "2     NaN    NaN  \n",
       "3     NaN  Nunca  \n",
       "4     NaN  Nunca  \n",
       "..    ...    ...  \n",
       "295   NaN    NaN  \n",
       "296   NaN    NaN  \n",
       "297   NaN    NaN  \n",
       "298   NaN    NaN  \n",
       "299   NaN    NaN  \n",
       "\n",
       "[300 rows x 16 columns]"
      ]
     },
     "execution_count": 74,
     "metadata": {},
     "output_type": "execute_result"
    }
   ],
   "source": [
    "# alc_liqu_botella = df.iloc[:, 62:112]\n",
    "alc_liqu_botella = df.iloc[:, 130:146]\n",
    "\n",
    "alc_liqu_botella"
   ]
  },
  {
   "cell_type": "markdown",
   "metadata": {},
   "source": [
    "verificamos la pregunta 13 el cual dice -> ¿cuál es la razón más importante para que usted escoja una marca?\n",
    "\n",
    "``Para ranking positivo``"
   ]
  },
  {
   "cell_type": "code",
   "execution_count": 75,
   "metadata": {},
   "outputs": [
    {
     "data": {
      "text/plain": [
       "P13_1\n",
       "Que el producto sea de calidad                                  77\n",
       "Que no dañe la piel                                             45\n",
       "Que tenga un precio accesible                                   37\n",
       "Que la marca sea prestigiosa                                    29\n",
       "Que tenga un empaque práctico                                   28\n",
       "Que tenga todas las certificaciones de calidad                  24\n",
       "Que sea fácil de encontrar en distintos establecimientos        20\n",
       "Que se venda en puntos de venta de confianza                    16\n",
       "Que el producto me genere confianza                             12\n",
       "Que sea la que siempre compran en mi casa                        6\n",
       "Que esté en promoción/oferta                                     3\n",
       "Que sea la que me recomiende el vendedor/Boticario/farmacéut     3\n",
       "Name: count, dtype: int64"
      ]
     },
     "execution_count": 75,
     "metadata": {},
     "output_type": "execute_result"
    }
   ],
   "source": [
    "# Para la evaluacion '1'\n",
    "df['P13_1'].value_counts()"
   ]
  },
  {
   "cell_type": "code",
   "execution_count": 76,
   "metadata": {},
   "outputs": [
    {
     "data": {
      "text/plain": [
       "P13_2\n",
       "Que no dañe la piel                                             70\n",
       "Que el producto sea de calidad                                  48\n",
       "Que tenga un precio accesible                                   46\n",
       "Que tenga todas las certificaciones de calidad                  30\n",
       "Que el producto me genere confianza                             27\n",
       "Que sea fácil de encontrar en distintos establecimientos        17\n",
       "Que tenga un empaque práctico                                   17\n",
       "Que la marca sea prestigiosa                                    13\n",
       "Que se venda en puntos de venta de confianza                     9\n",
       "Que esté en promoción/oferta                                     8\n",
       "Que sea la que me recomiende el vendedor/Boticario/farmacéut     6\n",
       "Que sea la que siempre compran en mi casa                        6\n",
       "Que tenga trayectoria                                            3\n",
       "Name: count, dtype: int64"
      ]
     },
     "execution_count": 76,
     "metadata": {},
     "output_type": "execute_result"
    }
   ],
   "source": [
    "# Para la evaluacion '2'\n",
    "df['P13_2'].value_counts()"
   ]
  },
  {
   "cell_type": "code",
   "execution_count": 77,
   "metadata": {},
   "outputs": [
    {
     "data": {
      "text/plain": [
       "P13_3\n",
       "Que no dañe la piel                                             53\n",
       "Que tenga todas las certificaciones de calidad                  42\n",
       "Que tenga un precio accesible                                   40\n",
       "Que el producto me genere confianza                             35\n",
       "Que el producto sea de calidad                                  27\n",
       "Que se venda en puntos de venta de confianza                    21\n",
       "Que la marca sea prestigiosa                                    17\n",
       "Que sea fácil de encontrar en distintos establecimientos        16\n",
       "Que esté en promoción/oferta                                    14\n",
       "Que sea la que me recomiende el vendedor/Boticario/farmacéut    12\n",
       "Que tenga un empaque práctico                                   11\n",
       "Que sea la que siempre compran en mi casa                        7\n",
       "Que tenga trayectoria                                            5\n",
       "Name: count, dtype: int64"
      ]
     },
     "execution_count": 77,
     "metadata": {},
     "output_type": "execute_result"
    }
   ],
   "source": [
    "# Para la evaluacion '3'\n",
    "df['P13_3'].value_counts()"
   ]
  },
  {
   "cell_type": "code",
   "execution_count": 78,
   "metadata": {},
   "outputs": [
    {
     "data": {
      "text/plain": [
       "P13_4\n",
       "Que no dañe la piel                                             40\n",
       "Que el producto me genere confianza                             39\n",
       "Que tenga un precio accesible                                   34\n",
       "Que el producto sea de calidad                                  33\n",
       "Que tenga todas las certificaciones de calidad                  31\n",
       "Que sea fácil de encontrar en distintos establecimientos        30\n",
       "Que se venda en puntos de venta de confianza                    29\n",
       "Que tenga un empaque práctico                                   22\n",
       "Que esté en promoción/oferta                                    12\n",
       "Que la marca sea prestigiosa                                    10\n",
       "Que sea la que me recomiende el vendedor/Boticario/farmacéut     9\n",
       "Que tenga trayectoria                                            6\n",
       "Que sea la que siempre compran en mi casa                        5\n",
       "Name: count, dtype: int64"
      ]
     },
     "execution_count": 78,
     "metadata": {},
     "output_type": "execute_result"
    }
   ],
   "source": [
    "# Para la evaluacion '4'\n",
    "df['P13_4'].value_counts()"
   ]
  },
  {
   "cell_type": "markdown",
   "metadata": {},
   "source": [
    "verificamos la pregunta 14 el cual dice -> ¿cuál es la razón menos importante para que usted escoja una marca?\n",
    "\n",
    "``Para ranking negativo``"
   ]
  },
  {
   "cell_type": "code",
   "execution_count": 79,
   "metadata": {},
   "outputs": [
    {
     "data": {
      "text/plain": [
       "P14_1\n",
       "Que tenga un empaque práctico                                   67\n",
       "Que esté en promoción/oferta                                    52\n",
       "Que tenga trayectoria                                           50\n",
       "Que sea la que me recomiende el vendedor/Boticario/farmacéut    35\n",
       "Que la marca sea prestigiosa                                    27\n",
       "Que sea la que siempre compran en mi casa                       19\n",
       "Que sea fácil de encontrar en distintos establecimientos        14\n",
       "Que tenga un precio accesible                                   14\n",
       "Que no dañe la piel                                              7\n",
       "Que se venda en puntos de venta de confianza                     7\n",
       "Que el producto me genere confianza                              4\n",
       "Que el producto sea de calidad                                   2\n",
       "Que tenga todas las certificaciones de calidad                   2\n",
       "Name: count, dtype: int64"
      ]
     },
     "execution_count": 79,
     "metadata": {},
     "output_type": "execute_result"
    }
   ],
   "source": [
    "# Para la evaluacion '1'\n",
    "df['P14_1'].value_counts()"
   ]
  },
  {
   "cell_type": "code",
   "execution_count": 80,
   "metadata": {},
   "outputs": [
    {
     "data": {
      "text/plain": [
       "P14_2\n",
       "Que sea la que me recomiende el vendedor/Boticario/farmacéut    49\n",
       "Que esté en promoción/oferta                                    48\n",
       "Que sea la que siempre compran en mi casa                       39\n",
       "Que tenga un empaque práctico                                   36\n",
       "Que tenga trayectoria                                           33\n",
       "Que la marca sea prestigiosa                                    31\n",
       "Que sea fácil de encontrar en distintos establecimientos        18\n",
       "Que tenga un precio accesible                                   15\n",
       "Que se venda en puntos de venta de confianza                    11\n",
       "Que el producto me genere confianza                              9\n",
       "Que tenga todas las certificaciones de calidad                   7\n",
       "Que el producto sea de calidad                                   3\n",
       "Que no dañe la piel                                              1\n",
       "Name: count, dtype: int64"
      ]
     },
     "execution_count": 80,
     "metadata": {},
     "output_type": "execute_result"
    }
   ],
   "source": [
    "# Para la evaluacion '2'\n",
    "df['P14_2'].value_counts()"
   ]
  },
  {
   "cell_type": "code",
   "execution_count": 81,
   "metadata": {},
   "outputs": [
    {
     "data": {
      "text/plain": [
       "P13_3\n",
       "Que no dañe la piel                                             53\n",
       "Que tenga todas las certificaciones de calidad                  42\n",
       "Que tenga un precio accesible                                   40\n",
       "Que el producto me genere confianza                             35\n",
       "Que el producto sea de calidad                                  27\n",
       "Que se venda en puntos de venta de confianza                    21\n",
       "Que la marca sea prestigiosa                                    17\n",
       "Que sea fácil de encontrar en distintos establecimientos        16\n",
       "Que esté en promoción/oferta                                    14\n",
       "Que sea la que me recomiende el vendedor/Boticario/farmacéut    12\n",
       "Que tenga un empaque práctico                                   11\n",
       "Que sea la que siempre compran en mi casa                        7\n",
       "Que tenga trayectoria                                            5\n",
       "Name: count, dtype: int64"
      ]
     },
     "execution_count": 81,
     "metadata": {},
     "output_type": "execute_result"
    }
   ],
   "source": [
    "# Para la evaluacion '3'\n",
    "df['P13_3'].value_counts()"
   ]
  },
  {
   "cell_type": "code",
   "execution_count": 82,
   "metadata": {},
   "outputs": [
    {
     "data": {
      "text/plain": [
       "P14_4\n",
       "Que tenga trayectoria                                           42\n",
       "Que sea la que siempre compran en mi casa                       41\n",
       "Que sea la que me recomiende el vendedor/Boticario/farmacéut    37\n",
       "Que tenga un empaque práctico                                   37\n",
       "Que esté en promoción/oferta                                    32\n",
       "Que la marca sea prestigiosa                                    26\n",
       "Que sea fácil de encontrar en distintos establecimientos        24\n",
       "Que se venda en puntos de venta de confianza                    22\n",
       "Que tenga un precio accesible                                   14\n",
       "Que tenga todas las certificaciones de calidad                  12\n",
       "Que el producto me genere confianza                              7\n",
       "Que no dañe la piel                                              5\n",
       "Que el producto sea de calidad                                   1\n",
       "Name: count, dtype: int64"
      ]
     },
     "execution_count": 82,
     "metadata": {},
     "output_type": "execute_result"
    }
   ],
   "source": [
    "# Para la evaluacion '4'\n",
    "df['P14_4'].value_counts()"
   ]
  },
  {
   "cell_type": "markdown",
   "metadata": {},
   "source": [
    "Verificamos la pregunta 15 el cual obtiene las marcas de los alcoholes comerciales."
   ]
  },
  {
   "cell_type": "code",
   "execution_count": 83,
   "metadata": {},
   "outputs": [],
   "source": [
    "columnaP15= ['P15_1', 'P15_2', 'P15_3',\t'P15_4', 'P15_5']\n",
    "\n",
    "def combine_columns(row):\n",
    "    values = [str(row[col]) for col in columnaP15 if not pd.isna(row[col])]\n",
    "    return ','.join(values)\n",
    "\n",
    "df['P15'] = df.apply(combine_columns, axis=1)"
   ]
  },
  {
   "cell_type": "markdown",
   "metadata": {},
   "source": [
    "Eliminamos las columnas`` ['P15_1', 'P15_2', 'P15_3',\t'P15_4', 'P15_5']``"
   ]
  },
  {
   "cell_type": "code",
   "execution_count": 84,
   "metadata": {},
   "outputs": [],
   "source": [
    "df.drop(columns=['P15_1', 'P15_2', 'P15_3',\t'P15_4', 'P15_5'], axis=1, inplace=True)"
   ]
  },
  {
   "cell_type": "code",
   "execution_count": 85,
   "metadata": {},
   "outputs": [
    {
     "data": {
      "text/plain": [
       "P15\n",
       "Ninguna                          79\n",
       "Alkofarma                        53\n",
       "Casa Grande                      27\n",
       "Inkafarma                         8\n",
       "No precisa                        7\n",
       "                                 ..\n",
       "Hersil,Alkofarma                  1\n",
       "Casa Grande,Balanze               1\n",
       "Martel,Casa Grande,Boreal         1\n",
       "Sanakol                           1\n",
       "Alkofarma,Casa Grande,Experto     1\n",
       "Name: count, Length: 104, dtype: int64"
      ]
     },
     "execution_count": 85,
     "metadata": {},
     "output_type": "execute_result"
    }
   ],
   "source": [
    "df['P15'].value_counts()"
   ]
  },
  {
   "cell_type": "code",
   "execution_count": 86,
   "metadata": {},
   "outputs": [
    {
     "name": "stdout",
     "output_type": "stream",
     "text": [
      "Palabra: 'Casa Grande' - Conteo: 73\n",
      "Palabra: 'Jemfarma' - Conteo: 4\n",
      "Palabra: 'Alkofarma' - Conteo: 108\n",
      "Palabra: 'Boreal' - Conteo: 28\n",
      "Palabra: 'Ninguna' - Conteo: 79\n",
      "Palabra: 'Inkafarma' - Conteo: 19\n",
      "Palabra: 'Erza' - Conteo: 3\n",
      "Palabra: 'Integración Química' - Conteo: 1\n",
      "Palabra: 'Alkamedic' - Conteo: 2\n",
      "Palabra: 'Doña María' - Conteo: 3\n",
      "Palabra: 'Ahryfarma' - Conteo: 1\n",
      "Palabra: 'Aval' - Conteo: 9\n",
      "Palabra: 'Hersil' - Conteo: 7\n",
      "Palabra: 'No precisa' - Conteo: 10\n",
      "Palabra: 'Portugal' - Conteo: 21\n",
      "Palabra: 'Experto' - Conteo: 3\n",
      "Palabra: 'Álicorp' - Conteo: 1\n",
      "Palabra: 'Vick' - Conteo: 1\n",
      "Palabra: 'Mifarma' - Conteo: 9\n",
      "Palabra: 'Purol' - Conteo: 8\n",
      "Palabra: 'Instant Clean' - Conteo: 4\n",
      "Palabra: 'Sanakol' - Conteo: 5\n",
      "Palabra: 'Sante' - Conteo: 1\n",
      "Palabra: 'Mundofar' - Conteo: 1\n",
      "Palabra: 'Mr. Brillo' - Conteo: 1\n",
      "Palabra: 'Martel' - Conteo: 1\n",
      "Palabra: 'Balanze' - Conteo: 1\n",
      "Palabra: 'Aky' - Conteo: 1\n",
      "Palabra: 'Productos Leo' - Conteo: 1\n",
      "Palabra: 'Representaciones J y L' - Conteo: 1\n",
      "Palabra: 'Natura' - Conteo: 1\n",
      "Palabra: 'Fabrimedic' - Conteo: 1\n",
      "Palabra: 'Tanb' - Conteo: 1\n",
      "Palabra: 'Az' - Conteo: 2\n",
      "Palabra: 'Isafer' - Conteo: 1\n",
      "Palabra: 'Losaro' - Conteo: 1\n",
      "Palabra: 'Free Clean' - Conteo: 1\n",
      "Palabra: 'Don Emilio' - Conteo: 2\n",
      "Palabra: 'Alcomed' - Conteo: 1\n",
      "Palabra: 'Nex' - Conteo: 1\n",
      "Palabra: 'Mathfarm' - Conteo: 4\n",
      "Palabra: 'San Jacinto' - Conteo: 1\n",
      "Palabra: 'CKF' - Conteo: 2\n",
      "Palabra: 'Neo Clean' - Conteo: 1\n",
      "Palabra: 'AQD Medic' - Conteo: 1\n",
      "Palabra: 'Gama' - Conteo: 1\n",
      "Palabra: 'Protecto' - Conteo: 1\n",
      "Palabra: 'Om' - Conteo: 1\n",
      "Palabra: 'Medical' - Conteo: 1\n",
      "Palabra: 'Catroc' - Conteo: 1\n",
      "Palabra: 'Idogel' - Conteo: 1\n"
     ]
    }
   ],
   "source": [
    "palabras = []\n",
    "for fila in df['P15']:\n",
    "    palabras += fila.split(',') \n",
    "\n",
    "contador_palabras = Counter(palabras)\n",
    "\n",
    "for palabra, conteo in contador_palabras.items():\n",
    "    print(f\"Palabra: '{palabra}' - Conteo: {conteo}\")"
   ]
  },
  {
   "cell_type": "markdown",
   "metadata": {},
   "source": [
    "Verificamos la pregunta 16 -> ¿Cuál de las siguientes marcas que conoce aunque sea de nombre?"
   ]
  },
  {
   "cell_type": "code",
   "execution_count": 87,
   "metadata": {},
   "outputs": [],
   "source": [
    "columnaP16= ['P16_1', 'P16_2', 'P16_3', 'P16_4', 'P16_5', 'P16_6',\t'P16_7', 'P16_8', 'P16_9', 'P16_10']\n",
    "\n",
    "def combine_columns(row):\n",
    "    values = [str(row[col]) for col in columnaP16 if not pd.isna(row[col])]\n",
    "    return ','.join(values)\n",
    "\n",
    "df['P16'] = df.apply(combine_columns, axis=1)"
   ]
  },
  {
   "cell_type": "code",
   "execution_count": 88,
   "metadata": {},
   "outputs": [],
   "source": [
    "df.drop(columns=['P16_1', 'P16_2', 'P16_3', 'P16_4', 'P16_5', 'P16_6',\t'P16_7', 'P16_8', 'P16_9', 'P16_10'], axis=1, inplace=True)"
   ]
  },
  {
   "cell_type": "code",
   "execution_count": 89,
   "metadata": {},
   "outputs": [
    {
     "data": {
      "text/plain": [
       "P16\n",
       "Alkofarma                                                              11\n",
       "Casa Grande                                                            11\n",
       "Alkofarma,Casa Grande                                                   8\n",
       "Alkofarma,Boreal,Portugal                                               7\n",
       "Ninguno [NN                                                             7\n",
       "                                                                       ..\n",
       "Alkofarma,Boreal,Portugal,Hersil                                        1\n",
       "Alkofarma,Purol,Hersil                                                  1\n",
       "Casa Grande,Portugal,Alkofarma                                          1\n",
       "Jemfarma,Portugal,Alkofarma                                             1\n",
       "Alkofarma,Jemfarma,Casa Grande,Coderal,Boreal,Sanakol,Purol,Experto     1\n",
       "Name: count, Length: 198, dtype: int64"
      ]
     },
     "execution_count": 89,
     "metadata": {},
     "output_type": "execute_result"
    }
   ],
   "source": [
    "df['P16'].value_counts()"
   ]
  },
  {
   "cell_type": "code",
   "execution_count": 90,
   "metadata": {},
   "outputs": [
    {
     "name": "stdout",
     "output_type": "stream",
     "text": [
      "Palabra: 'Jemfarma' - Conteo: 37\n",
      "Palabra: 'Casa Grande' - Conteo: 136\n",
      "Palabra: 'Boreal' - Conteo: 121\n",
      "Palabra: 'Hersil' - Conteo: 92\n",
      "Palabra: 'Alkofarma' - Conteo: 176\n",
      "Palabra: 'Erza' - Conteo: 25\n",
      "Palabra: 'Purol' - Conteo: 69\n",
      "Palabra: 'Ninguno [NN' - Conteo: 7\n",
      "Palabra: 'Portugal' - Conteo: 113\n",
      "Palabra: 'Inkafarma' - Conteo: 21\n",
      "Palabra: 'CKF' - Conteo: 12\n",
      "Palabra: 'Integración Química' - Conteo: 1\n",
      "Palabra: 'Alkamedic' - Conteo: 3\n",
      "Palabra: 'Alessi' - Conteo: 10\n",
      "Palabra: 'Natura' - Conteo: 2\n",
      "Palabra: 'Don Emilio' - Conteo: 10\n",
      "Palabra: 'Doña María' - Conteo: 3\n",
      "Palabra: 'Ahryfarma' - Conteo: 1\n",
      "Palabra: 'Coderal' - Conteo: 7\n",
      "Palabra: 'Aval' - Conteo: 10\n",
      "Palabra: 'Experto' - Conteo: 3\n",
      "Palabra: 'Álicorp' - Conteo: 1\n",
      "Palabra: 'Vick' - Conteo: 1\n",
      "Palabra: 'Mifarma' - Conteo: 10\n",
      "Palabra: 'Nex' - Conteo: 2\n",
      "Palabra: 'Sanakol' - Conteo: 16\n",
      "Palabra: 'Instant Clean' - Conteo: 5\n",
      "Palabra: 'Sante' - Conteo: 1\n",
      "Palabra: 'Mundofar' - Conteo: 1\n",
      "Palabra: 'Tapmedic' - Conteo: 1\n",
      "Palabra: 'Martel' - Conteo: 2\n",
      "Palabra: 'Botica y Salud' - Conteo: 1\n",
      "Palabra: 'Mr. Brillo' - Conteo: 1\n",
      "Palabra: 'Balanze' - Conteo: 1\n",
      "Palabra: 'Aky' - Conteo: 2\n",
      "Palabra: 'Marca D' - Conteo: 1\n",
      "Palabra: 'Duofarma' - Conteo: 1\n",
      "Palabra: 'Productos Leo' - Conteo: 1\n",
      "Palabra: 'Disproquin' - Conteo: 2\n",
      "Palabra: 'Farmagal' - Conteo: 1\n",
      "Palabra: 'Representaciones J y L' - Conteo: 1\n",
      "Palabra: 'Maviar' - Conteo: 1\n",
      "Palabra: 'Fabrimedic' - Conteo: 1\n",
      "Palabra: 'Tanb' - Conteo: 1\n",
      "Palabra: 'Az' - Conteo: 3\n",
      "Palabra: 'Losaro' - Conteo: 1\n",
      "Palabra: 'Isafer' - Conteo: 1\n",
      "Palabra: 'Free Clean' - Conteo: 1\n",
      "Palabra: 'Alcomed' - Conteo: 1\n",
      "Palabra: 'Mathfarm' - Conteo: 4\n",
      "Palabra: 'San Jacinto' - Conteo: 1\n",
      "Palabra: 'Neo Clean' - Conteo: 1\n",
      "Palabra: 'QR Flores' - Conteo: 1\n",
      "Palabra: 'MPH Farm' - Conteo: 1\n",
      "Palabra: 'AQD Medic' - Conteo: 1\n",
      "Palabra: 'Calidfarma' - Conteo: 1\n",
      "Palabra: 'Gama' - Conteo: 1\n",
      "Palabra: 'Protecto' - Conteo: 1\n",
      "Palabra: 'Quequifesa' - Conteo: 1\n",
      "Palabra: 'Om' - Conteo: 1\n",
      "Palabra: 'Mary Clean' - Conteo: 1\n",
      "Palabra: 'Medical' - Conteo: 1\n",
      "Palabra: 'Catroc' - Conteo: 1\n",
      "Palabra: 'Alko' - Conteo: 1\n",
      "Palabra: 'Gleen' - Conteo: 1\n",
      "Palabra: 'Idogel' - Conteo: 1\n"
     ]
    }
   ],
   "source": [
    "palabras = []\n",
    "for fila in df['P16']:\n",
    "    palabras += fila.split(',') \n",
    "\n",
    "contador_palabras = Counter(palabras)\n",
    "\n",
    "for palabra, conteo in contador_palabras.items():\n",
    "    print(f\"Palabra: '{palabra}' - Conteo: {conteo}\")"
   ]
  },
  {
   "cell_type": "markdown",
   "metadata": {},
   "source": [
    "verificamos la pregunta 17 -> ¿Qué marcas ha comprado alguna vez?"
   ]
  },
  {
   "cell_type": "code",
   "execution_count": 91,
   "metadata": {},
   "outputs": [],
   "source": [
    "columnaP17= ['P17_1', 'P17_2', 'P17_3',\t'P17_4', 'P17_5','P17_6']\n",
    "\n",
    "def combine_columns(row):\n",
    "    values = [str(row[col]) for col in columnaP17 if not pd.isna(row[col])]\n",
    "    return ','.join(values)\n",
    "\n",
    "df['P17'] = df.apply(combine_columns, axis=1)"
   ]
  },
  {
   "cell_type": "markdown",
   "metadata": {},
   "source": [
    "Eliminamos las columnas -> ``['P17_1', 'P17_2', 'P17_3',\t'P17_4', 'P17_5','P17_6']``"
   ]
  },
  {
   "cell_type": "code",
   "execution_count": 92,
   "metadata": {},
   "outputs": [],
   "source": [
    "df.drop(columns=['P17_1', 'P17_2', 'P17_3',\t'P17_4', 'P17_5','P17_6'], axis=1, inplace=True)"
   ]
  },
  {
   "cell_type": "code",
   "execution_count": 116,
   "metadata": {},
   "outputs": [
    {
     "name": "stdout",
     "output_type": "stream",
     "text": [
      "Palabra: 'Casa Grande' - Conteo: 100\n",
      "Palabra: 'Jemfarma' - Conteo: 8\n",
      "Palabra: 'Boreal' - Conteo: 49\n",
      "Palabra: 'Purol' - Conteo: 26\n",
      "Palabra: 'Hersil' - Conteo: 39\n",
      "Palabra: 'No precisa [NN' - Conteo: 25\n",
      "Palabra: 'Inkafarma' - Conteo: 13\n",
      "Palabra: 'Alkofarma' - Conteo: 142\n",
      "Palabra: 'Erza' - Conteo: 11\n",
      "Palabra: 'Integración Química' - Conteo: 1\n",
      "Palabra: 'Alkamedic' - Conteo: 1\n",
      "Palabra: 'CKF' - Conteo: 5\n",
      "Palabra: 'Portugal' - Conteo: 58\n",
      "Palabra: 'Alessi' - Conteo: 6\n",
      "Palabra: 'Natura' - Conteo: 1\n",
      "Palabra: 'Doña María' - Conteo: 2\n",
      "Palabra: 'Ahryfarma' - Conteo: 1\n",
      "Palabra: 'Don Emilio' - Conteo: 5\n",
      "Palabra: 'Aval' - Conteo: 4\n",
      "Palabra: 'Experto' - Conteo: 2\n",
      "Palabra: 'Sanakol' - Conteo: 6\n",
      "Palabra: 'Instant Clean' - Conteo: 2\n",
      "Palabra: 'Sante' - Conteo: 1\n",
      "Palabra: 'Mundofar' - Conteo: 1\n",
      "Palabra: 'Tapmedic' - Conteo: 1\n",
      "Palabra: 'Martel' - Conteo: 2\n",
      "Palabra: 'Botica y Salud' - Conteo: 1\n",
      "Palabra: 'Mr. Brillo' - Conteo: 1\n",
      "Palabra: 'Balanze' - Conteo: 1\n",
      "Palabra: 'Aky' - Conteo: 2\n",
      "Palabra: 'Marca D' - Conteo: 1\n",
      "Palabra: 'Duofarma' - Conteo: 1\n",
      "Palabra: 'Productos Leo' - Conteo: 1\n",
      "Palabra: 'Mifarma' - Conteo: 7\n",
      "Palabra: 'Disproquin' - Conteo: 2\n",
      "Palabra: 'Farmagal' - Conteo: 1\n",
      "Palabra: 'Maviar' - Conteo: 1\n",
      "Palabra: 'Fabrimedic' - Conteo: 1\n",
      "Palabra: 'Free Clean' - Conteo: 1\n",
      "Palabra: 'Nex' - Conteo: 1\n",
      "Palabra: 'Az' - Conteo: 2\n",
      "Palabra: 'Mathfarm' - Conteo: 4\n",
      "Palabra: 'QR Flores' - Conteo: 1\n",
      "Palabra: 'MPH Farm' - Conteo: 1\n",
      "Palabra: 'AQD Medic' - Conteo: 1\n",
      "Palabra: 'Calidfarma' - Conteo: 1\n",
      "Palabra: 'Coderal' - Conteo: 1\n",
      "Palabra: 'Quequifesa' - Conteo: 1\n",
      "Palabra: 'Om' - Conteo: 1\n",
      "Palabra: 'Mary Clean' - Conteo: 1\n",
      "Palabra: 'Medical' - Conteo: 1\n",
      "Palabra: 'Catroc' - Conteo: 1\n",
      "Palabra: 'Alko' - Conteo: 1\n",
      "Palabra: 'Idogel' - Conteo: 1\n"
     ]
    }
   ],
   "source": [
    "palabras = []\n",
    "for fila in df['P17']:\n",
    "    palabras += fila.split(',') \n",
    "\n",
    "contador_palabras = Counter(palabras)\n",
    "\n",
    "for palabra, conteo in contador_palabras.items():\n",
    "    print(f\"Palabra: '{palabra}' - Conteo: {conteo}\")"
   ]
  },
  {
   "cell_type": "code",
   "execution_count": 94,
   "metadata": {},
   "outputs": [
    {
     "data": {
      "text/plain": [
       "P17\n",
       "Alkofarma                                        46\n",
       "Casa Grande                                      29\n",
       "No precisa [NN                                   25\n",
       "Alkofarma,Casa Grande                            19\n",
       "Alkofarma,Portugal                               10\n",
       "                                                 ..\n",
       "Alkofarma,Portugal,Purol,Hersil                   1\n",
       "Alkofarma,Casa Grande,Portugal,Hersil,Marca D     1\n",
       "Balanze                                           1\n",
       "Alkofarma,Erza                                    1\n",
       "Alkofarma,Casa Grande,Boreal                      1\n",
       "Name: count, Length: 126, dtype: int64"
      ]
     },
     "execution_count": 94,
     "metadata": {},
     "output_type": "execute_result"
    }
   ],
   "source": [
    "df['P17'].value_counts()"
   ]
  },
  {
   "cell_type": "markdown",
   "metadata": {},
   "source": [
    "verificamos la pregunta 18 -> ¿Cuál es la marca que compra más?"
   ]
  },
  {
   "cell_type": "code",
   "execution_count": 95,
   "metadata": {},
   "outputs": [
    {
     "data": {
      "text/plain": [
       "P18\n",
       "Alkofarma                   110\n",
       "Casa Grande                  56\n",
       "No precisa                   29\n",
       "Portugal                     15\n",
       "La que tenga el vendedor     13\n",
       "Hersil                        9\n",
       "Purol                         8\n",
       "Boreal                        7\n",
       "Inkafarma                     5\n",
       "Mifarma                       5\n",
       "Erza                          4\n",
       "Jemfarma                      3\n",
       "Aval                          2\n",
       "Experto                       2\n",
       "Disproquin                    2\n",
       "CKF                           2\n",
       "Sanakol                       2\n",
       "Mundofar                      1\n",
       "Mr. Brillo                    1\n",
       "Nex                           1\n",
       "Medical                       1\n",
       "Sante                         1\n",
       "Martel                        1\n",
       "MPH Farm                      1\n",
       "Productos Leo                 1\n",
       "Ahryfarma                     1\n",
       "Fabrimedic                    1\n",
       "Integración Química           1\n",
       "Instant Clean                 1\n",
       "Free Clean                    1\n",
       "Aky                           1\n",
       "Duofarma                      1\n",
       "Doña María                    1\n",
       "Don Emilio                    1\n",
       "Catroc                        1\n",
       "Calidfarma                    1\n",
       "Botica y Salud                1\n",
       "Balanze                       1\n",
       "Az                            1\n",
       "Alko                          1\n",
       "Alkamedic                     1\n",
       "Alessi                        1\n",
       "Tapmedic                      1\n",
       "Name: count, dtype: int64"
      ]
     },
     "execution_count": 95,
     "metadata": {},
     "output_type": "execute_result"
    }
   ],
   "source": [
    "df['P18'].value_counts()"
   ]
  },
  {
   "cell_type": "code",
   "execution_count": 96,
   "metadata": {},
   "outputs": [
    {
     "data": {
      "text/plain": [
       "count           300\n",
       "unique           43\n",
       "top       Alkofarma\n",
       "freq            110\n",
       "Name: P18, dtype: object"
      ]
     },
     "execution_count": 96,
     "metadata": {},
     "output_type": "execute_result"
    }
   ],
   "source": [
    "df['P18'].describe()"
   ]
  },
  {
   "cell_type": "code",
   "execution_count": 97,
   "metadata": {},
   "outputs": [
    {
     "data": {
      "text/plain": [
       "NPS_Alkofarma\n",
       "10: Definitivamente lo recomendaría      63\n",
       "9                                        32\n",
       "8                                        30\n",
       "7                                         9\n",
       "6                                         5\n",
       "0: Definitivamente no lo recomendaría     1\n",
       "3                                         1\n",
       "5                                         1\n",
       "Name: count, dtype: int64"
      ]
     },
     "execution_count": 97,
     "metadata": {},
     "output_type": "execute_result"
    }
   ],
   "source": [
    "df['NPS_Alkofarma'].value_counts()"
   ]
  },
  {
   "cell_type": "code",
   "execution_count": 98,
   "metadata": {},
   "outputs": [
    {
     "data": {
      "text/plain": [
       "NPS_Jemfarma\n",
       "9                                      3\n",
       "10: Definitivamente lo recomendaría    2\n",
       "3                                      1\n",
       "6                                      1\n",
       "8                                      1\n",
       "Name: count, dtype: int64"
      ]
     },
     "execution_count": 98,
     "metadata": {},
     "output_type": "execute_result"
    }
   ],
   "source": [
    "df['NPS_Jemfarma'].value_counts()"
   ]
  },
  {
   "cell_type": "code",
   "execution_count": 99,
   "metadata": {},
   "outputs": [
    {
     "data": {
      "text/plain": [
       "NPS_Erza\n",
       "9                                      4\n",
       "6                                      2\n",
       "8                                      2\n",
       "10: Definitivamente lo recomendaría    1\n",
       "5                                      1\n",
       "7                                      1\n",
       "Name: count, dtype: int64"
      ]
     },
     "execution_count": 99,
     "metadata": {},
     "output_type": "execute_result"
    }
   ],
   "source": [
    "df['NPS_Erza'].value_counts()"
   ]
  },
  {
   "cell_type": "code",
   "execution_count": 100,
   "metadata": {},
   "outputs": [
    {
     "data": {
      "text/plain": [
       "NPS_Casa_Grande\n",
       "10: Definitivamente lo recomendaría    34\n",
       "8                                      26\n",
       "9                                      18\n",
       "7                                      13\n",
       "6                                       6\n",
       "5                                       3\n",
       "Name: count, dtype: int64"
      ]
     },
     "execution_count": 100,
     "metadata": {},
     "output_type": "execute_result"
    }
   ],
   "source": [
    "df['NPS_Casa_Grande'].value_counts()"
   ]
  },
  {
   "cell_type": "code",
   "execution_count": 101,
   "metadata": {},
   "outputs": [
    {
     "data": {
      "text/plain": [
       "NPS_Coderal\n",
       "8    1\n",
       "Name: count, dtype: int64"
      ]
     },
     "execution_count": 101,
     "metadata": {},
     "output_type": "execute_result"
    }
   ],
   "source": [
    "df['NPS_Coderal'].value_counts()"
   ]
  },
  {
   "cell_type": "code",
   "execution_count": 102,
   "metadata": {},
   "outputs": [
    {
     "data": {
      "text/plain": [
       "NPS_CKF\n",
       "10: Definitivamente lo recomendaría    3\n",
       "5                                      1\n",
       "9                                      1\n",
       "Name: count, dtype: int64"
      ]
     },
     "execution_count": 102,
     "metadata": {},
     "output_type": "execute_result"
    }
   ],
   "source": [
    "df['NPS_CKF'].value_counts()"
   ]
  },
  {
   "cell_type": "code",
   "execution_count": 103,
   "metadata": {},
   "outputs": [
    {
     "data": {
      "text/plain": [
       "NPS_Boreal\n",
       "8                                      12\n",
       "9                                      11\n",
       "7                                      10\n",
       "6                                       5\n",
       "5                                       4\n",
       "10: Definitivamente lo recomendaría     3\n",
       "4                                       2\n",
       "3                                       1\n",
       "Name: count, dtype: int64"
      ]
     },
     "execution_count": 103,
     "metadata": {},
     "output_type": "execute_result"
    }
   ],
   "source": [
    "df['NPS_Boreal'].value_counts()"
   ]
  },
  {
   "cell_type": "code",
   "execution_count": 104,
   "metadata": {},
   "outputs": [
    {
     "data": {
      "text/plain": [
       "NPS_Portugal\n",
       "8                                      16\n",
       "10: Definitivamente lo recomendaría    10\n",
       "7                                       9\n",
       "9                                       9\n",
       "6                                       8\n",
       "5                                       4\n",
       "4                                       2\n",
       "Name: count, dtype: int64"
      ]
     },
     "execution_count": 104,
     "metadata": {},
     "output_type": "execute_result"
    }
   ],
   "source": [
    "df['NPS_Portugal'].value_counts()"
   ]
  },
  {
   "cell_type": "code",
   "execution_count": 105,
   "metadata": {},
   "outputs": [
    {
     "data": {
      "text/plain": [
       "NPS_Sanakol\n",
       "10: Definitivamente lo recomendaría    2\n",
       "7                                      2\n",
       "5                                      1\n",
       "9                                      1\n",
       "Name: count, dtype: int64"
      ]
     },
     "execution_count": 105,
     "metadata": {},
     "output_type": "execute_result"
    }
   ],
   "source": [
    "df['NPS_Sanakol'].value_counts()"
   ]
  },
  {
   "cell_type": "code",
   "execution_count": 106,
   "metadata": {},
   "outputs": [
    {
     "data": {
      "text/plain": [
       "NPS_Purol\n",
       "8                                      9\n",
       "10: Definitivamente lo recomendaría    5\n",
       "7                                      4\n",
       "9                                      4\n",
       "6                                      2\n",
       "1                                      1\n",
       "5                                      1\n",
       "Name: count, dtype: int64"
      ]
     },
     "execution_count": 106,
     "metadata": {},
     "output_type": "execute_result"
    }
   ],
   "source": [
    "df['NPS_Purol'].value_counts()"
   ]
  },
  {
   "cell_type": "code",
   "execution_count": 107,
   "metadata": {},
   "outputs": [
    {
     "data": {
      "text/plain": [
       "NPS_Don_Emilio\n",
       "7    2\n",
       "5    1\n",
       "6    1\n",
       "8    1\n",
       "Name: count, dtype: int64"
      ]
     },
     "execution_count": 107,
     "metadata": {},
     "output_type": "execute_result"
    }
   ],
   "source": [
    "df['NPS_Don_Emilio'].value_counts()"
   ]
  },
  {
   "cell_type": "code",
   "execution_count": 108,
   "metadata": {},
   "outputs": [
    {
     "data": {
      "text/plain": [
       "NPS_Hersil\n",
       "8                                        16\n",
       "9                                         7\n",
       "10: Definitivamente lo recomendaría       6\n",
       "6                                         3\n",
       "7                                         3\n",
       "5                                         2\n",
       "0: Definitivamente no lo recomendaría     1\n",
       "3                                         1\n",
       "Name: count, dtype: int64"
      ]
     },
     "execution_count": 108,
     "metadata": {},
     "output_type": "execute_result"
    }
   ],
   "source": [
    "df['NPS_Hersil'].value_counts()"
   ]
  },
  {
   "cell_type": "code",
   "execution_count": 109,
   "metadata": {},
   "outputs": [
    {
     "data": {
      "text/plain": [
       "NPS_Alessi\n",
       "6                                      2\n",
       "9                                      2\n",
       "10: Definitivamente lo recomendaría    1\n",
       "8                                      1\n",
       "Name: count, dtype: int64"
      ]
     },
     "execution_count": 109,
     "metadata": {},
     "output_type": "execute_result"
    }
   ],
   "source": [
    "df['NPS_Alessi'].value_counts()"
   ]
  },
  {
   "cell_type": "code",
   "execution_count": 110,
   "metadata": {},
   "outputs": [
    {
     "data": {
      "text/plain": [
       "NPS_NR\n",
       "8                                      19\n",
       "10: Definitivamente lo recomendaría    18\n",
       "9                                      13\n",
       "7                                       9\n",
       "6                                       4\n",
       "4                                       3\n",
       "5                                       2\n",
       "2                                       1\n",
       "Name: count, dtype: int64"
      ]
     },
     "execution_count": 110,
     "metadata": {},
     "output_type": "execute_result"
    }
   ],
   "source": [
    "df['NPS_NR'].value_counts()"
   ]
  },
  {
   "cell_type": "markdown",
   "metadata": {},
   "source": [
    "Verificamos la pregunta 20 -> El cual dice Si no existiera la marca... (MENCIONAR RESPUESTA EN P18). ¿Por cuál marca la reemplazaría?"
   ]
  },
  {
   "cell_type": "code",
   "execution_count": 119,
   "metadata": {},
   "outputs": [
    {
     "data": {
      "text/plain": [
       "['Jemfarma', 'Sanakol', 'Hersil', 'Ninguno', NaN, ..., 'Mifarma', 'AQD Medic', 'Marfam', 'Om', 'Idogel']\n",
       "Length: 27\n",
       "Categories (26, object): ['AQD Medic', 'Alessi', 'Alkofarma', 'Boreal', ..., 'Portugal', 'Purol', 'Sanakol', 'Tottus']"
      ]
     },
     "execution_count": 119,
     "metadata": {},
     "output_type": "execute_result"
    }
   ],
   "source": [
    "df['P20'].unique()"
   ]
  },
  {
   "cell_type": "code",
   "execution_count": 118,
   "metadata": {},
   "outputs": [
    {
     "data": {
      "text/plain": [
       "P20\n",
       "Casa Grande                 36\n",
       "Ninguno                     34\n",
       "Boreal                      33\n",
       "Alkofarma                   32\n",
       "Portugal                    31\n",
       "Hersil                      25\n",
       "Purol                       22\n",
       "La que tenga el vendedor    14\n",
       "Jemfarma                    10\n",
       "Inkafarma                    8\n",
       "Mifarma                      3\n",
       "Erza                         3\n",
       "CKF                          3\n",
       "Don Emilio                   2\n",
       "Coderal                      2\n",
       "No precisa                   2\n",
       "Sanakol                      2\n",
       "Om                           1\n",
       "AQD Medic                    1\n",
       "Natura                       1\n",
       "Marfam                       1\n",
       "Losaro                       1\n",
       "Alessi                       1\n",
       "Idogel                       1\n",
       "Experto                      1\n",
       "Tottus                       1\n",
       "Name: count, dtype: int64"
      ]
     },
     "execution_count": 118,
     "metadata": {},
     "output_type": "execute_result"
    }
   ],
   "source": [
    "df['P20'].value_counts()"
   ]
  },
  {
   "cell_type": "markdown",
   "metadata": {},
   "source": [
    "Verificamos la pregunta 21 -> El cual dice ¿Cuál de todas las marcas que conoce es su preferida?"
   ]
  },
  {
   "cell_type": "code",
   "execution_count": 124,
   "metadata": {},
   "outputs": [
    {
     "data": {
      "text/plain": [
       "['Casa Grande', 'Jemfarma', 'Purol', 'Hersil', 'Ninguno', ..., 'Nex', 'Mathfarm', 'Instant Clean', 'Medical', 'Gleen']\n",
       "Length: 35\n",
       "Categories (35, object): ['Ahryfarma', 'Aky', 'Alessi', 'Alkofarma', ..., 'Purol', 'Sanakol', 'Sante', 'Tanb']"
      ]
     },
     "execution_count": 124,
     "metadata": {},
     "output_type": "execute_result"
    }
   ],
   "source": [
    "df['P21'].unique()"
   ]
  },
  {
   "cell_type": "code",
   "execution_count": 123,
   "metadata": {},
   "outputs": [
    {
     "data": {
      "text/plain": [
       "count           300\n",
       "unique           35\n",
       "top       Alkofarma\n",
       "freq            113\n",
       "Name: P21, dtype: object"
      ]
     },
     "execution_count": 123,
     "metadata": {},
     "output_type": "execute_result"
    }
   ],
   "source": [
    "df['P21'].describe()"
   ]
  },
  {
   "cell_type": "markdown",
   "metadata": {},
   "source": [
    "Verificamos la pregunta 22 el cual es -> ¿Cuál nunca compraría?"
   ]
  },
  {
   "cell_type": "code",
   "execution_count": 113,
   "metadata": {},
   "outputs": [],
   "source": [
    "# Renombramos la columna P22_1 por P22\n",
    "df.rename(columns={'P22_1': 'P22'}, inplace=True)"
   ]
  },
  {
   "cell_type": "code",
   "execution_count": 114,
   "metadata": {},
   "outputs": [
    {
     "data": {
      "text/plain": [
       "P22\n",
       "Ninguno [NN    240\n",
       "Boreal          15\n",
       "No precisa       7\n",
       "Hersil           6\n",
       "Purol            6\n",
       "Alessi           4\n",
       "Don Emilio       4\n",
       "Casa Grande      4\n",
       "Erza             3\n",
       "Portugal         3\n",
       "Alkofarma        2\n",
       "Doña María       1\n",
       "Jemfarma         1\n",
       "Magistral        1\n",
       "Marca D          1\n",
       "CKF              1\n",
       "Sanakol          1\n",
       "Name: count, dtype: int64"
      ]
     },
     "execution_count": 114,
     "metadata": {},
     "output_type": "execute_result"
    }
   ],
   "source": [
    "df['P22'].value_counts()"
   ]
  },
  {
   "cell_type": "code",
   "execution_count": 125,
   "metadata": {},
   "outputs": [],
   "source": [
    "columnaP23= ['P23_1', 'P23_2', 'P23_3']\n",
    "\n",
    "def combine_columns(row):\n",
    "    values = [str(row[col]) for col in columnaP23 if not pd.isna(row[col])]\n",
    "    return ','.join(values)\n",
    "\n",
    "df['P23'] = df.apply(combine_columns, axis=1)"
   ]
  },
  {
   "cell_type": "markdown",
   "metadata": {},
   "source": [
    "Eliminamos las columnas -> ``['P23_1', 'P23_2', 'P23_3']``"
   ]
  },
  {
   "cell_type": "code",
   "execution_count": 126,
   "metadata": {},
   "outputs": [],
   "source": [
    "df.drop(columns=['P23_1', 'P23_2', 'P23_3'], axis=1, inplace=True)"
   ]
  },
  {
   "cell_type": "code",
   "execution_count": 127,
   "metadata": {},
   "outputs": [
    {
     "data": {
      "text/plain": [
       "P23\n",
       "                                                                                                          240\n",
       "Es desconocido                                                                                              9\n",
       "Porque no me da confianza                                                                                   9\n",
       "Porque no tenia buen aroma/su olor no es intenso                                                            8\n",
       "Porque no parece de calidad                                                                                 6\n",
       "Irrita la piel                                                                                              5\n",
       "No precisa                                                                                                  4\n",
       "Porque es cara                                                                                              2\n",
       "Porque no siento que sea efectivo                                                                           2\n",
       "Porque no me da confianza,Es desconocido                                                                    2\n",
       "Porque no tiene prestigio                                                                                   2\n",
       "Porque no me da confianza,Porque no parece de calidad                                                       1\n",
       "Porque no tiene demasiado alcohol                                                                           1\n",
       "Porque no tenia buen aroma/su olor no es intenso,Es desconocido                                             1\n",
       "Porque no me da confianza,Porque es cara                                                                    1\n",
       "Porque no parece de calidad,Es desconocido,No tiene certificado de salud/registro sanitario                 1\n",
       "Porque no tiene demasiado alcohol,Porque no siento que sea efectivo                                         1\n",
       "Porque no parece de calidad,Porque no siento que sea efectivo                                               1\n",
       "Porque no me da confianza,Porque no parece de calidad,Porque no tenia buen aroma/su olor no es intenso      1\n",
       "Porque no me da confianza,Porque no parece de calidad,Es desconocido                                        1\n",
       "Porque no tiene prestigio,Porque no tenia buen aroma/su olor no es intenso                                  1\n",
       "Porque no tiene demasiado alcohol,Porque no tenia buen aroma/su olor no es intenso,Es desconocido           1\n",
       "Name: count, dtype: int64"
      ]
     },
     "execution_count": 127,
     "metadata": {},
     "output_type": "execute_result"
    }
   ],
   "source": [
    "df['P23'].value_counts()"
   ]
  },
  {
   "cell_type": "code",
   "execution_count": 128,
   "metadata": {},
   "outputs": [
    {
     "name": "stdout",
     "output_type": "stream",
     "text": [
      "Palabra: '' - Conteo: 240\n",
      "Palabra: 'Porque no tenia buen aroma/su olor no es intenso' - Conteo: 12\n",
      "Palabra: 'Porque no me da confianza' - Conteo: 15\n",
      "Palabra: 'Porque no tiene demasiado alcohol' - Conteo: 3\n",
      "Palabra: 'Porque no siento que sea efectivo' - Conteo: 4\n",
      "Palabra: 'Porque no tiene prestigio' - Conteo: 3\n",
      "Palabra: 'Porque no parece de calidad' - Conteo: 11\n",
      "Palabra: 'Porque es cara' - Conteo: 3\n",
      "Palabra: 'No precisa' - Conteo: 4\n",
      "Palabra: 'Es desconocido' - Conteo: 15\n",
      "Palabra: 'Irrita la piel' - Conteo: 5\n",
      "Palabra: 'No tiene certificado de salud/registro sanitario' - Conteo: 1\n"
     ]
    }
   ],
   "source": [
    "palabras = []\n",
    "for fila in df['P23']:\n",
    "    palabras += fila.split(',') \n",
    "\n",
    "contador_palabras = Counter(palabras)\n",
    "\n",
    "for palabra, conteo in contador_palabras.items():\n",
    "    print(f\"Palabra: '{palabra}' - Conteo: {conteo}\")"
   ]
  },
  {
   "cell_type": "markdown",
   "metadata": {},
   "source": [
    "Eliminamos las columnas, por ahora se consideran irrelevantes para realizar un analisis, y dejamos solo las repsuestas relevantes. "
   ]
  },
  {
   "cell_type": "code",
   "execution_count": null,
   "metadata": {},
   "outputs": [],
   "source": [
    "df.drop(columns=['P24_1_2','P24_1_3','P24_1_4', 'P24_2_2','P24_2_3','P24_2_4', 'P24_3_2','P24_3_3','P24_3_4', 'P24_4_2', 'P24_4_3','P24_4_4', 'P24_5_2','P24_5_3','P24_5_4',\t'P24_5_5', 'P24_6_2','P24_6_3','P24_6_4', 'P24_7_2','P24_7_3','P24_7_4','P24_7_5',\t'P24_7_6', 'P24_8_2','P24_8_3','P24_8_4', 'P24_9_2','P24_9_3','P24_9_4', 'P24_10_2','P24_10_3','P24_10_4', 'P24_11_2','P24_11_3','P24_11_4','P24_11_5','P24_11_6', 'P24_12_2','P24_12_3','P24_12_4'], axis=1, inplace=True)\n"
   ]
  },
  {
   "cell_type": "markdown",
   "metadata": {},
   "source": [
    "Verificamos la pregunta 25, donde dice que ¿alguna vez escucharon hablar de alkofarma?"
   ]
  },
  {
   "cell_type": "code",
   "execution_count": 129,
   "metadata": {},
   "outputs": [
    {
     "data": {
      "text/plain": [
       "P25\n",
       "Sí    174\n",
       "No    126\n",
       "Name: count, dtype: int64"
      ]
     },
     "execution_count": 129,
     "metadata": {},
     "output_type": "execute_result"
    }
   ],
   "source": [
    "df['P25'].value_counts()"
   ]
  },
  {
   "cell_type": "code",
   "execution_count": 130,
   "metadata": {},
   "outputs": [
    {
     "data": {
      "text/plain": [
       "['No', 'Sí']\n",
       "Categories (2, object): ['No', 'Sí']"
      ]
     },
     "execution_count": 130,
     "metadata": {},
     "output_type": "execute_result"
    }
   ],
   "source": [
    "df['P25'].unique()"
   ]
  },
  {
   "cell_type": "markdown",
   "metadata": {},
   "source": [
    "Verificamos la pregunta 26  Donde dice que productos vende la marca Alkofarma? \n",
    "P26_1\tP26_2\tP26_3\tP26_4\tP26_5\t"
   ]
  },
  {
   "cell_type": "markdown",
   "metadata": {},
   "source": [
    "Uniremos las columnas -> ``P26_1\tP26_2\tP26_3\tP26_4\tP26_5``\t"
   ]
  },
  {
   "cell_type": "code",
   "execution_count": 131,
   "metadata": {},
   "outputs": [],
   "source": [
    "\n",
    "columnaP26= ['P26_1', 'P26_2', 'P26_3',\t'P26_4', 'P26_5']\n",
    "\n",
    "def combine_columns(row):\n",
    "    values = [str(row[col]) for col in columnaP26 if not pd.isna(row[col])]\n",
    "    return ','.join(values)\n",
    "\n",
    "df['P26'] = df.apply(combine_columns, axis=1)"
   ]
  },
  {
   "cell_type": "markdown",
   "metadata": {},
   "source": [
    "Eliminamos las columnas -> ``['P26_1', 'P26_2', 'P26_3',\t'P26_4', 'P26_5']``"
   ]
  },
  {
   "cell_type": "code",
   "execution_count": 132,
   "metadata": {},
   "outputs": [],
   "source": [
    "df.drop(columns=['P26_1', 'P26_2', 'P26_3',\t'P26_4', 'P26_5'], axis=1, inplace=True)\n"
   ]
  },
  {
   "cell_type": "code",
   "execution_count": 133,
   "metadata": {},
   "outputs": [
    {
     "name": "stdout",
     "output_type": "stream",
     "text": [
      "Palabra: '' - Conteo: 126\n",
      "Palabra: 'Alcohol' - Conteo: 152\n",
      "Palabra: 'Gel' - Conteo: 4\n",
      "Palabra: 'No precisa' - Conteo: 6\n",
      "Palabra: 'Jabón' - Conteo: 5\n",
      "Palabra: 'Cremas' - Conteo: 3\n",
      "Palabra: 'Bicarbonato' - Conteo: 3\n",
      "Palabra: 'Alcohol puro' - Conteo: 5\n",
      "Palabra: 'Alcohol en gel' - Conteo: 22\n",
      "Palabra: 'Desinfectantes' - Conteo: 1\n",
      "Palabra: 'Medicina' - Conteo: 3\n",
      "Palabra: 'Alcohol liquido' - Conteo: 10\n",
      "Palabra: 'Agua oxigenada' - Conteo: 15\n",
      "Palabra: 'Algodón' - Conteo: 5\n",
      "Palabra: 'Agua de azahar' - Conteo: 5\n",
      "Palabra: 'Antibacteriales' - Conteo: 1\n",
      "Palabra: 'Pastillas' - Conteo: 2\n",
      "Palabra: 'Pañitos humedos' - Conteo: 2\n",
      "Palabra: 'Vinagre Bully' - Conteo: 3\n",
      "Palabra: 'Óxido de zinc' - Conteo: 1\n",
      "Palabra: 'Jarabe' - Conteo: 1\n",
      "Palabra: 'Yodo' - Conteo: 1\n",
      "Palabra: 'Guantes' - Conteo: 1\n",
      "Palabra: 'Glicerina' - Conteo: 1\n",
      "Palabra: 'Vaselina' - Conteo: 1\n",
      "Palabra: 'Alcohol yodado' - Conteo: 1\n"
     ]
    }
   ],
   "source": [
    "palabras = []\n",
    "for fila in df['P26']:\n",
    "    palabras += fila.split(',') \n",
    "\n",
    "contador_palabras = Counter(palabras)\n",
    "\n",
    "for palabra, conteo in contador_palabras.items():\n",
    "    print(f\"Palabra: '{palabra}' - Conteo: {conteo}\")"
   ]
  },
  {
   "cell_type": "code",
   "execution_count": null,
   "metadata": {},
   "outputs": [
    {
     "data": {
      "text/plain": [
       "P26\n",
       "                                                               126\n",
       "Alcohol                                                        106\n",
       "Alcohol,Agua oxigenada                                           8\n",
       "Alcohol,Alcohol en gel                                           8\n",
       "No precisa                                                       6\n",
       "Alcohol liquido,Alcohol en gel                                   5\n",
       "Alcohol liquido                                                  3\n",
       "Alcohol puro,Alcohol en gel                                      2\n",
       "Alcohol,Jabón                                                    2\n",
       "Alcohol,Algodón                                                  2\n",
       "Alcohol,Gel                                                      2\n",
       "Agua oxigenada,Alcohol                                           2\n",
       "Alcohol,Jabón,Cremas                                             1\n",
       "Gel,Alcohol,Alcohol en gel                                       1\n",
       "Alcohol,Algodón,Vinagre Bully,Alcohol                            1\n",
       "Alcohol puro,Alcohol en gel,Agua oxigenada                       1\n",
       "Alcohol,Algodón,Guantes,Glicerina,Vaselina                       1\n",
       "Alcohol liquido,Alcohol en gel,Agua de azahar                    1\n",
       "Bicarbonato,Agua de azahar,Alcohol                               1\n",
       "Cremas,Jabón,Alcohol,Algodón                                     1\n",
       "Alcohol,Cremas                                                   1\n",
       "Alcohol puro,Alcohol,Bicarbonato                                 1\n",
       "Alcohol,Pañitos humedos                                          1\n",
       "Alcohol,Agua oxigenada,Agua de azahar,Alcohol yodado             1\n",
       "Alcohol,Vinagre Bully                                            1\n",
       "Alcohol,Gel,Medicina                                             1\n",
       "Alcohol,Agua oxigenada,Alcohol en gel                            1\n",
       "Alcohol,Yodo                                                     1\n",
       "Agua oxigenada,Vinagre Bully,Óxido de zinc,Pastillas,Jarabe      1\n",
       "Alcohol,Bicarbonato                                              1\n",
       "Alcohol,Medicina                                                 1\n",
       "Alcohol,Alcohol en gel,Pañitos humedos                           1\n",
       "Alcohol,Pastillas,Jabón                                          1\n",
       "Alcohol en gel,Alcohol liquido                                   1\n",
       "Alcohol,Antibacteriales                                          1\n",
       "Alcohol,Agua de azahar,Agua oxigenada                            1\n",
       "Alcohol en gel                                                   1\n",
       "Alcohol puro                                                     1\n",
       "Desinfectantes,Medicina                                          1\n",
       "Alcohol,Agua de azahar                                           1\n",
       "Name: count, dtype: int64"
      ]
     },
     "execution_count": 257,
     "metadata": {},
     "output_type": "execute_result"
    }
   ],
   "source": [
    "df['P26'].value_counts()"
   ]
  },
  {
   "cell_type": "markdown",
   "metadata": {},
   "source": [
    "# Quinto aparatado  `ATRIBUTOS VALORADOS - ALCOHOL LIQUIDO`"
   ]
  },
  {
   "cell_type": "code",
   "execution_count": null,
   "metadata": {},
   "outputs": [
    {
     "data": {
      "text/html": [
       "<div>\n",
       "<style scoped>\n",
       "    .dataframe tbody tr th:only-of-type {\n",
       "        vertical-align: middle;\n",
       "    }\n",
       "\n",
       "    .dataframe tbody tr th {\n",
       "        vertical-align: top;\n",
       "    }\n",
       "\n",
       "    .dataframe thead th {\n",
       "        text-align: right;\n",
       "    }\n",
       "</style>\n",
       "<table border=\"1\" class=\"dataframe\">\n",
       "  <thead>\n",
       "    <tr style=\"text-align: right;\">\n",
       "      <th></th>\n",
       "      <th>P29_1</th>\n",
       "      <th>P29_2</th>\n",
       "      <th>P29_3</th>\n",
       "      <th>P29_4</th>\n",
       "      <th>P29_5</th>\n",
       "      <th>P29_6</th>\n",
       "      <th>P29_7</th>\n",
       "      <th>P29_8</th>\n",
       "      <th>P30_1</th>\n",
       "      <th>P30_2</th>\n",
       "      <th>P30_3</th>\n",
       "      <th>P30_4</th>\n",
       "      <th>P30_5</th>\n",
       "      <th>P30_6</th>\n",
       "      <th>P30_7</th>\n",
       "      <th>P30_8</th>\n",
       "      <th>P31_1</th>\n",
       "    </tr>\n",
       "  </thead>\n",
       "  <tbody>\n",
       "    <tr>\n",
       "      <th>0</th>\n",
       "      <td>NaN</td>\n",
       "      <td>Una vez cada 6 meses</td>\n",
       "      <td>Una vez al año</td>\n",
       "      <td>NaN</td>\n",
       "      <td>Una vez cada 2 o 3 meses</td>\n",
       "      <td>NaN</td>\n",
       "      <td>NaN</td>\n",
       "      <td>Una vez al año</td>\n",
       "      <td>Una vez al año</td>\n",
       "      <td>Una vez cada 6 meses</td>\n",
       "      <td>Una vez cada 6 meses</td>\n",
       "      <td>NaN</td>\n",
       "      <td>Una vez cada 15 días</td>\n",
       "      <td>NaN</td>\n",
       "      <td>NaN</td>\n",
       "      <td>Una vez cada 6 meses</td>\n",
       "      <td>Bicarbonato de sodio</td>\n",
       "    </tr>\n",
       "    <tr>\n",
       "      <th>1</th>\n",
       "      <td>Una vez al mes</td>\n",
       "      <td>NaN</td>\n",
       "      <td>NaN</td>\n",
       "      <td>NaN</td>\n",
       "      <td>Una vez cada 2 o 3 meses</td>\n",
       "      <td>NaN</td>\n",
       "      <td>NaN</td>\n",
       "      <td>NaN</td>\n",
       "      <td>Una vez cada 15 días</td>\n",
       "      <td>NaN</td>\n",
       "      <td>NaN</td>\n",
       "      <td>NaN</td>\n",
       "      <td>Una vez al mes</td>\n",
       "      <td>NaN</td>\n",
       "      <td>NaN</td>\n",
       "      <td>NaN</td>\n",
       "      <td>Agua oxigenada</td>\n",
       "    </tr>\n",
       "    <tr>\n",
       "      <th>2</th>\n",
       "      <td>Una vez cada 2 o 3 meses</td>\n",
       "      <td>NaN</td>\n",
       "      <td>NaN</td>\n",
       "      <td>NaN</td>\n",
       "      <td>Una vez al año</td>\n",
       "      <td>NaN</td>\n",
       "      <td>NaN</td>\n",
       "      <td>NaN</td>\n",
       "      <td>Una vez al mes</td>\n",
       "      <td>NaN</td>\n",
       "      <td>NaN</td>\n",
       "      <td>NaN</td>\n",
       "      <td>Una vez cada 15 días</td>\n",
       "      <td>NaN</td>\n",
       "      <td>NaN</td>\n",
       "      <td>NaN</td>\n",
       "      <td>Bicarbonato de sodio</td>\n",
       "    </tr>\n",
       "    <tr>\n",
       "      <th>3</th>\n",
       "      <td>NaN</td>\n",
       "      <td>Una vez al año</td>\n",
       "      <td>NaN</td>\n",
       "      <td>NaN</td>\n",
       "      <td>Una vez cada 6 meses</td>\n",
       "      <td>NaN</td>\n",
       "      <td>Nunca</td>\n",
       "      <td>NaN</td>\n",
       "      <td>NaN</td>\n",
       "      <td>NaN</td>\n",
       "      <td>NaN</td>\n",
       "      <td>NaN</td>\n",
       "      <td>Una vez al mes</td>\n",
       "      <td>NaN</td>\n",
       "      <td>Una vez cada 15 días</td>\n",
       "      <td>NaN</td>\n",
       "      <td>Alcohol en gel</td>\n",
       "    </tr>\n",
       "    <tr>\n",
       "      <th>4</th>\n",
       "      <td>NaN</td>\n",
       "      <td>NaN</td>\n",
       "      <td>Una vez al año</td>\n",
       "      <td>NaN</td>\n",
       "      <td>Una vez al año</td>\n",
       "      <td>NaN</td>\n",
       "      <td>Nunca</td>\n",
       "      <td>NaN</td>\n",
       "      <td>Una vez cada 2 o 3 meses</td>\n",
       "      <td>NaN</td>\n",
       "      <td>Una vez al año</td>\n",
       "      <td>NaN</td>\n",
       "      <td>Una vez al mes</td>\n",
       "      <td>NaN</td>\n",
       "      <td>Una vez cada 2 o 3 meses</td>\n",
       "      <td>NaN</td>\n",
       "      <td>Bicarbonato de sodio</td>\n",
       "    </tr>\n",
       "    <tr>\n",
       "      <th>...</th>\n",
       "      <td>...</td>\n",
       "      <td>...</td>\n",
       "      <td>...</td>\n",
       "      <td>...</td>\n",
       "      <td>...</td>\n",
       "      <td>...</td>\n",
       "      <td>...</td>\n",
       "      <td>...</td>\n",
       "      <td>...</td>\n",
       "      <td>...</td>\n",
       "      <td>...</td>\n",
       "      <td>...</td>\n",
       "      <td>...</td>\n",
       "      <td>...</td>\n",
       "      <td>...</td>\n",
       "      <td>...</td>\n",
       "      <td>...</td>\n",
       "    </tr>\n",
       "    <tr>\n",
       "      <th>295</th>\n",
       "      <td>NaN</td>\n",
       "      <td>NaN</td>\n",
       "      <td>Una vez cada 6 meses</td>\n",
       "      <td>NaN</td>\n",
       "      <td>Una vez cada 6 meses</td>\n",
       "      <td>NaN</td>\n",
       "      <td>NaN</td>\n",
       "      <td>NaN</td>\n",
       "      <td>NaN</td>\n",
       "      <td>NaN</td>\n",
       "      <td>Una vez cada 6 meses</td>\n",
       "      <td>NaN</td>\n",
       "      <td>Una vez al mes</td>\n",
       "      <td>NaN</td>\n",
       "      <td>NaN</td>\n",
       "      <td>NaN</td>\n",
       "      <td>Agua oxigenada</td>\n",
       "    </tr>\n",
       "    <tr>\n",
       "      <th>296</th>\n",
       "      <td>NaN</td>\n",
       "      <td>NaN</td>\n",
       "      <td>2. Una vez a la semana</td>\n",
       "      <td>Una vez cada 6 meses</td>\n",
       "      <td>NaN</td>\n",
       "      <td>NaN</td>\n",
       "      <td>NaN</td>\n",
       "      <td>NaN</td>\n",
       "      <td>NaN</td>\n",
       "      <td>NaN</td>\n",
       "      <td>Una vez cada 6 meses</td>\n",
       "      <td>2. Una vez a la semana</td>\n",
       "      <td>NaN</td>\n",
       "      <td>NaN</td>\n",
       "      <td>NaN</td>\n",
       "      <td>NaN</td>\n",
       "      <td>Agua oxigenada</td>\n",
       "    </tr>\n",
       "    <tr>\n",
       "      <th>297</th>\n",
       "      <td>Una vez cada 6 meses</td>\n",
       "      <td>NaN</td>\n",
       "      <td>NaN</td>\n",
       "      <td>NaN</td>\n",
       "      <td>Una vez al año</td>\n",
       "      <td>NaN</td>\n",
       "      <td>NaN</td>\n",
       "      <td>NaN</td>\n",
       "      <td>NaN</td>\n",
       "      <td>NaN</td>\n",
       "      <td>NaN</td>\n",
       "      <td>NaN</td>\n",
       "      <td>Una vez al mes</td>\n",
       "      <td>NaN</td>\n",
       "      <td>NaN</td>\n",
       "      <td>NaN</td>\n",
       "      <td>Alcohol puro 96°</td>\n",
       "    </tr>\n",
       "    <tr>\n",
       "      <th>298</th>\n",
       "      <td>NaN</td>\n",
       "      <td>NaN</td>\n",
       "      <td>NaN</td>\n",
       "      <td>NaN</td>\n",
       "      <td>Una vez cada 2 o 3 meses</td>\n",
       "      <td>NaN</td>\n",
       "      <td>NaN</td>\n",
       "      <td>NaN</td>\n",
       "      <td>NaN</td>\n",
       "      <td>NaN</td>\n",
       "      <td>NaN</td>\n",
       "      <td>NaN</td>\n",
       "      <td>Una vez cada 15 días</td>\n",
       "      <td>NaN</td>\n",
       "      <td>NaN</td>\n",
       "      <td>NaN</td>\n",
       "      <td>Alcohol puro 96°</td>\n",
       "    </tr>\n",
       "    <tr>\n",
       "      <th>299</th>\n",
       "      <td>NaN</td>\n",
       "      <td>NaN</td>\n",
       "      <td>NaN</td>\n",
       "      <td>NaN</td>\n",
       "      <td>Una vez al mes</td>\n",
       "      <td>NaN</td>\n",
       "      <td>NaN</td>\n",
       "      <td>NaN</td>\n",
       "      <td>NaN</td>\n",
       "      <td>NaN</td>\n",
       "      <td>NaN</td>\n",
       "      <td>NaN</td>\n",
       "      <td>2. Una vez a la semana</td>\n",
       "      <td>NaN</td>\n",
       "      <td>NaN</td>\n",
       "      <td>NaN</td>\n",
       "      <td>Alcohol puro 96°</td>\n",
       "    </tr>\n",
       "  </tbody>\n",
       "</table>\n",
       "<p>300 rows × 17 columns</p>\n",
       "</div>"
      ],
      "text/plain": [
       "                        P29_1                 P29_2                   P29_3  \\\n",
       "0                         NaN  Una vez cada 6 meses          Una vez al año   \n",
       "1              Una vez al mes                   NaN                     NaN   \n",
       "2    Una vez cada 2 o 3 meses                   NaN                     NaN   \n",
       "3                         NaN        Una vez al año                     NaN   \n",
       "4                         NaN                   NaN          Una vez al año   \n",
       "..                        ...                   ...                     ...   \n",
       "295                       NaN                   NaN    Una vez cada 6 meses   \n",
       "296                       NaN                   NaN  2. Una vez a la semana   \n",
       "297      Una vez cada 6 meses                   NaN                     NaN   \n",
       "298                       NaN                   NaN                     NaN   \n",
       "299                       NaN                   NaN                     NaN   \n",
       "\n",
       "                    P29_4                     P29_5 P29_6  P29_7  \\\n",
       "0                     NaN  Una vez cada 2 o 3 meses   NaN    NaN   \n",
       "1                     NaN  Una vez cada 2 o 3 meses   NaN    NaN   \n",
       "2                     NaN            Una vez al año   NaN    NaN   \n",
       "3                     NaN      Una vez cada 6 meses   NaN  Nunca   \n",
       "4                     NaN            Una vez al año   NaN  Nunca   \n",
       "..                    ...                       ...   ...    ...   \n",
       "295                   NaN      Una vez cada 6 meses   NaN    NaN   \n",
       "296  Una vez cada 6 meses                       NaN   NaN    NaN   \n",
       "297                   NaN            Una vez al año   NaN    NaN   \n",
       "298                   NaN  Una vez cada 2 o 3 meses   NaN    NaN   \n",
       "299                   NaN            Una vez al mes   NaN    NaN   \n",
       "\n",
       "              P29_8                     P30_1                 P30_2  \\\n",
       "0    Una vez al año            Una vez al año  Una vez cada 6 meses   \n",
       "1               NaN      Una vez cada 15 días                   NaN   \n",
       "2               NaN            Una vez al mes                   NaN   \n",
       "3               NaN                       NaN                   NaN   \n",
       "4               NaN  Una vez cada 2 o 3 meses                   NaN   \n",
       "..              ...                       ...                   ...   \n",
       "295             NaN                       NaN                   NaN   \n",
       "296             NaN                       NaN                   NaN   \n",
       "297             NaN                       NaN                   NaN   \n",
       "298             NaN                       NaN                   NaN   \n",
       "299             NaN                       NaN                   NaN   \n",
       "\n",
       "                    P30_3                   P30_4                   P30_5  \\\n",
       "0    Una vez cada 6 meses                     NaN    Una vez cada 15 días   \n",
       "1                     NaN                     NaN          Una vez al mes   \n",
       "2                     NaN                     NaN    Una vez cada 15 días   \n",
       "3                     NaN                     NaN          Una vez al mes   \n",
       "4          Una vez al año                     NaN          Una vez al mes   \n",
       "..                    ...                     ...                     ...   \n",
       "295  Una vez cada 6 meses                     NaN          Una vez al mes   \n",
       "296  Una vez cada 6 meses  2. Una vez a la semana                     NaN   \n",
       "297                   NaN                     NaN          Una vez al mes   \n",
       "298                   NaN                     NaN    Una vez cada 15 días   \n",
       "299                   NaN                     NaN  2. Una vez a la semana   \n",
       "\n",
       "    P30_6                     P30_7                 P30_8  \\\n",
       "0     NaN                       NaN  Una vez cada 6 meses   \n",
       "1     NaN                       NaN                   NaN   \n",
       "2     NaN                       NaN                   NaN   \n",
       "3     NaN      Una vez cada 15 días                   NaN   \n",
       "4     NaN  Una vez cada 2 o 3 meses                   NaN   \n",
       "..    ...                       ...                   ...   \n",
       "295   NaN                       NaN                   NaN   \n",
       "296   NaN                       NaN                   NaN   \n",
       "297   NaN                       NaN                   NaN   \n",
       "298   NaN                       NaN                   NaN   \n",
       "299   NaN                       NaN                   NaN   \n",
       "\n",
       "                    P31_1  \n",
       "0    Bicarbonato de sodio  \n",
       "1          Agua oxigenada  \n",
       "2    Bicarbonato de sodio  \n",
       "3          Alcohol en gel  \n",
       "4    Bicarbonato de sodio  \n",
       "..                    ...  \n",
       "295        Agua oxigenada  \n",
       "296        Agua oxigenada  \n",
       "297      Alcohol puro 96°  \n",
       "298      Alcohol puro 96°  \n",
       "299      Alcohol puro 96°  \n",
       "\n",
       "[300 rows x 17 columns]"
      ]
     },
     "execution_count": 266,
     "metadata": {},
     "output_type": "execute_result"
    }
   ],
   "source": [
    "alc_liquido = df.iloc[:, 95:112]\n",
    "alc_liquido"
   ]
  },
  {
   "cell_type": "markdown",
   "metadata": {},
   "source": [
    "verificamos la pregunta 27 -> ``¿Qué productos consume actualmente?``"
   ]
  },
  {
   "cell_type": "code",
   "execution_count": 135,
   "metadata": {},
   "outputs": [],
   "source": [
    "#Unimos las columnas para obteneruna cadena\n",
    "columnaP27= ['P27_1','P27_2','P27_3','P27_4','P27_5','P27_6','P27_7','P27_8']\n",
    "\n",
    "def combine_columns(row):\n",
    "    values = [str(row[col]) for col in columnaP27 if not pd.isna(row[col])]\n",
    "    return ','.join(values)\n",
    "\n",
    "df['P27'] = df.apply(combine_columns, axis=1)"
   ]
  },
  {
   "cell_type": "markdown",
   "metadata": {},
   "source": [
    "Eliminamos la columnas individuales. "
   ]
  },
  {
   "cell_type": "code",
   "execution_count": null,
   "metadata": {},
   "outputs": [],
   "source": [
    "df.drop(columns=['P27_1','P27_2','P27_3','P27_4','P27_5','P27_6','P27_7','P27_8'], axis=1, inplace=True)\n"
   ]
  },
  {
   "cell_type": "code",
   "execution_count": 136,
   "metadata": {},
   "outputs": [
    {
     "name": "stdout",
     "output_type": "stream",
     "text": [
      "Palabra: 'Bicarbonato de sodio' - Conteo: 103\n",
      "Palabra: 'Agua azahar' - Conteo: 38\n",
      "Palabra: 'Agua oxigenada' - Conteo: 102\n",
      "Palabra: 'Alcohol puro 96°' - Conteo: 239\n",
      "Palabra: 'Vinagre Bully (Aromático)' - Conteo: 41\n",
      "Palabra: 'Alcohol en gel' - Conteo: 166\n",
      "Palabra: 'Alcohol medicinal 70%' - Conteo: 119\n",
      "Palabra: 'Alcohol yodado' - Conteo: 37\n"
     ]
    }
   ],
   "source": [
    "palabras = []\n",
    "for fila in df['P27']:\n",
    "    palabras += fila.split(',') \n",
    "\n",
    "contador_palabras = Counter(palabras)\n",
    "\n",
    "for palabra, conteo in contador_palabras.items():\n",
    "    print(f\"Palabra: '{palabra}' - Conteo: {conteo}\")"
   ]
  },
  {
   "cell_type": "code",
   "execution_count": null,
   "metadata": {},
   "outputs": [
    {
     "data": {
      "text/plain": [
       "P27\n",
       "Alcohol puro 96°                                                                                        44\n",
       "Alcohol puro 96°,Alcohol en gel                                                                         34\n",
       "Alcohol medicinal 70%,Alcohol puro 96°,Alcohol en gel                                                   14\n",
       "Bicarbonato de sodio,Alcohol puro 96°,Alcohol en gel                                                    12\n",
       "Alcohol medicinal 70%                                                                                   11\n",
       "                                                                                                        ..\n",
       "Bicarbonato de sodio,Agua oxigenada,Alcohol puro 96°,Alcohol yodado                                      1\n",
       "Bicarbonato de sodio,Agua azahar,Alcohol medicinal 70%,Alcohol puro 96°,Vinagre Bully (Aromático)        1\n",
       "Bicarbonato de sodio,Agua oxigenada,Alcohol medicinal 70%,Alcohol puro 96°,Vinagre Bully (Aromático)     1\n",
       "Alcohol puro 96°,Vinagre Bully (Aromático)                                                               1\n",
       "Agua oxigenada,Alcohol medicinal 70%,Alcohol yodado,Alcohol en gel                                       1\n",
       "Name: count, Length: 85, dtype: int64"
      ]
     },
     "execution_count": 261,
     "metadata": {},
     "output_type": "execute_result"
    }
   ],
   "source": [
    "df['P27'].value_counts()"
   ]
  },
  {
   "cell_type": "markdown",
   "metadata": {},
   "source": [
    "verificamos la pregunta 28 -> ¿En qué productos has incrementado tu consumo a raíz de la pandemia?"
   ]
  },
  {
   "cell_type": "code",
   "execution_count": 137,
   "metadata": {},
   "outputs": [],
   "source": [
    "#Unimos las columnas para obteneruna cadena\n",
    "columnaP28= ['P28_1','P28_2','P28_3', 'P28_4', 'P28_5',\t'P28_6']\n",
    "\n",
    "def combine_columns(row):\n",
    "    values = [str(row[col]) for col in columnaP28 if not pd.isna(row[col])]\n",
    "    return ','.join(values)\n",
    "\n",
    "df['P28'] = df.apply(combine_columns, axis=1)"
   ]
  },
  {
   "cell_type": "code",
   "execution_count": 138,
   "metadata": {},
   "outputs": [],
   "source": [
    "df.drop(columns=['P28_1','P28_2','P28_3', 'P28_4', 'P28_5',\t'P28_6'], axis=1, inplace=True)\n"
   ]
  },
  {
   "cell_type": "code",
   "execution_count": 140,
   "metadata": {},
   "outputs": [
    {
     "name": "stdout",
     "output_type": "stream",
     "text": [
      "Palabra: 'Alcohol puro 96°' - Conteo: 220\n",
      "Palabra: 'Alcohol en gel' - Conteo: 123\n",
      "Palabra: 'Bicarbonato de sodio' - Conteo: 21\n",
      "Palabra: 'Alcohol medicinal 70%' - Conteo: 95\n",
      "Palabra: 'Agua azahar' - Conteo: 5\n",
      "Palabra: 'Agua oxigenada' - Conteo: 10\n",
      "Palabra: 'Alcohol yodado' - Conteo: 2\n",
      "Palabra: 'Vinagre Bully (Aromático)' - Conteo: 3\n"
     ]
    }
   ],
   "source": [
    "palabras = []\n",
    "for fila in df['P28']:\n",
    "    palabras += fila.split(',') \n",
    "\n",
    "contador_palabras = Counter(palabras)\n",
    "\n",
    "for palabra, conteo in contador_palabras.items():\n",
    "    print(f\"Palabra: '{palabra}' - Conteo: {conteo}\")"
   ]
  },
  {
   "cell_type": "code",
   "execution_count": 139,
   "metadata": {},
   "outputs": [
    {
     "data": {
      "text/plain": [
       "P28\n",
       "Alcohol puro 96°                                                                                              113\n",
       "Alcohol puro 96°,Alcohol en gel                                                                                51\n",
       "Alcohol medicinal 70%                                                                                          36\n",
       "Alcohol en gel                                                                                                 20\n",
       "Alcohol medicinal 70%,Alcohol puro 96°,Alcohol en gel                                                          19\n",
       "Alcohol medicinal 70%,Alcohol en gel                                                                           17\n",
       "Alcohol medicinal 70%,Alcohol puro 96°                                                                         12\n",
       "Bicarbonato de sodio,Alcohol puro 96°,Alcohol en gel                                                            5\n",
       "Bicarbonato de sodio,Alcohol puro 96°                                                                           4\n",
       "Agua oxigenada,Alcohol puro 96°                                                                                 3\n",
       "Bicarbonato de sodio,Alcohol medicinal 70%,Alcohol en gel                                                       3\n",
       "Agua azahar,Alcohol medicinal 70%                                                                               2\n",
       "Bicarbonato de sodio,Agua oxigenada,Alcohol puro 96°,Alcohol en gel                                             2\n",
       "Bicarbonato de sodio,Alcohol medicinal 70%,Alcohol puro 96°,Alcohol en gel                                      2\n",
       "Bicarbonato de sodio                                                                                            1\n",
       "Agua azahar,Alcohol puro 96°                                                                                    1\n",
       "Bicarbonato de sodio,Agua oxigenada,Alcohol puro 96°,Alcohol yodado                                             1\n",
       "Bicarbonato de sodio,Agua oxigenada,Alcohol puro 96°                                                            1\n",
       "Bicarbonato de sodio,Alcohol medicinal 70%                                                                      1\n",
       "Agua oxigenada,Alcohol puro 96°,Alcohol en gel                                                                  1\n",
       "Agua azahar,Agua oxigenada,Alcohol medicinal 70%,Alcohol puro 96°,Alcohol yodado,Vinagre Bully (Aromático)      1\n",
       "Agua oxigenada,Alcohol medicinal 70%,Alcohol puro 96°,Alcohol en gel,Vinagre Bully (Aromático)                  1\n",
       "Alcohol puro 96°,Alcohol en gel,Vinagre Bully (Aromático)                                                       1\n",
       "Agua azahar,Alcohol puro 96°,Alcohol en gel                                                                     1\n",
       "Bicarbonato de sodio,Alcohol medicinal 70%,Alcohol puro 96°                                                     1\n",
       "Name: count, dtype: int64"
      ]
     },
     "execution_count": 139,
     "metadata": {},
     "output_type": "execute_result"
    }
   ],
   "source": [
    "df['P28'].value_counts()"
   ]
  },
  {
   "cell_type": "markdown",
   "metadata": {},
   "source": [
    "Verificamos la pregunta 29 -> ``¿Con qué frecuencia compraba antes de la pandemia?``"
   ]
  },
  {
   "cell_type": "code",
   "execution_count": 141,
   "metadata": {},
   "outputs": [],
   "source": [
    "#Unimos las columnas para obteneruna cadena\n",
    "columnaP29= ['P29_1','P29_2','P29_3','P29_4','P29_5','P29_6','P29_7','P29_8']\n",
    "\n",
    "def combine_columns(row):\n",
    "    values = [str(row[col]) for col in columnaP29 if not pd.isna(row[col])]\n",
    "    return ','.join(values)\n",
    "\n",
    "df['P29'] = df.apply(combine_columns, axis=1)"
   ]
  },
  {
   "cell_type": "code",
   "execution_count": 142,
   "metadata": {},
   "outputs": [],
   "source": [
    "df.drop(columns=['P29_1','P29_2','P29_3','P29_4','P29_5','P29_6','P29_7','P29_8'], axis=1, inplace=True)\n"
   ]
  },
  {
   "cell_type": "code",
   "execution_count": 144,
   "metadata": {},
   "outputs": [
    {
     "name": "stdout",
     "output_type": "stream",
     "text": [
      "Palabra: 'Una vez cada 6 meses' - Conteo: 179\n",
      "Palabra: 'Una vez al año' - Conteo: 156\n",
      "Palabra: 'Una vez cada 2 o 3 meses' - Conteo: 151\n",
      "Palabra: 'Una vez al mes' - Conteo: 173\n",
      "Palabra: 'Nunca' - Conteo: 58\n",
      "Palabra: 'Con menor frecuencia' - Conteo: 59\n",
      "Palabra: '' - Conteo: 2\n",
      "Palabra: '2. Una vez a la semana' - Conteo: 29\n",
      "Palabra: 'Diario/ interdiario' - Conteo: 4\n",
      "Palabra: '2 o 3 veces por semana' - Conteo: 8\n",
      "Palabra: 'Una vez cada 15 días' - Conteo: 23\n"
     ]
    }
   ],
   "source": [
    "palabras = []\n",
    "for fila in df['P29']:\n",
    "    palabras += fila.split(',') \n",
    "\n",
    "contador_palabras = Counter(palabras)\n",
    "\n",
    "for palabra, conteo in contador_palabras.items():\n",
    "    print(f\"Palabra: '{palabra}' - Conteo: {conteo}\")"
   ]
  },
  {
   "cell_type": "code",
   "execution_count": 143,
   "metadata": {},
   "outputs": [
    {
     "data": {
      "text/plain": [
       "P29\n",
       "Una vez cada 6 meses                                                                                                        19\n",
       "Una vez al año                                                                                                              12\n",
       "Una vez cada 2 o 3 meses                                                                                                    11\n",
       "Una vez cada 2 o 3 meses,Una vez cada 2 o 3 meses                                                                           10\n",
       "Una vez al mes                                                                                                               9\n",
       "                                                                                                                            ..\n",
       "Una vez al mes,Una vez cada 6 meses,Una vez cada 2 o 3 meses,Una vez cada 2 o 3 meses,Una vez cada 6 meses                   1\n",
       "Una vez cada 6 meses,Una vez cada 6 meses,Una vez al mes                                                                     1\n",
       "Una vez cada 2 o 3 meses,Una vez cada 2 o 3 meses,Una vez cada 2 o 3 meses,Una vez cada 2 o 3 meses,Una vez cada 6 meses     1\n",
       "Una vez al mes,Una vez cada 15 días,Una vez al año                                                                           1\n",
       "2 o 3 veces por semana,2 o 3 veces por semana,2. Una vez a la semana,2. Una vez a la semana                                  1\n",
       "Name: count, Length: 176, dtype: int64"
      ]
     },
     "execution_count": 143,
     "metadata": {},
     "output_type": "execute_result"
    }
   ],
   "source": [
    "\n",
    "df['P29'].value_counts()"
   ]
  },
  {
   "cell_type": "code",
   "execution_count": 145,
   "metadata": {},
   "outputs": [],
   "source": [
    "#Unimos las columnas para obteneruna cadena\n",
    "columnaP30= ['P30_1', 'P30_2','P30_3',\t'P30_4', 'P30_5', \t'P30_6', 'P30_7','P30_8']\n",
    "\n",
    "def combine_columns(row):\n",
    "    values = [str(row[col]) for col in columnaP30 if not pd.isna(row[col])]\n",
    "    return ','.join(values)\n",
    "\n",
    "df['P30'] = df.apply(combine_columns, axis=1)"
   ]
  },
  {
   "cell_type": "code",
   "execution_count": 146,
   "metadata": {},
   "outputs": [],
   "source": [
    "df.drop(columns=['P30_1', 'P30_2','P30_3',\t'P30_4', 'P30_5', \t'P30_6', 'P30_7','P30_8'], axis=1, inplace=True)\n"
   ]
  },
  {
   "cell_type": "code",
   "execution_count": 147,
   "metadata": {},
   "outputs": [
    {
     "name": "stdout",
     "output_type": "stream",
     "text": [
      "Palabra: 'Una vez al año' - Conteo: 29\n",
      "Palabra: 'Una vez cada 6 meses' - Conteo: 55\n",
      "Palabra: 'Una vez cada 15 días' - Conteo: 160\n",
      "Palabra: 'Una vez al mes' - Conteo: 266\n",
      "Palabra: 'Una vez cada 2 o 3 meses' - Conteo: 92\n",
      "Palabra: '2. Una vez a la semana' - Conteo: 176\n",
      "Palabra: '' - Conteo: 1\n",
      "Palabra: '2 o 3 veces por semana' - Conteo: 36\n",
      "Palabra: 'Diario/ interdiario' - Conteo: 8\n",
      "Palabra: 'Con menor frecuencia' - Conteo: 23\n",
      "Palabra: 'Nunca' - Conteo: 1\n"
     ]
    }
   ],
   "source": [
    "palabras = []\n",
    "for fila in df['P30']:\n",
    "    palabras += fila.split(',') \n",
    "\n",
    "contador_palabras = Counter(palabras)\n",
    "\n",
    "for palabra, conteo in contador_palabras.items():\n",
    "    print(f\"Palabra: '{palabra}' - Conteo: {conteo}\")"
   ]
  },
  {
   "cell_type": "code",
   "execution_count": null,
   "metadata": {},
   "outputs": [
    {
     "data": {
      "text/plain": [
       "P30\n",
       "2. Una vez a la semana                                                                                                   27\n",
       "Una vez al mes                                                                                                           20\n",
       "Una vez cada 15 días                                                                                                     10\n",
       "Una vez cada 15 días,Una vez cada 15 días                                                                                 9\n",
       "Una vez al mes,Una vez al mes                                                                                             9\n",
       "                                                                                                                         ..\n",
       "2. Una vez a la semana,Una vez cada 15 días,Una vez cada 15 días                                                          1\n",
       "2. Una vez a la semana,Una vez cada 2 o 3 meses,Una vez al mes                                                            1\n",
       "Una vez cada 15 días,Una vez al mes,2 o 3 veces por semana                                                                1\n",
       "Una vez cada 15 días,Una vez al mes,2. Una vez a la semana,2. Una vez a la semana,Una vez cada 15 días,Una vez al mes     1\n",
       "Una vez cada 6 meses,2. Una vez a la semana                                                                               1\n",
       "Name: count, Length: 165, dtype: int64"
      ]
     },
     "execution_count": 276,
     "metadata": {},
     "output_type": "execute_result"
    }
   ],
   "source": [
    "df['P30'].value_counts()"
   ]
  },
  {
   "cell_type": "code",
   "execution_count": null,
   "metadata": {},
   "outputs": [
    {
     "data": {
      "text/html": [
       "<div>\n",
       "<style scoped>\n",
       "    .dataframe tbody tr th:only-of-type {\n",
       "        vertical-align: middle;\n",
       "    }\n",
       "\n",
       "    .dataframe tbody tr th {\n",
       "        vertical-align: top;\n",
       "    }\n",
       "\n",
       "    .dataframe thead th {\n",
       "        text-align: right;\n",
       "    }\n",
       "</style>\n",
       "<table border=\"1\" class=\"dataframe\">\n",
       "  <thead>\n",
       "    <tr style=\"text-align: right;\">\n",
       "      <th></th>\n",
       "      <th>P27_2</th>\n",
       "      <th>P27_3</th>\n",
       "      <th>P27_4</th>\n",
       "      <th>P27_5</th>\n",
       "      <th>P27_6</th>\n",
       "      <th>P27_7</th>\n",
       "      <th>P27_8</th>\n",
       "      <th>P28_1</th>\n",
       "      <th>P28_2</th>\n",
       "      <th>P28_3</th>\n",
       "      <th>...</th>\n",
       "      <th>P29_8</th>\n",
       "      <th>P30_1</th>\n",
       "      <th>P30_2</th>\n",
       "      <th>P30_3</th>\n",
       "      <th>P30_4</th>\n",
       "      <th>P30_5</th>\n",
       "      <th>P30_6</th>\n",
       "      <th>P30_7</th>\n",
       "      <th>P30_8</th>\n",
       "      <th>P31_1</th>\n",
       "    </tr>\n",
       "  </thead>\n",
       "  <tbody>\n",
       "    <tr>\n",
       "      <th>0</th>\n",
       "      <td>Agua azahar</td>\n",
       "      <td>Agua oxigenada</td>\n",
       "      <td>Alcohol puro 96°</td>\n",
       "      <td>Vinagre Bully (Aromático)</td>\n",
       "      <td>NaN</td>\n",
       "      <td>NaN</td>\n",
       "      <td>NaN</td>\n",
       "      <td>Alcohol puro 96°</td>\n",
       "      <td>NaN</td>\n",
       "      <td>NaN</td>\n",
       "      <td>...</td>\n",
       "      <td>Una vez al año</td>\n",
       "      <td>Una vez al año</td>\n",
       "      <td>Una vez cada 6 meses</td>\n",
       "      <td>Una vez cada 6 meses</td>\n",
       "      <td>NaN</td>\n",
       "      <td>Una vez cada 15 días</td>\n",
       "      <td>NaN</td>\n",
       "      <td>NaN</td>\n",
       "      <td>Una vez cada 6 meses</td>\n",
       "      <td>Bicarbonato de sodio</td>\n",
       "    </tr>\n",
       "    <tr>\n",
       "      <th>1</th>\n",
       "      <td>Alcohol puro 96°</td>\n",
       "      <td>NaN</td>\n",
       "      <td>NaN</td>\n",
       "      <td>NaN</td>\n",
       "      <td>NaN</td>\n",
       "      <td>NaN</td>\n",
       "      <td>NaN</td>\n",
       "      <td>Alcohol puro 96°</td>\n",
       "      <td>NaN</td>\n",
       "      <td>NaN</td>\n",
       "      <td>...</td>\n",
       "      <td>NaN</td>\n",
       "      <td>Una vez cada 15 días</td>\n",
       "      <td>NaN</td>\n",
       "      <td>NaN</td>\n",
       "      <td>NaN</td>\n",
       "      <td>Una vez al mes</td>\n",
       "      <td>NaN</td>\n",
       "      <td>NaN</td>\n",
       "      <td>NaN</td>\n",
       "      <td>Agua oxigenada</td>\n",
       "    </tr>\n",
       "    <tr>\n",
       "      <th>2</th>\n",
       "      <td>Alcohol puro 96°</td>\n",
       "      <td>NaN</td>\n",
       "      <td>NaN</td>\n",
       "      <td>NaN</td>\n",
       "      <td>NaN</td>\n",
       "      <td>NaN</td>\n",
       "      <td>NaN</td>\n",
       "      <td>Alcohol puro 96°</td>\n",
       "      <td>NaN</td>\n",
       "      <td>NaN</td>\n",
       "      <td>...</td>\n",
       "      <td>NaN</td>\n",
       "      <td>Una vez al mes</td>\n",
       "      <td>NaN</td>\n",
       "      <td>NaN</td>\n",
       "      <td>NaN</td>\n",
       "      <td>Una vez cada 15 días</td>\n",
       "      <td>NaN</td>\n",
       "      <td>NaN</td>\n",
       "      <td>NaN</td>\n",
       "      <td>Bicarbonato de sodio</td>\n",
       "    </tr>\n",
       "    <tr>\n",
       "      <th>3</th>\n",
       "      <td>Alcohol en gel</td>\n",
       "      <td>NaN</td>\n",
       "      <td>NaN</td>\n",
       "      <td>NaN</td>\n",
       "      <td>NaN</td>\n",
       "      <td>NaN</td>\n",
       "      <td>NaN</td>\n",
       "      <td>Alcohol puro 96°</td>\n",
       "      <td>Alcohol en gel</td>\n",
       "      <td>NaN</td>\n",
       "      <td>...</td>\n",
       "      <td>NaN</td>\n",
       "      <td>NaN</td>\n",
       "      <td>NaN</td>\n",
       "      <td>NaN</td>\n",
       "      <td>NaN</td>\n",
       "      <td>Una vez al mes</td>\n",
       "      <td>NaN</td>\n",
       "      <td>Una vez cada 15 días</td>\n",
       "      <td>NaN</td>\n",
       "      <td>Alcohol en gel</td>\n",
       "    </tr>\n",
       "    <tr>\n",
       "      <th>4</th>\n",
       "      <td>Agua oxigenada</td>\n",
       "      <td>Alcohol puro 96°</td>\n",
       "      <td>Alcohol en gel</td>\n",
       "      <td>NaN</td>\n",
       "      <td>NaN</td>\n",
       "      <td>NaN</td>\n",
       "      <td>NaN</td>\n",
       "      <td>Alcohol puro 96°</td>\n",
       "      <td>NaN</td>\n",
       "      <td>NaN</td>\n",
       "      <td>...</td>\n",
       "      <td>NaN</td>\n",
       "      <td>Una vez cada 2 o 3 meses</td>\n",
       "      <td>NaN</td>\n",
       "      <td>Una vez al año</td>\n",
       "      <td>NaN</td>\n",
       "      <td>Una vez al mes</td>\n",
       "      <td>NaN</td>\n",
       "      <td>Una vez cada 2 o 3 meses</td>\n",
       "      <td>NaN</td>\n",
       "      <td>Bicarbonato de sodio</td>\n",
       "    </tr>\n",
       "    <tr>\n",
       "      <th>...</th>\n",
       "      <td>...</td>\n",
       "      <td>...</td>\n",
       "      <td>...</td>\n",
       "      <td>...</td>\n",
       "      <td>...</td>\n",
       "      <td>...</td>\n",
       "      <td>...</td>\n",
       "      <td>...</td>\n",
       "      <td>...</td>\n",
       "      <td>...</td>\n",
       "      <td>...</td>\n",
       "      <td>...</td>\n",
       "      <td>...</td>\n",
       "      <td>...</td>\n",
       "      <td>...</td>\n",
       "      <td>...</td>\n",
       "      <td>...</td>\n",
       "      <td>...</td>\n",
       "      <td>...</td>\n",
       "      <td>...</td>\n",
       "      <td>...</td>\n",
       "    </tr>\n",
       "    <tr>\n",
       "      <th>295</th>\n",
       "      <td>Alcohol puro 96°</td>\n",
       "      <td>NaN</td>\n",
       "      <td>NaN</td>\n",
       "      <td>NaN</td>\n",
       "      <td>NaN</td>\n",
       "      <td>NaN</td>\n",
       "      <td>NaN</td>\n",
       "      <td>Alcohol puro 96°</td>\n",
       "      <td>NaN</td>\n",
       "      <td>NaN</td>\n",
       "      <td>...</td>\n",
       "      <td>NaN</td>\n",
       "      <td>NaN</td>\n",
       "      <td>NaN</td>\n",
       "      <td>Una vez cada 6 meses</td>\n",
       "      <td>NaN</td>\n",
       "      <td>Una vez al mes</td>\n",
       "      <td>NaN</td>\n",
       "      <td>NaN</td>\n",
       "      <td>NaN</td>\n",
       "      <td>Agua oxigenada</td>\n",
       "    </tr>\n",
       "    <tr>\n",
       "      <th>296</th>\n",
       "      <td>Alcohol medicinal 70%</td>\n",
       "      <td>NaN</td>\n",
       "      <td>NaN</td>\n",
       "      <td>NaN</td>\n",
       "      <td>NaN</td>\n",
       "      <td>NaN</td>\n",
       "      <td>NaN</td>\n",
       "      <td>Alcohol medicinal 70%</td>\n",
       "      <td>NaN</td>\n",
       "      <td>NaN</td>\n",
       "      <td>...</td>\n",
       "      <td>NaN</td>\n",
       "      <td>NaN</td>\n",
       "      <td>NaN</td>\n",
       "      <td>Una vez cada 6 meses</td>\n",
       "      <td>2. Una vez a la semana</td>\n",
       "      <td>NaN</td>\n",
       "      <td>NaN</td>\n",
       "      <td>NaN</td>\n",
       "      <td>NaN</td>\n",
       "      <td>Agua oxigenada</td>\n",
       "    </tr>\n",
       "    <tr>\n",
       "      <th>297</th>\n",
       "      <td>NaN</td>\n",
       "      <td>NaN</td>\n",
       "      <td>NaN</td>\n",
       "      <td>NaN</td>\n",
       "      <td>NaN</td>\n",
       "      <td>NaN</td>\n",
       "      <td>NaN</td>\n",
       "      <td>Alcohol puro 96°</td>\n",
       "      <td>NaN</td>\n",
       "      <td>NaN</td>\n",
       "      <td>...</td>\n",
       "      <td>NaN</td>\n",
       "      <td>NaN</td>\n",
       "      <td>NaN</td>\n",
       "      <td>NaN</td>\n",
       "      <td>NaN</td>\n",
       "      <td>Una vez al mes</td>\n",
       "      <td>NaN</td>\n",
       "      <td>NaN</td>\n",
       "      <td>NaN</td>\n",
       "      <td>Alcohol puro 96°</td>\n",
       "    </tr>\n",
       "    <tr>\n",
       "      <th>298</th>\n",
       "      <td>NaN</td>\n",
       "      <td>NaN</td>\n",
       "      <td>NaN</td>\n",
       "      <td>NaN</td>\n",
       "      <td>NaN</td>\n",
       "      <td>NaN</td>\n",
       "      <td>NaN</td>\n",
       "      <td>Alcohol puro 96°</td>\n",
       "      <td>NaN</td>\n",
       "      <td>NaN</td>\n",
       "      <td>...</td>\n",
       "      <td>NaN</td>\n",
       "      <td>NaN</td>\n",
       "      <td>NaN</td>\n",
       "      <td>NaN</td>\n",
       "      <td>NaN</td>\n",
       "      <td>Una vez cada 15 días</td>\n",
       "      <td>NaN</td>\n",
       "      <td>NaN</td>\n",
       "      <td>NaN</td>\n",
       "      <td>Alcohol puro 96°</td>\n",
       "    </tr>\n",
       "    <tr>\n",
       "      <th>299</th>\n",
       "      <td>NaN</td>\n",
       "      <td>NaN</td>\n",
       "      <td>NaN</td>\n",
       "      <td>NaN</td>\n",
       "      <td>NaN</td>\n",
       "      <td>NaN</td>\n",
       "      <td>NaN</td>\n",
       "      <td>Alcohol puro 96°</td>\n",
       "      <td>NaN</td>\n",
       "      <td>NaN</td>\n",
       "      <td>...</td>\n",
       "      <td>NaN</td>\n",
       "      <td>NaN</td>\n",
       "      <td>NaN</td>\n",
       "      <td>NaN</td>\n",
       "      <td>NaN</td>\n",
       "      <td>2. Una vez a la semana</td>\n",
       "      <td>NaN</td>\n",
       "      <td>NaN</td>\n",
       "      <td>NaN</td>\n",
       "      <td>Alcohol puro 96°</td>\n",
       "    </tr>\n",
       "  </tbody>\n",
       "</table>\n",
       "<p>300 rows × 30 columns</p>\n",
       "</div>"
      ],
      "text/plain": [
       "                     P27_2             P27_3             P27_4  \\\n",
       "0              Agua azahar    Agua oxigenada  Alcohol puro 96°   \n",
       "1         Alcohol puro 96°               NaN               NaN   \n",
       "2         Alcohol puro 96°               NaN               NaN   \n",
       "3           Alcohol en gel               NaN               NaN   \n",
       "4           Agua oxigenada  Alcohol puro 96°    Alcohol en gel   \n",
       "..                     ...               ...               ...   \n",
       "295       Alcohol puro 96°               NaN               NaN   \n",
       "296  Alcohol medicinal 70%               NaN               NaN   \n",
       "297                    NaN               NaN               NaN   \n",
       "298                    NaN               NaN               NaN   \n",
       "299                    NaN               NaN               NaN   \n",
       "\n",
       "                         P27_5 P27_6 P27_7 P27_8                  P28_1  \\\n",
       "0    Vinagre Bully (Aromático)   NaN   NaN   NaN       Alcohol puro 96°   \n",
       "1                          NaN   NaN   NaN   NaN       Alcohol puro 96°   \n",
       "2                          NaN   NaN   NaN   NaN       Alcohol puro 96°   \n",
       "3                          NaN   NaN   NaN   NaN       Alcohol puro 96°   \n",
       "4                          NaN   NaN   NaN   NaN       Alcohol puro 96°   \n",
       "..                         ...   ...   ...   ...                    ...   \n",
       "295                        NaN   NaN   NaN   NaN       Alcohol puro 96°   \n",
       "296                        NaN   NaN   NaN   NaN  Alcohol medicinal 70%   \n",
       "297                        NaN   NaN   NaN   NaN       Alcohol puro 96°   \n",
       "298                        NaN   NaN   NaN   NaN       Alcohol puro 96°   \n",
       "299                        NaN   NaN   NaN   NaN       Alcohol puro 96°   \n",
       "\n",
       "              P28_2 P28_3  ...           P29_8                     P30_1  \\\n",
       "0               NaN   NaN  ...  Una vez al año            Una vez al año   \n",
       "1               NaN   NaN  ...             NaN      Una vez cada 15 días   \n",
       "2               NaN   NaN  ...             NaN            Una vez al mes   \n",
       "3    Alcohol en gel   NaN  ...             NaN                       NaN   \n",
       "4               NaN   NaN  ...             NaN  Una vez cada 2 o 3 meses   \n",
       "..              ...   ...  ...             ...                       ...   \n",
       "295             NaN   NaN  ...             NaN                       NaN   \n",
       "296             NaN   NaN  ...             NaN                       NaN   \n",
       "297             NaN   NaN  ...             NaN                       NaN   \n",
       "298             NaN   NaN  ...             NaN                       NaN   \n",
       "299             NaN   NaN  ...             NaN                       NaN   \n",
       "\n",
       "                    P30_2                 P30_3                   P30_4  \\\n",
       "0    Una vez cada 6 meses  Una vez cada 6 meses                     NaN   \n",
       "1                     NaN                   NaN                     NaN   \n",
       "2                     NaN                   NaN                     NaN   \n",
       "3                     NaN                   NaN                     NaN   \n",
       "4                     NaN        Una vez al año                     NaN   \n",
       "..                    ...                   ...                     ...   \n",
       "295                   NaN  Una vez cada 6 meses                     NaN   \n",
       "296                   NaN  Una vez cada 6 meses  2. Una vez a la semana   \n",
       "297                   NaN                   NaN                     NaN   \n",
       "298                   NaN                   NaN                     NaN   \n",
       "299                   NaN                   NaN                     NaN   \n",
       "\n",
       "                      P30_5 P30_6                     P30_7  \\\n",
       "0      Una vez cada 15 días   NaN                       NaN   \n",
       "1            Una vez al mes   NaN                       NaN   \n",
       "2      Una vez cada 15 días   NaN                       NaN   \n",
       "3            Una vez al mes   NaN      Una vez cada 15 días   \n",
       "4            Una vez al mes   NaN  Una vez cada 2 o 3 meses   \n",
       "..                      ...   ...                       ...   \n",
       "295          Una vez al mes   NaN                       NaN   \n",
       "296                     NaN   NaN                       NaN   \n",
       "297          Una vez al mes   NaN                       NaN   \n",
       "298    Una vez cada 15 días   NaN                       NaN   \n",
       "299  2. Una vez a la semana   NaN                       NaN   \n",
       "\n",
       "                    P30_8                 P31_1  \n",
       "0    Una vez cada 6 meses  Bicarbonato de sodio  \n",
       "1                     NaN        Agua oxigenada  \n",
       "2                     NaN  Bicarbonato de sodio  \n",
       "3                     NaN        Alcohol en gel  \n",
       "4                     NaN  Bicarbonato de sodio  \n",
       "..                    ...                   ...  \n",
       "295                   NaN        Agua oxigenada  \n",
       "296                   NaN        Agua oxigenada  \n",
       "297                   NaN      Alcohol puro 96°  \n",
       "298                   NaN      Alcohol puro 96°  \n",
       "299                   NaN      Alcohol puro 96°  \n",
       "\n",
       "[300 rows x 30 columns]"
      ]
     },
     "execution_count": 37,
     "metadata": {},
     "output_type": "execute_result"
    }
   ],
   "source": [
    "cambio_consumo = df.iloc[:, 171:201]\n",
    "cambio_consumo"
   ]
  },
  {
   "cell_type": "markdown",
   "metadata": {},
   "source": [
    "Visualizamos la primera parte que son los `PRODUCTOS DE COMSUMO - HOGAR`"
   ]
  },
  {
   "cell_type": "code",
   "execution_count": null,
   "metadata": {},
   "outputs": [
    {
     "data": {
      "text/html": [
       "<div>\n",
       "<style scoped>\n",
       "    .dataframe tbody tr th:only-of-type {\n",
       "        vertical-align: middle;\n",
       "    }\n",
       "\n",
       "    .dataframe tbody tr th {\n",
       "        vertical-align: top;\n",
       "    }\n",
       "\n",
       "    .dataframe thead th {\n",
       "        text-align: right;\n",
       "    }\n",
       "</style>\n",
       "<table border=\"1\" class=\"dataframe\">\n",
       "  <thead>\n",
       "    <tr style=\"text-align: right;\">\n",
       "      <th></th>\n",
       "      <th>P31_2</th>\n",
       "      <th>P31_3</th>\n",
       "      <th>P31_4</th>\n",
       "      <th>P31_5</th>\n",
       "      <th>P31_6</th>\n",
       "      <th>P32_1_1</th>\n",
       "      <th>P32_2_1</th>\n",
       "      <th>P32_3_1</th>\n",
       "      <th>P32_3_2</th>\n",
       "      <th>P32_4_1</th>\n",
       "      <th>...</th>\n",
       "      <th>P34_1</th>\n",
       "      <th>P34_2</th>\n",
       "      <th>P34_3</th>\n",
       "      <th>P34_4</th>\n",
       "      <th>P34_5</th>\n",
       "      <th>P34_6</th>\n",
       "      <th>P34_7</th>\n",
       "      <th>P34_8</th>\n",
       "      <th>P34_NR</th>\n",
       "      <th>p159v1</th>\n",
       "    </tr>\n",
       "  </thead>\n",
       "  <tbody>\n",
       "    <tr>\n",
       "      <th>0</th>\n",
       "      <td>Agua azahar</td>\n",
       "      <td>Agua oxigenada</td>\n",
       "      <td>Alcohol puro 96°</td>\n",
       "      <td>Vinagre Bully (Aromático)</td>\n",
       "      <td>NaN</td>\n",
       "      <td>Alkofarma</td>\n",
       "      <td>Jenfarma</td>\n",
       "      <td>Jenfarma</td>\n",
       "      <td>NaN</td>\n",
       "      <td>NaN</td>\n",
       "      <td>...</td>\n",
       "      <td>1</td>\n",
       "      <td>1</td>\n",
       "      <td>1</td>\n",
       "      <td></td>\n",
       "      <td>3</td>\n",
       "      <td></td>\n",
       "      <td></td>\n",
       "      <td>1</td>\n",
       "      <td></td>\n",
       "      <td>7</td>\n",
       "    </tr>\n",
       "    <tr>\n",
       "      <th>1</th>\n",
       "      <td>Alcohol puro 96°</td>\n",
       "      <td>NaN</td>\n",
       "      <td>NaN</td>\n",
       "      <td>NaN</td>\n",
       "      <td>NaN</td>\n",
       "      <td>NaN</td>\n",
       "      <td>NaN</td>\n",
       "      <td>Jenfarma</td>\n",
       "      <td>NaN</td>\n",
       "      <td>NaN</td>\n",
       "      <td>...</td>\n",
       "      <td></td>\n",
       "      <td></td>\n",
       "      <td>1</td>\n",
       "      <td></td>\n",
       "      <td>1 botella</td>\n",
       "      <td></td>\n",
       "      <td></td>\n",
       "      <td></td>\n",
       "      <td></td>\n",
       "      <td>8</td>\n",
       "    </tr>\n",
       "    <tr>\n",
       "      <th>2</th>\n",
       "      <td>Agua oxigenada</td>\n",
       "      <td>Alcohol puro 96°</td>\n",
       "      <td>NaN</td>\n",
       "      <td>NaN</td>\n",
       "      <td>NaN</td>\n",
       "      <td>Sin marca/A granel</td>\n",
       "      <td>NaN</td>\n",
       "      <td>Sante</td>\n",
       "      <td>NaN</td>\n",
       "      <td>NaN</td>\n",
       "      <td>...</td>\n",
       "      <td>1/4 de kilo</td>\n",
       "      <td></td>\n",
       "      <td>1</td>\n",
       "      <td></td>\n",
       "      <td>1</td>\n",
       "      <td></td>\n",
       "      <td></td>\n",
       "      <td></td>\n",
       "      <td></td>\n",
       "      <td>9</td>\n",
       "    </tr>\n",
       "    <tr>\n",
       "      <th>3</th>\n",
       "      <td>NaN</td>\n",
       "      <td>NaN</td>\n",
       "      <td>NaN</td>\n",
       "      <td>NaN</td>\n",
       "      <td>NaN</td>\n",
       "      <td>NaN</td>\n",
       "      <td>NaN</td>\n",
       "      <td>NaN</td>\n",
       "      <td>NaN</td>\n",
       "      <td>NaN</td>\n",
       "      <td>...</td>\n",
       "      <td></td>\n",
       "      <td></td>\n",
       "      <td></td>\n",
       "      <td></td>\n",
       "      <td></td>\n",
       "      <td></td>\n",
       "      <td>1</td>\n",
       "      <td></td>\n",
       "      <td></td>\n",
       "      <td>10</td>\n",
       "    </tr>\n",
       "    <tr>\n",
       "      <th>4</th>\n",
       "      <td>Agua oxigenada</td>\n",
       "      <td>Alcohol puro 96°</td>\n",
       "      <td>Alcohol en gel</td>\n",
       "      <td>NaN</td>\n",
       "      <td>NaN</td>\n",
       "      <td>Sin marca/A granel</td>\n",
       "      <td>NaN</td>\n",
       "      <td>Sante</td>\n",
       "      <td>NaN</td>\n",
       "      <td>NaN</td>\n",
       "      <td>...</td>\n",
       "      <td>1</td>\n",
       "      <td></td>\n",
       "      <td>1</td>\n",
       "      <td></td>\n",
       "      <td>1</td>\n",
       "      <td></td>\n",
       "      <td>1</td>\n",
       "      <td></td>\n",
       "      <td></td>\n",
       "      <td>11</td>\n",
       "    </tr>\n",
       "    <tr>\n",
       "      <th>...</th>\n",
       "      <td>...</td>\n",
       "      <td>...</td>\n",
       "      <td>...</td>\n",
       "      <td>...</td>\n",
       "      <td>...</td>\n",
       "      <td>...</td>\n",
       "      <td>...</td>\n",
       "      <td>...</td>\n",
       "      <td>...</td>\n",
       "      <td>...</td>\n",
       "      <td>...</td>\n",
       "      <td>...</td>\n",
       "      <td>...</td>\n",
       "      <td>...</td>\n",
       "      <td>...</td>\n",
       "      <td>...</td>\n",
       "      <td>...</td>\n",
       "      <td>...</td>\n",
       "      <td>...</td>\n",
       "      <td>...</td>\n",
       "      <td>...</td>\n",
       "    </tr>\n",
       "    <tr>\n",
       "      <th>295</th>\n",
       "      <td>Alcohol puro 96°</td>\n",
       "      <td>NaN</td>\n",
       "      <td>NaN</td>\n",
       "      <td>NaN</td>\n",
       "      <td>NaN</td>\n",
       "      <td>NaN</td>\n",
       "      <td>NaN</td>\n",
       "      <td>Alkofarma</td>\n",
       "      <td>NaN</td>\n",
       "      <td>NaN</td>\n",
       "      <td>...</td>\n",
       "      <td></td>\n",
       "      <td></td>\n",
       "      <td>1</td>\n",
       "      <td></td>\n",
       "      <td>1</td>\n",
       "      <td></td>\n",
       "      <td></td>\n",
       "      <td></td>\n",
       "      <td></td>\n",
       "      <td>323</td>\n",
       "    </tr>\n",
       "    <tr>\n",
       "      <th>296</th>\n",
       "      <td>Alcohol medicinal 70°</td>\n",
       "      <td>NaN</td>\n",
       "      <td>NaN</td>\n",
       "      <td>NaN</td>\n",
       "      <td>NaN</td>\n",
       "      <td>NaN</td>\n",
       "      <td>NaN</td>\n",
       "      <td>Alkomed</td>\n",
       "      <td>NaN</td>\n",
       "      <td>Alkofarma</td>\n",
       "      <td>...</td>\n",
       "      <td></td>\n",
       "      <td></td>\n",
       "      <td>1</td>\n",
       "      <td>1</td>\n",
       "      <td></td>\n",
       "      <td></td>\n",
       "      <td></td>\n",
       "      <td></td>\n",
       "      <td></td>\n",
       "      <td>324</td>\n",
       "    </tr>\n",
       "    <tr>\n",
       "      <th>297</th>\n",
       "      <td>NaN</td>\n",
       "      <td>NaN</td>\n",
       "      <td>NaN</td>\n",
       "      <td>NaN</td>\n",
       "      <td>NaN</td>\n",
       "      <td>NaN</td>\n",
       "      <td>NaN</td>\n",
       "      <td>NaN</td>\n",
       "      <td>NaN</td>\n",
       "      <td>NaN</td>\n",
       "      <td>...</td>\n",
       "      <td></td>\n",
       "      <td></td>\n",
       "      <td></td>\n",
       "      <td></td>\n",
       "      <td>1</td>\n",
       "      <td></td>\n",
       "      <td></td>\n",
       "      <td></td>\n",
       "      <td></td>\n",
       "      <td>325</td>\n",
       "    </tr>\n",
       "    <tr>\n",
       "      <th>298</th>\n",
       "      <td>NaN</td>\n",
       "      <td>NaN</td>\n",
       "      <td>NaN</td>\n",
       "      <td>NaN</td>\n",
       "      <td>NaN</td>\n",
       "      <td>NaN</td>\n",
       "      <td>NaN</td>\n",
       "      <td>NaN</td>\n",
       "      <td>NaN</td>\n",
       "      <td>NaN</td>\n",
       "      <td>...</td>\n",
       "      <td></td>\n",
       "      <td></td>\n",
       "      <td></td>\n",
       "      <td></td>\n",
       "      <td>2</td>\n",
       "      <td></td>\n",
       "      <td></td>\n",
       "      <td></td>\n",
       "      <td></td>\n",
       "      <td>326</td>\n",
       "    </tr>\n",
       "    <tr>\n",
       "      <th>299</th>\n",
       "      <td>NaN</td>\n",
       "      <td>NaN</td>\n",
       "      <td>NaN</td>\n",
       "      <td>NaN</td>\n",
       "      <td>NaN</td>\n",
       "      <td>NaN</td>\n",
       "      <td>NaN</td>\n",
       "      <td>NaN</td>\n",
       "      <td>NaN</td>\n",
       "      <td>NaN</td>\n",
       "      <td>...</td>\n",
       "      <td></td>\n",
       "      <td></td>\n",
       "      <td></td>\n",
       "      <td></td>\n",
       "      <td>2</td>\n",
       "      <td></td>\n",
       "      <td></td>\n",
       "      <td></td>\n",
       "      <td></td>\n",
       "      <td>327</td>\n",
       "    </tr>\n",
       "  </tbody>\n",
       "</table>\n",
       "<p>300 rows × 37 columns</p>\n",
       "</div>"
      ],
      "text/plain": [
       "                     P31_2             P31_3             P31_4  \\\n",
       "0              Agua azahar    Agua oxigenada  Alcohol puro 96°   \n",
       "1         Alcohol puro 96°               NaN               NaN   \n",
       "2           Agua oxigenada  Alcohol puro 96°               NaN   \n",
       "3                      NaN               NaN               NaN   \n",
       "4           Agua oxigenada  Alcohol puro 96°    Alcohol en gel   \n",
       "..                     ...               ...               ...   \n",
       "295       Alcohol puro 96°               NaN               NaN   \n",
       "296  Alcohol medicinal 70°               NaN               NaN   \n",
       "297                    NaN               NaN               NaN   \n",
       "298                    NaN               NaN               NaN   \n",
       "299                    NaN               NaN               NaN   \n",
       "\n",
       "                         P31_5 P31_6             P32_1_1   P32_2_1    P32_3_1  \\\n",
       "0    Vinagre Bully (Aromático)   NaN           Alkofarma  Jenfarma   Jenfarma   \n",
       "1                          NaN   NaN                 NaN       NaN   Jenfarma   \n",
       "2                          NaN   NaN  Sin marca/A granel       NaN      Sante   \n",
       "3                          NaN   NaN                 NaN       NaN        NaN   \n",
       "4                          NaN   NaN  Sin marca/A granel       NaN      Sante   \n",
       "..                         ...   ...                 ...       ...        ...   \n",
       "295                        NaN   NaN                 NaN       NaN  Alkofarma   \n",
       "296                        NaN   NaN                 NaN       NaN    Alkomed   \n",
       "297                        NaN   NaN                 NaN       NaN        NaN   \n",
       "298                        NaN   NaN                 NaN       NaN        NaN   \n",
       "299                        NaN   NaN                 NaN       NaN        NaN   \n",
       "\n",
       "    P32_3_2    P32_4_1  ...        P34_1 P34_2 P34_3 P34_4      P34_5 P34_6  \\\n",
       "0       NaN        NaN  ...            1     1     1                3         \n",
       "1       NaN        NaN  ...                        1        1 botella         \n",
       "2       NaN        NaN  ...  1/4 de kilo           1                1         \n",
       "3       NaN        NaN  ...                                                   \n",
       "4       NaN        NaN  ...            1           1                1         \n",
       "..      ...        ...  ...          ...   ...   ...   ...        ...   ...   \n",
       "295     NaN        NaN  ...                        1                1         \n",
       "296     NaN  Alkofarma  ...                        1     1                    \n",
       "297     NaN        NaN  ...                                         1         \n",
       "298     NaN        NaN  ...                                         2         \n",
       "299     NaN        NaN  ...                                         2         \n",
       "\n",
       "    P34_7 P34_8  P34_NR  p159v1  \n",
       "0             1               7  \n",
       "1                             8  \n",
       "2                             9  \n",
       "3       1                    10  \n",
       "4       1                    11  \n",
       "..    ...   ...     ...     ...  \n",
       "295                         323  \n",
       "296                         324  \n",
       "297                         325  \n",
       "298                         326  \n",
       "299                         327  \n",
       "\n",
       "[300 rows x 37 columns]"
      ]
     },
     "execution_count": 38,
     "metadata": {},
     "output_type": "execute_result"
    }
   ],
   "source": [
    "consumo_hogar = df.iloc[:, 201:238]\n",
    "consumo_hogar"
   ]
  },
  {
   "cell_type": "code",
   "execution_count": null,
   "metadata": {},
   "outputs": [
    {
     "data": {
      "text/html": [
       "<div>\n",
       "<style scoped>\n",
       "    .dataframe tbody tr th:only-of-type {\n",
       "        vertical-align: middle;\n",
       "    }\n",
       "\n",
       "    .dataframe tbody tr th {\n",
       "        vertical-align: top;\n",
       "    }\n",
       "\n",
       "    .dataframe thead th {\n",
       "        text-align: right;\n",
       "    }\n",
       "</style>\n",
       "<table border=\"1\" class=\"dataframe\">\n",
       "  <thead>\n",
       "    <tr style=\"text-align: right;\">\n",
       "      <th></th>\n",
       "      <th>vpond</th>\n",
       "      <th>VPOND1</th>\n",
       "      <th>VPOND2</th>\n",
       "      <th>P5</th>\n",
       "    </tr>\n",
       "  </thead>\n",
       "  <tbody>\n",
       "    <tr>\n",
       "      <th>0</th>\n",
       "      <td>1.0</td>\n",
       "      <td>1.297614</td>\n",
       "      <td>1.111111</td>\n",
       "      <td>Spray,Botella,Con pulverizador</td>\n",
       "    </tr>\n",
       "    <tr>\n",
       "      <th>1</th>\n",
       "      <td>1.0</td>\n",
       "      <td>1.297614</td>\n",
       "      <td>1.111111</td>\n",
       "      <td>Spray,Botella</td>\n",
       "    </tr>\n",
       "    <tr>\n",
       "      <th>2</th>\n",
       "      <td>1.0</td>\n",
       "      <td>1.297614</td>\n",
       "      <td>1.111111</td>\n",
       "      <td>Botella</td>\n",
       "    </tr>\n",
       "    <tr>\n",
       "      <th>3</th>\n",
       "      <td>1.0</td>\n",
       "      <td>0.893146</td>\n",
       "      <td>0.933333</td>\n",
       "      <td>Spray,Botella</td>\n",
       "    </tr>\n",
       "    <tr>\n",
       "      <th>4</th>\n",
       "      <td>1.0</td>\n",
       "      <td>1.183471</td>\n",
       "      <td>1.230769</td>\n",
       "      <td>Spray,Botella</td>\n",
       "    </tr>\n",
       "    <tr>\n",
       "      <th>...</th>\n",
       "      <td>...</td>\n",
       "      <td>...</td>\n",
       "      <td>...</td>\n",
       "      <td>...</td>\n",
       "    </tr>\n",
       "    <tr>\n",
       "      <th>295</th>\n",
       "      <td>1.0</td>\n",
       "      <td>1.990974</td>\n",
       "      <td>1.400000</td>\n",
       "      <td>Spray,Botella</td>\n",
       "    </tr>\n",
       "    <tr>\n",
       "      <th>296</th>\n",
       "      <td>1.0</td>\n",
       "      <td>0.943324</td>\n",
       "      <td>0.954545</td>\n",
       "      <td>Botella</td>\n",
       "    </tr>\n",
       "    <tr>\n",
       "      <th>297</th>\n",
       "      <td>1.0</td>\n",
       "      <td>0.810299</td>\n",
       "      <td>0.800000</td>\n",
       "      <td>Spray,Botella,Con pulverizador</td>\n",
       "    </tr>\n",
       "    <tr>\n",
       "      <th>298</th>\n",
       "      <td>1.0</td>\n",
       "      <td>0.772890</td>\n",
       "      <td>0.933333</td>\n",
       "      <td>Spray,Botella</td>\n",
       "    </tr>\n",
       "    <tr>\n",
       "      <th>299</th>\n",
       "      <td>1.0</td>\n",
       "      <td>0.840600</td>\n",
       "      <td>0.863636</td>\n",
       "      <td>Spray,Botella</td>\n",
       "    </tr>\n",
       "  </tbody>\n",
       "</table>\n",
       "<p>300 rows × 4 columns</p>\n",
       "</div>"
      ],
      "text/plain": [
       "     vpond    VPOND1    VPOND2                              P5\n",
       "0      1.0  1.297614  1.111111  Spray,Botella,Con pulverizador\n",
       "1      1.0  1.297614  1.111111                   Spray,Botella\n",
       "2      1.0  1.297614  1.111111                         Botella\n",
       "3      1.0  0.893146  0.933333                   Spray,Botella\n",
       "4      1.0  1.183471  1.230769                   Spray,Botella\n",
       "..     ...       ...       ...                             ...\n",
       "295    1.0  1.990974  1.400000                   Spray,Botella\n",
       "296    1.0  0.943324  0.954545                         Botella\n",
       "297    1.0  0.810299  0.800000  Spray,Botella,Con pulverizador\n",
       "298    1.0  0.772890  0.933333                   Spray,Botella\n",
       "299    1.0  0.840600  0.863636                   Spray,Botella\n",
       "\n",
       "[300 rows x 4 columns]"
      ]
     },
     "execution_count": 39,
     "metadata": {},
     "output_type": "execute_result"
    }
   ],
   "source": [
    "dat = df.iloc[:, 238:]\n",
    "dat"
   ]
  },
  {
   "cell_type": "code",
   "execution_count": 148,
   "metadata": {},
   "outputs": [
    {
     "data": {
      "text/html": [
       "<div>\n",
       "<style scoped>\n",
       "    .dataframe tbody tr th:only-of-type {\n",
       "        vertical-align: middle;\n",
       "    }\n",
       "\n",
       "    .dataframe tbody tr th {\n",
       "        vertical-align: top;\n",
       "    }\n",
       "\n",
       "    .dataframe thead th {\n",
       "        text-align: right;\n",
       "    }\n",
       "</style>\n",
       "<table border=\"1\" class=\"dataframe\">\n",
       "  <thead>\n",
       "    <tr style=\"text-align: right;\">\n",
       "      <th></th>\n",
       "      <th>caso</th>\n",
       "      <th>FILTRO_A</th>\n",
       "      <th>FILTRO_B</th>\n",
       "      <th>FILTRO_C</th>\n",
       "      <th>FILTRO_C2</th>\n",
       "      <th>NSE</th>\n",
       "      <th>NSE2</th>\n",
       "      <th>P1</th>\n",
       "      <th>P2</th>\n",
       "      <th>P3</th>\n",
       "      <th>...</th>\n",
       "      <th>P12</th>\n",
       "      <th>P15</th>\n",
       "      <th>P16</th>\n",
       "      <th>P17</th>\n",
       "      <th>P23</th>\n",
       "      <th>P26</th>\n",
       "      <th>P27</th>\n",
       "      <th>P28</th>\n",
       "      <th>P29</th>\n",
       "      <th>P30</th>\n",
       "    </tr>\n",
       "  </thead>\n",
       "  <tbody>\n",
       "    <tr>\n",
       "      <th>0</th>\n",
       "      <td>1.0</td>\n",
       "      <td>No</td>\n",
       "      <td>Sí</td>\n",
       "      <td>39.0</td>\n",
       "      <td>36 a 45 años</td>\n",
       "      <td>NSE C1</td>\n",
       "      <td>C1</td>\n",
       "      <td>Masculino</td>\n",
       "      <td>San Juan de Lurigancho</td>\n",
       "      <td>Trabajador dependiente</td>\n",
       "      <td>...</td>\n",
       "      <td>Porque es de una marca reconocida</td>\n",
       "      <td>Casa Grande</td>\n",
       "      <td>Jemfarma,Casa Grande</td>\n",
       "      <td>Casa Grande</td>\n",
       "      <td></td>\n",
       "      <td></td>\n",
       "      <td>Bicarbonato de sodio,Agua azahar,Agua oxigenad...</td>\n",
       "      <td>Alcohol puro 96°</td>\n",
       "      <td>Una vez cada 6 meses,Una vez al año,Una vez ca...</td>\n",
       "      <td>Una vez al año,Una vez cada 6 meses,Una vez ca...</td>\n",
       "    </tr>\n",
       "    <tr>\n",
       "      <th>1</th>\n",
       "      <td>2.0</td>\n",
       "      <td>No</td>\n",
       "      <td>Sí</td>\n",
       "      <td>41.0</td>\n",
       "      <td>36 a 45 años</td>\n",
       "      <td>NSE C1</td>\n",
       "      <td>C1</td>\n",
       "      <td>Masculino</td>\n",
       "      <td>San Juan de Lurigancho</td>\n",
       "      <td>Trabajador dependiente</td>\n",
       "      <td>...</td>\n",
       "      <td>Porque desinfecta (mata gérmenes y bacterias),...</td>\n",
       "      <td>Jemfarma,Alkofarma,Boreal</td>\n",
       "      <td>Jemfarma,Boreal,Hersil,Alkofarma</td>\n",
       "      <td>Jemfarma,Boreal</td>\n",
       "      <td>Porque no tenia buen aroma/su olor no es intenso</td>\n",
       "      <td>Alcohol,Gel</td>\n",
       "      <td>Bicarbonato de sodio,Alcohol puro 96°</td>\n",
       "      <td>Alcohol puro 96°</td>\n",
       "      <td>Una vez al mes,Una vez cada 2 o 3 meses</td>\n",
       "      <td>Una vez cada 15 días,Una vez al mes</td>\n",
       "    </tr>\n",
       "    <tr>\n",
       "      <th>2</th>\n",
       "      <td>3.0</td>\n",
       "      <td>No</td>\n",
       "      <td>Sí</td>\n",
       "      <td>43.0</td>\n",
       "      <td>36 a 45 años</td>\n",
       "      <td>NSE C1</td>\n",
       "      <td>C1</td>\n",
       "      <td>Masculino</td>\n",
       "      <td>San Juan de Lurigancho</td>\n",
       "      <td>Trabajador dependiente</td>\n",
       "      <td>...</td>\n",
       "      <td>Porque no me da inconvenientes,Porque puedo de...</td>\n",
       "      <td>Ninguna</td>\n",
       "      <td>Erza,Purol</td>\n",
       "      <td>Purol</td>\n",
       "      <td></td>\n",
       "      <td></td>\n",
       "      <td>Bicarbonato de sodio,Alcohol puro 96°</td>\n",
       "      <td>Alcohol puro 96°</td>\n",
       "      <td>Una vez cada 2 o 3 meses,Una vez al año</td>\n",
       "      <td>Una vez al mes,Una vez cada 15 días</td>\n",
       "    </tr>\n",
       "    <tr>\n",
       "      <th>3</th>\n",
       "      <td>4.0</td>\n",
       "      <td>No</td>\n",
       "      <td>Sí</td>\n",
       "      <td>51.0</td>\n",
       "      <td>46 a 55 años</td>\n",
       "      <td>NSE B2</td>\n",
       "      <td>B2</td>\n",
       "      <td>Masculino</td>\n",
       "      <td>Comas</td>\n",
       "      <td>Trabajador dependiente</td>\n",
       "      <td>...</td>\n",
       "      <td>Porque desinfecta (mata gérmenes y bacterias),...</td>\n",
       "      <td>Ninguna</td>\n",
       "      <td>Hersil</td>\n",
       "      <td>Hersil</td>\n",
       "      <td></td>\n",
       "      <td>No precisa</td>\n",
       "      <td>Alcohol puro 96°,Alcohol en gel</td>\n",
       "      <td>Alcohol puro 96°,Alcohol en gel</td>\n",
       "      <td>Una vez al año,Una vez cada 6 meses,Nunca</td>\n",
       "      <td>Una vez al mes,Una vez cada 15 días</td>\n",
       "    </tr>\n",
       "    <tr>\n",
       "      <th>4</th>\n",
       "      <td>5.0</td>\n",
       "      <td>No</td>\n",
       "      <td>Sí</td>\n",
       "      <td>51.0</td>\n",
       "      <td>46 a 55 años</td>\n",
       "      <td>NSE C1</td>\n",
       "      <td>C1</td>\n",
       "      <td>Femenino</td>\n",
       "      <td>Lima</td>\n",
       "      <td>Trabajador independiente</td>\n",
       "      <td>...</td>\n",
       "      <td>Porque no irrita la piel</td>\n",
       "      <td>Ninguna</td>\n",
       "      <td>Ninguno [NN</td>\n",
       "      <td>No precisa [NN</td>\n",
       "      <td></td>\n",
       "      <td></td>\n",
       "      <td>Bicarbonato de sodio,Agua oxigenada,Alcohol pu...</td>\n",
       "      <td>Alcohol puro 96°</td>\n",
       "      <td>Una vez al año,Una vez al año,Nunca</td>\n",
       "      <td>Una vez cada 2 o 3 meses,Una vez al año,Una ve...</td>\n",
       "    </tr>\n",
       "    <tr>\n",
       "      <th>...</th>\n",
       "      <td>...</td>\n",
       "      <td>...</td>\n",
       "      <td>...</td>\n",
       "      <td>...</td>\n",
       "      <td>...</td>\n",
       "      <td>...</td>\n",
       "      <td>...</td>\n",
       "      <td>...</td>\n",
       "      <td>...</td>\n",
       "      <td>...</td>\n",
       "      <td>...</td>\n",
       "      <td>...</td>\n",
       "      <td>...</td>\n",
       "      <td>...</td>\n",
       "      <td>...</td>\n",
       "      <td>...</td>\n",
       "      <td>...</td>\n",
       "      <td>...</td>\n",
       "      <td>...</td>\n",
       "      <td>...</td>\n",
       "      <td>...</td>\n",
       "    </tr>\n",
       "    <tr>\n",
       "      <th>295</th>\n",
       "      <td>296.0</td>\n",
       "      <td>No</td>\n",
       "      <td>Sí</td>\n",
       "      <td>52.0</td>\n",
       "      <td>46 a 55 años</td>\n",
       "      <td>NSE B1</td>\n",
       "      <td>B1</td>\n",
       "      <td>Masculino</td>\n",
       "      <td>Villa el Salvador</td>\n",
       "      <td>Trabajador independiente</td>\n",
       "      <td>...</td>\n",
       "      <td>Porque desinfecta (mata gérmenes y bacterias),...</td>\n",
       "      <td>Alkofarma,Aval</td>\n",
       "      <td>Alkofarma,Casa Grande,Purol,Don Emilio,Aval</td>\n",
       "      <td>Alkofarma,Casa Grande,Don Emilio</td>\n",
       "      <td>Irrita la piel</td>\n",
       "      <td>Alcohol liquido,Alcohol en gel</td>\n",
       "      <td>Agua oxigenada,Alcohol puro 96°</td>\n",
       "      <td>Alcohol puro 96°</td>\n",
       "      <td>Una vez cada 6 meses,Una vez cada 6 meses</td>\n",
       "      <td>Una vez cada 6 meses,Una vez al mes</td>\n",
       "    </tr>\n",
       "    <tr>\n",
       "      <th>296</th>\n",
       "      <td>297.0</td>\n",
       "      <td>No</td>\n",
       "      <td>Sí</td>\n",
       "      <td>39.0</td>\n",
       "      <td>36 a 45 años</td>\n",
       "      <td>NSE D</td>\n",
       "      <td>D</td>\n",
       "      <td>Femenino</td>\n",
       "      <td>San Juan de Lurigancho</td>\n",
       "      <td>Su casa</td>\n",
       "      <td>...</td>\n",
       "      <td>Porque no irrita la piel,Porque es puro</td>\n",
       "      <td>Alkofarma,Casa Grande,Experto</td>\n",
       "      <td>Alkofarma,Jemfarma,Casa Grande,Coderal,Boreal,...</td>\n",
       "      <td>Alkofarma,Casa Grande,Boreal</td>\n",
       "      <td></td>\n",
       "      <td>Alcohol,Agua oxigenada,Agua de azahar,Alcohol ...</td>\n",
       "      <td>Agua oxigenada,Alcohol medicinal 70%</td>\n",
       "      <td>Alcohol medicinal 70%</td>\n",
       "      <td>2. Una vez a la semana,Una vez cada 6 meses</td>\n",
       "      <td>Una vez cada 6 meses,2. Una vez a la semana</td>\n",
       "    </tr>\n",
       "    <tr>\n",
       "      <th>297</th>\n",
       "      <td>298.0</td>\n",
       "      <td>No</td>\n",
       "      <td>Sí</td>\n",
       "      <td>36.0</td>\n",
       "      <td>36 a 45 años</td>\n",
       "      <td>NSE D</td>\n",
       "      <td>D</td>\n",
       "      <td>Femenino</td>\n",
       "      <td>Callao</td>\n",
       "      <td>Su casa</td>\n",
       "      <td>...</td>\n",
       "      <td>Porque tiene buen aroma / se siente el alcohol...</td>\n",
       "      <td>Ninguna</td>\n",
       "      <td>Ninguno [NN</td>\n",
       "      <td>No precisa [NN</td>\n",
       "      <td></td>\n",
       "      <td></td>\n",
       "      <td>Alcohol puro 96°</td>\n",
       "      <td>Alcohol puro 96°</td>\n",
       "      <td>Una vez cada 6 meses,Una vez al año</td>\n",
       "      <td>Una vez al mes</td>\n",
       "    </tr>\n",
       "    <tr>\n",
       "      <th>298</th>\n",
       "      <td>299.0</td>\n",
       "      <td>No</td>\n",
       "      <td>Sí</td>\n",
       "      <td>42.0</td>\n",
       "      <td>36 a 45 años</td>\n",
       "      <td>NSE D</td>\n",
       "      <td>D</td>\n",
       "      <td>Masculino</td>\n",
       "      <td>Lima</td>\n",
       "      <td>Trabajador independiente</td>\n",
       "      <td>...</td>\n",
       "      <td>Porque es puro,Porque es de 96%</td>\n",
       "      <td>Ninguna</td>\n",
       "      <td>Alkofarma,Casa Grande</td>\n",
       "      <td>Alkofarma,Casa Grande</td>\n",
       "      <td></td>\n",
       "      <td>Alcohol,Agua de azahar</td>\n",
       "      <td>Alcohol puro 96°</td>\n",
       "      <td>Alcohol puro 96°</td>\n",
       "      <td>Una vez cada 2 o 3 meses</td>\n",
       "      <td>Una vez cada 15 días</td>\n",
       "    </tr>\n",
       "    <tr>\n",
       "      <th>299</th>\n",
       "      <td>300.0</td>\n",
       "      <td>No</td>\n",
       "      <td>Sí</td>\n",
       "      <td>30.0</td>\n",
       "      <td>25 a 35 años</td>\n",
       "      <td>NSE D</td>\n",
       "      <td>D</td>\n",
       "      <td>Femenino</td>\n",
       "      <td>Carabayllo</td>\n",
       "      <td>Su casa</td>\n",
       "      <td>...</td>\n",
       "      <td>Porque desinfecta (mata gérmenes y bacterias),...</td>\n",
       "      <td>Casa Grande</td>\n",
       "      <td>Casa Grande</td>\n",
       "      <td>Casa Grande</td>\n",
       "      <td></td>\n",
       "      <td></td>\n",
       "      <td>Alcohol puro 96°</td>\n",
       "      <td>Alcohol puro 96°</td>\n",
       "      <td>Una vez al mes</td>\n",
       "      <td>2. Una vez a la semana</td>\n",
       "    </tr>\n",
       "  </tbody>\n",
       "</table>\n",
       "<p>300 rows × 164 columns</p>\n",
       "</div>"
      ],
      "text/plain": [
       "      caso FILTRO_A FILTRO_B  FILTRO_C     FILTRO_C2     NSE NSE2         P1  \\\n",
       "0      1.0       No       Sí      39.0  36 a 45 años  NSE C1   C1  Masculino   \n",
       "1      2.0       No       Sí      41.0  36 a 45 años  NSE C1   C1  Masculino   \n",
       "2      3.0       No       Sí      43.0  36 a 45 años  NSE C1   C1  Masculino   \n",
       "3      4.0       No       Sí      51.0  46 a 55 años  NSE B2   B2  Masculino   \n",
       "4      5.0       No       Sí      51.0  46 a 55 años  NSE C1   C1   Femenino   \n",
       "..     ...      ...      ...       ...           ...     ...  ...        ...   \n",
       "295  296.0       No       Sí      52.0  46 a 55 años  NSE B1   B1  Masculino   \n",
       "296  297.0       No       Sí      39.0  36 a 45 años   NSE D    D   Femenino   \n",
       "297  298.0       No       Sí      36.0  36 a 45 años   NSE D    D   Femenino   \n",
       "298  299.0       No       Sí      42.0  36 a 45 años   NSE D    D  Masculino   \n",
       "299  300.0       No       Sí      30.0  25 a 35 años   NSE D    D   Femenino   \n",
       "\n",
       "                         P2                        P3  ...  \\\n",
       "0    San Juan de Lurigancho    Trabajador dependiente  ...   \n",
       "1    San Juan de Lurigancho    Trabajador dependiente  ...   \n",
       "2    San Juan de Lurigancho    Trabajador dependiente  ...   \n",
       "3                     Comas    Trabajador dependiente  ...   \n",
       "4                      Lima  Trabajador independiente  ...   \n",
       "..                      ...                       ...  ...   \n",
       "295       Villa el Salvador  Trabajador independiente  ...   \n",
       "296  San Juan de Lurigancho                   Su casa  ...   \n",
       "297                  Callao                   Su casa  ...   \n",
       "298                    Lima  Trabajador independiente  ...   \n",
       "299              Carabayllo                   Su casa  ...   \n",
       "\n",
       "                                                   P12  \\\n",
       "0                    Porque es de una marca reconocida   \n",
       "1    Porque desinfecta (mata gérmenes y bacterias),...   \n",
       "2    Porque no me da inconvenientes,Porque puedo de...   \n",
       "3    Porque desinfecta (mata gérmenes y bacterias),...   \n",
       "4                             Porque no irrita la piel   \n",
       "..                                                 ...   \n",
       "295  Porque desinfecta (mata gérmenes y bacterias),...   \n",
       "296            Porque no irrita la piel,Porque es puro   \n",
       "297  Porque tiene buen aroma / se siente el alcohol...   \n",
       "298                    Porque es puro,Porque es de 96%   \n",
       "299  Porque desinfecta (mata gérmenes y bacterias),...   \n",
       "\n",
       "                               P15  \\\n",
       "0                      Casa Grande   \n",
       "1        Jemfarma,Alkofarma,Boreal   \n",
       "2                          Ninguna   \n",
       "3                          Ninguna   \n",
       "4                          Ninguna   \n",
       "..                             ...   \n",
       "295                 Alkofarma,Aval   \n",
       "296  Alkofarma,Casa Grande,Experto   \n",
       "297                        Ninguna   \n",
       "298                        Ninguna   \n",
       "299                    Casa Grande   \n",
       "\n",
       "                                                   P16  \\\n",
       "0                                 Jemfarma,Casa Grande   \n",
       "1                     Jemfarma,Boreal,Hersil,Alkofarma   \n",
       "2                                           Erza,Purol   \n",
       "3                                               Hersil   \n",
       "4                                          Ninguno [NN   \n",
       "..                                                 ...   \n",
       "295        Alkofarma,Casa Grande,Purol,Don Emilio,Aval   \n",
       "296  Alkofarma,Jemfarma,Casa Grande,Coderal,Boreal,...   \n",
       "297                                        Ninguno [NN   \n",
       "298                              Alkofarma,Casa Grande   \n",
       "299                                        Casa Grande   \n",
       "\n",
       "                                  P17  \\\n",
       "0                         Casa Grande   \n",
       "1                     Jemfarma,Boreal   \n",
       "2                               Purol   \n",
       "3                              Hersil   \n",
       "4                      No precisa [NN   \n",
       "..                                ...   \n",
       "295  Alkofarma,Casa Grande,Don Emilio   \n",
       "296      Alkofarma,Casa Grande,Boreal   \n",
       "297                    No precisa [NN   \n",
       "298             Alkofarma,Casa Grande   \n",
       "299                       Casa Grande   \n",
       "\n",
       "                                                  P23  \\\n",
       "0                                                       \n",
       "1    Porque no tenia buen aroma/su olor no es intenso   \n",
       "2                                                       \n",
       "3                                                       \n",
       "4                                                       \n",
       "..                                                ...   \n",
       "295                                    Irrita la piel   \n",
       "296                                                     \n",
       "297                                                     \n",
       "298                                                     \n",
       "299                                                     \n",
       "\n",
       "                                                   P26  \\\n",
       "0                                                        \n",
       "1                                          Alcohol,Gel   \n",
       "2                                                        \n",
       "3                                           No precisa   \n",
       "4                                                        \n",
       "..                                                 ...   \n",
       "295                     Alcohol liquido,Alcohol en gel   \n",
       "296  Alcohol,Agua oxigenada,Agua de azahar,Alcohol ...   \n",
       "297                                                      \n",
       "298                             Alcohol,Agua de azahar   \n",
       "299                                                      \n",
       "\n",
       "                                                   P27  \\\n",
       "0    Bicarbonato de sodio,Agua azahar,Agua oxigenad...   \n",
       "1                Bicarbonato de sodio,Alcohol puro 96°   \n",
       "2                Bicarbonato de sodio,Alcohol puro 96°   \n",
       "3                      Alcohol puro 96°,Alcohol en gel   \n",
       "4    Bicarbonato de sodio,Agua oxigenada,Alcohol pu...   \n",
       "..                                                 ...   \n",
       "295                    Agua oxigenada,Alcohol puro 96°   \n",
       "296               Agua oxigenada,Alcohol medicinal 70%   \n",
       "297                                   Alcohol puro 96°   \n",
       "298                                   Alcohol puro 96°   \n",
       "299                                   Alcohol puro 96°   \n",
       "\n",
       "                                 P28  \\\n",
       "0                   Alcohol puro 96°   \n",
       "1                   Alcohol puro 96°   \n",
       "2                   Alcohol puro 96°   \n",
       "3    Alcohol puro 96°,Alcohol en gel   \n",
       "4                   Alcohol puro 96°   \n",
       "..                               ...   \n",
       "295                 Alcohol puro 96°   \n",
       "296            Alcohol medicinal 70%   \n",
       "297                 Alcohol puro 96°   \n",
       "298                 Alcohol puro 96°   \n",
       "299                 Alcohol puro 96°   \n",
       "\n",
       "                                                   P29  \\\n",
       "0    Una vez cada 6 meses,Una vez al año,Una vez ca...   \n",
       "1              Una vez al mes,Una vez cada 2 o 3 meses   \n",
       "2              Una vez cada 2 o 3 meses,Una vez al año   \n",
       "3            Una vez al año,Una vez cada 6 meses,Nunca   \n",
       "4                  Una vez al año,Una vez al año,Nunca   \n",
       "..                                                 ...   \n",
       "295          Una vez cada 6 meses,Una vez cada 6 meses   \n",
       "296        2. Una vez a la semana,Una vez cada 6 meses   \n",
       "297                Una vez cada 6 meses,Una vez al año   \n",
       "298                           Una vez cada 2 o 3 meses   \n",
       "299                                     Una vez al mes   \n",
       "\n",
       "                                                   P30  \n",
       "0    Una vez al año,Una vez cada 6 meses,Una vez ca...  \n",
       "1                  Una vez cada 15 días,Una vez al mes  \n",
       "2                  Una vez al mes,Una vez cada 15 días  \n",
       "3                  Una vez al mes,Una vez cada 15 días  \n",
       "4    Una vez cada 2 o 3 meses,Una vez al año,Una ve...  \n",
       "..                                                 ...  \n",
       "295                Una vez cada 6 meses,Una vez al mes  \n",
       "296        Una vez cada 6 meses,2. Una vez a la semana  \n",
       "297                                     Una vez al mes  \n",
       "298                               Una vez cada 15 días  \n",
       "299                             2. Una vez a la semana  \n",
       "\n",
       "[300 rows x 164 columns]"
      ]
     },
     "execution_count": 148,
     "metadata": {},
     "output_type": "execute_result"
    }
   ],
   "source": [
    "df"
   ]
  },
  {
   "cell_type": "code",
   "execution_count": 149,
   "metadata": {},
   "outputs": [],
   "source": [
    "df.to_csv('BBDD Alcohol_Limpio.csv', index=False)"
   ]
  }
 ],
 "metadata": {
  "kernelspec": {
   "display_name": "Python 3",
   "language": "python",
   "name": "python3"
  },
  "language_info": {
   "codemirror_mode": {
    "name": "ipython",
    "version": 3
   },
   "file_extension": ".py",
   "mimetype": "text/x-python",
   "name": "python",
   "nbconvert_exporter": "python",
   "pygments_lexer": "ipython3",
   "version": "3.11.7"
  }
 },
 "nbformat": 4,
 "nbformat_minor": 2
}
